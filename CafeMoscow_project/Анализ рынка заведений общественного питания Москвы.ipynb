{
 "cells": [
  {
   "cell_type": "markdown",
   "id": "9e9f4d35",
   "metadata": {},
   "source": [
    "# Анализ рынка заведений общественного питания Москвы"
   ]
  },
  {
   "cell_type": "markdown",
   "id": "1e985510",
   "metadata": {},
   "source": [
    "**Цель исследования**: произвести анализ текущего положения дела на рынке общепита Москвы для обоснования возможности открытия нового заведения.\n",
    "\n",
    "**Ход исследования**\n",
    "\n",
    "Входные данные находятся в файле `rest_data.csv`. О качестве данных ничего не известно, поэтому перед исследованием понадобится обзор данных. \n",
    "\n",
    "Необходимо проверить данные на ошибки и оценить их влияние на исследование. Затем, на этапе предобработки найти возможность исправить самые критичные ошибки данных. \n",
    "\n",
    "Таким образом, исследование пройдёт в четыре этапа:\n",
    " 1. [Обзор данных](1)\n",
    " 2. [Предобработка данных](2)\n",
    " 3. [Исследовательский анализ данных](3):         \n",
    "     - [Распределение заведений по типу объекта](4)\n",
    "     - [Распределение заведений по характеристике \"сетевой-несетевой\"](5)\n",
    "     - [Среднее количество посадочных мест по объектам](6)\n",
    "     - [Улицы с самым большим количеством заведений](7)\n",
    "     - [Улицы с одним заведением](8)\n",
    "     - [Исследование сетевых заведений](9)\n",
    "     - [Графическое изображение кластеров с заведениями на карте](10)\n",
    "\n",
    "\n",
    " 4. [Вывод](11)\n",
    "\n",
    "        "
   ]
  },
  {
   "cell_type": "code",
   "execution_count": 2,
   "id": "cba71714",
   "metadata": {},
   "outputs": [],
   "source": [
    "#Импорт используемых в работе библиотек\n",
    "\n",
    "import pandas as pd \n",
    "import os \n",
    "import matplotlib.pyplot as plt \n",
    "import seaborn as sns \n",
    "import numpy as np \n",
    "import plotly.express as px \n",
    "import folium \n",
    "import geopandas \n",
    "import geopy \n",
    "import csv \n",
    "pd.set_option('float_format', '{:f}'.format) \n",
    "from geopy.geocoders import Nominatim\n",
    "from folium.plugins import MarkerCluster\n",
    "from folium.plugins import HeatMap\n",
    "from matplotlib import rcParams\n",
    "from plotly import graph_objects as go\n",
    "from io import BytesIO\n",
    "import requests\n",
    "from fuzzywuzzy import fuzz\n",
    "pd.set_option('display.max_colwidth', None)\n",
    "from plotly.offline import iplot\n",
    "from functools import partial\n",
    "import time\n",
    "import re\n",
    "from ast import literal_eval\n",
    "#pd.options.mode.chained_assignment = None"
   ]
  },
  {
   "cell_type": "code",
   "execution_count": 79,
   "id": "7fa3b195",
   "metadata": {},
   "outputs": [],
   "source": [
    "#Чтение файла с сохранением в датафрейм\n",
    "\n",
    "if os.path.exists(r'C:\\Users\\abagapov\\Downloads\\rest_data.csv'):\n",
    "    df = pd.read_csv(r'C:\\Users\\abagapov\\Downloads\\rest_data.csv')\n",
    "else:\n",
    "    df = pd.read_csv('/datasets/rest_data.csv')\n",
    "    \n",
    "spreadsheet_id = '1DUEaGG6svT6_EZIZsXz8gswBulxf0_QEqZz8h6dDhHE'\n",
    "url = 'https://docs.google.com/spreadsheets/d/{}/export?format=csv'.format(spreadsheet_id)\n",
    "df_districts = pd.read_csv(url)"
   ]
  },
  {
   "cell_type": "code",
   "execution_count": 80,
   "id": "487cb13b",
   "metadata": {},
   "outputs": [],
   "source": [
    "def first_view(df):\n",
    "    '''\n",
    "    Общее представление о датасете\n",
    "    '''\n",
    "    print('*'*50)\n",
    "    print('Общая информация о датасете:')\n",
    "    print('*'*50)\n",
    "    df.info('*'*50) \n",
    "    print('*'*50)\n",
    "    print('Пять случайных строк таблицы:')\n",
    "    display(df.sample(5, random_state=42)) \n",
    "    print('*'*50)\n",
    "    print('Статистические параметры таблицы:')\n",
    "    display(df.describe())\n",
    "    print('*'*50)\n",
    "    print('Количество пустых значений:')\n",
    "    display(pd.DataFrame(df.isna().sum()).style.background_gradient('coolwarm')) \n",
    "    print('*'*50)\n",
    "    print('Доля пропусков в столбцах:')\n",
    "    display(pd.DataFrame(df.isna().mean()).style.background_gradient('coolwarm'))\n",
    "    print('*'*50)\n",
    "    print('Количество полных дубликатов:')\n",
    "    print(df.duplicated().sum()) \n",
    "    print('*'*50)"
   ]
  },
  {
   "cell_type": "code",
   "execution_count": 81,
   "id": "ca2cb53d",
   "metadata": {},
   "outputs": [],
   "source": [
    "# Функция для получения координат объекта\n",
    "\n",
    "geolocator = Nominatim(user_agent=\"my_fancy_application\")\n",
    "\n",
    "direct = partial(geolocator.geocode, language=\"ru\")\n",
    "reverse = partial(geolocator.reverse, language=\"ru\")\n",
    "\n",
    "\n",
    "def get_lat_lng_district(address, street, direct, reverse):\n",
    "    \n",
    "    '''\n",
    "    Функция для получения координат объекта\n",
    "    '''\n",
    "    \n",
    "    time.sleep(1)\n",
    "        \n",
    "    try:\n",
    "        house = re.search(', дом (\\d+)', address).group(1)\n",
    "        \n",
    "    except Exception:\n",
    "        house = None\n",
    "        \n",
    "    location = direct({'city' : 'Москва', 'street' : f\"{street} {house}\"})\n",
    "    \n",
    "    \n",
    "    if location is None:\n",
    "        return [None, None, None]\n",
    "    lat = location.latitude\n",
    "    lng = location.longitude\n",
    "    \n",
    "    time.sleep(1)\n",
    "        \n",
    "    try:\n",
    "        district = reverse(f\"{lat}, {lng}\").raw['address']['suburb']\n",
    "    except KeyError:\n",
    "        district = None\n",
    "    \n",
    "    return lat, lng, district\n"
   ]
  },
  {
   "cell_type": "markdown",
   "id": "f1130c54",
   "metadata": {},
   "source": [
    "## Обзор данных <a id='1'></a>"
   ]
  },
  {
   "cell_type": "code",
   "execution_count": 82,
   "id": "16eec48a",
   "metadata": {
    "scrolled": false
   },
   "outputs": [
    {
     "name": "stdout",
     "output_type": "stream",
     "text": [
      "**************************************************\n",
      "Общая информация о датасете:\n",
      "**************************************************\n",
      "<class 'pandas.core.frame.DataFrame'>\n",
      "RangeIndex: 15366 entries, 0 to 15365\n",
      "Data columns (total 6 columns):\n",
      " #   Column       Non-Null Count  Dtype \n",
      "---  ------       --------------  ----- \n",
      " 0   id           15366 non-null  int64 \n",
      " 1   object_name  15366 non-null  object\n",
      " 2   chain        15366 non-null  object\n",
      " 3   object_type  15366 non-null  object\n",
      " 4   address      15366 non-null  object\n",
      " 5   number       15366 non-null  int64 \n",
      "dtypes: int64(2), object(4)\n",
      "memory usage: 720.4+ KB\n",
      "**************************************************\n",
      "Пять случайных строк таблицы:\n"
     ]
    },
    {
     "data": {
      "text/html": [
       "<div>\n",
       "<style scoped>\n",
       "    .dataframe tbody tr th:only-of-type {\n",
       "        vertical-align: middle;\n",
       "    }\n",
       "\n",
       "    .dataframe tbody tr th {\n",
       "        vertical-align: top;\n",
       "    }\n",
       "\n",
       "    .dataframe thead th {\n",
       "        text-align: right;\n",
       "    }\n",
       "</style>\n",
       "<table border=\"1\" class=\"dataframe\">\n",
       "  <thead>\n",
       "    <tr style=\"text-align: right;\">\n",
       "      <th></th>\n",
       "      <th>id</th>\n",
       "      <th>object_name</th>\n",
       "      <th>chain</th>\n",
       "      <th>object_type</th>\n",
       "      <th>address</th>\n",
       "      <th>number</th>\n",
       "    </tr>\n",
       "  </thead>\n",
       "  <tbody>\n",
       "    <tr>\n",
       "      <th>12062</th>\n",
       "      <td>182973</td>\n",
       "      <td>БУРГЕР КИНГ</td>\n",
       "      <td>да</td>\n",
       "      <td>кафе</td>\n",
       "      <td>город Москва, Ярославское шоссе, дом 69</td>\n",
       "      <td>60</td>\n",
       "    </tr>\n",
       "    <tr>\n",
       "      <th>8819</th>\n",
       "      <td>156321</td>\n",
       "      <td>Кафе «Тетя Мотя»</td>\n",
       "      <td>нет</td>\n",
       "      <td>кафе</td>\n",
       "      <td>город Москва, проезд Сокольнического Круга, дом 7</td>\n",
       "      <td>100</td>\n",
       "    </tr>\n",
       "    <tr>\n",
       "      <th>14197</th>\n",
       "      <td>206042</td>\n",
       "      <td>Чебуречная</td>\n",
       "      <td>нет</td>\n",
       "      <td>магазин (отдел кулинарии)</td>\n",
       "      <td>город Москва, Открытое шоссе, дом 9, строение 9</td>\n",
       "      <td>0</td>\n",
       "    </tr>\n",
       "    <tr>\n",
       "      <th>6081</th>\n",
       "      <td>156891</td>\n",
       "      <td>Чудо Пекарня Шаргунь</td>\n",
       "      <td>нет</td>\n",
       "      <td>закусочная</td>\n",
       "      <td>город Москва, Севастопольский проспект, дом 15, корпус 3</td>\n",
       "      <td>0</td>\n",
       "    </tr>\n",
       "    <tr>\n",
       "      <th>2478</th>\n",
       "      <td>27730</td>\n",
       "      <td>Столовая «ГАЛА ПИЦЦА»</td>\n",
       "      <td>нет</td>\n",
       "      <td>столовая</td>\n",
       "      <td>город Москва, Варшавское шоссе, дом 116</td>\n",
       "      <td>46</td>\n",
       "    </tr>\n",
       "  </tbody>\n",
       "</table>\n",
       "</div>"
      ],
      "text/plain": [
       "           id            object_name chain                object_type  \\\n",
       "12062  182973            БУРГЕР КИНГ    да                       кафе   \n",
       "8819   156321       Кафе «Тетя Мотя»   нет                       кафе   \n",
       "14197  206042             Чебуречная   нет  магазин (отдел кулинарии)   \n",
       "6081   156891   Чудо Пекарня Шаргунь   нет                 закусочная   \n",
       "2478    27730  Столовая «ГАЛА ПИЦЦА»   нет                   столовая   \n",
       "\n",
       "                                                        address  number  \n",
       "12062                   город Москва, Ярославское шоссе, дом 69      60  \n",
       "8819          город Москва, проезд Сокольнического Круга, дом 7     100  \n",
       "14197           город Москва, Открытое шоссе, дом 9, строение 9       0  \n",
       "6081   город Москва, Севастопольский проспект, дом 15, корпус 3       0  \n",
       "2478                    город Москва, Варшавское шоссе, дом 116      46  "
      ]
     },
     "metadata": {},
     "output_type": "display_data"
    },
    {
     "name": "stdout",
     "output_type": "stream",
     "text": [
      "**************************************************\n",
      "Статистические параметры таблицы:\n"
     ]
    },
    {
     "data": {
      "text/html": [
       "<div>\n",
       "<style scoped>\n",
       "    .dataframe tbody tr th:only-of-type {\n",
       "        vertical-align: middle;\n",
       "    }\n",
       "\n",
       "    .dataframe tbody tr th {\n",
       "        vertical-align: top;\n",
       "    }\n",
       "\n",
       "    .dataframe thead th {\n",
       "        text-align: right;\n",
       "    }\n",
       "</style>\n",
       "<table border=\"1\" class=\"dataframe\">\n",
       "  <thead>\n",
       "    <tr style=\"text-align: right;\">\n",
       "      <th></th>\n",
       "      <th>id</th>\n",
       "      <th>number</th>\n",
       "    </tr>\n",
       "  </thead>\n",
       "  <tbody>\n",
       "    <tr>\n",
       "      <th>count</th>\n",
       "      <td>15366.000000</td>\n",
       "      <td>15366.000000</td>\n",
       "    </tr>\n",
       "    <tr>\n",
       "      <th>mean</th>\n",
       "      <td>119720.066901</td>\n",
       "      <td>59.547182</td>\n",
       "    </tr>\n",
       "    <tr>\n",
       "      <th>std</th>\n",
       "      <td>73036.130732</td>\n",
       "      <td>74.736833</td>\n",
       "    </tr>\n",
       "    <tr>\n",
       "      <th>min</th>\n",
       "      <td>838.000000</td>\n",
       "      <td>0.000000</td>\n",
       "    </tr>\n",
       "    <tr>\n",
       "      <th>25%</th>\n",
       "      <td>28524.000000</td>\n",
       "      <td>12.000000</td>\n",
       "    </tr>\n",
       "    <tr>\n",
       "      <th>50%</th>\n",
       "      <td>144974.500000</td>\n",
       "      <td>40.000000</td>\n",
       "    </tr>\n",
       "    <tr>\n",
       "      <th>75%</th>\n",
       "      <td>184262.250000</td>\n",
       "      <td>80.000000</td>\n",
       "    </tr>\n",
       "    <tr>\n",
       "      <th>max</th>\n",
       "      <td>223439.000000</td>\n",
       "      <td>1700.000000</td>\n",
       "    </tr>\n",
       "  </tbody>\n",
       "</table>\n",
       "</div>"
      ],
      "text/plain": [
       "                 id       number\n",
       "count  15366.000000 15366.000000\n",
       "mean  119720.066901    59.547182\n",
       "std    73036.130732    74.736833\n",
       "min      838.000000     0.000000\n",
       "25%    28524.000000    12.000000\n",
       "50%   144974.500000    40.000000\n",
       "75%   184262.250000    80.000000\n",
       "max   223439.000000  1700.000000"
      ]
     },
     "metadata": {},
     "output_type": "display_data"
    },
    {
     "name": "stdout",
     "output_type": "stream",
     "text": [
      "**************************************************\n",
      "Количество пустых значений:\n"
     ]
    },
    {
     "data": {
      "text/html": [
       "<style type=\"text/css\">\n",
       "#T_e4fd7_row0_col0, #T_e4fd7_row1_col0, #T_e4fd7_row2_col0, #T_e4fd7_row3_col0, #T_e4fd7_row4_col0, #T_e4fd7_row5_col0 {\n",
       "  background-color: #3b4cc0;\n",
       "  color: #f1f1f1;\n",
       "}\n",
       "</style>\n",
       "<table id=\"T_e4fd7\">\n",
       "  <thead>\n",
       "    <tr>\n",
       "      <th class=\"blank level0\" >&nbsp;</th>\n",
       "      <th id=\"T_e4fd7_level0_col0\" class=\"col_heading level0 col0\" >0</th>\n",
       "    </tr>\n",
       "  </thead>\n",
       "  <tbody>\n",
       "    <tr>\n",
       "      <th id=\"T_e4fd7_level0_row0\" class=\"row_heading level0 row0\" >id</th>\n",
       "      <td id=\"T_e4fd7_row0_col0\" class=\"data row0 col0\" >0</td>\n",
       "    </tr>\n",
       "    <tr>\n",
       "      <th id=\"T_e4fd7_level0_row1\" class=\"row_heading level0 row1\" >object_name</th>\n",
       "      <td id=\"T_e4fd7_row1_col0\" class=\"data row1 col0\" >0</td>\n",
       "    </tr>\n",
       "    <tr>\n",
       "      <th id=\"T_e4fd7_level0_row2\" class=\"row_heading level0 row2\" >chain</th>\n",
       "      <td id=\"T_e4fd7_row2_col0\" class=\"data row2 col0\" >0</td>\n",
       "    </tr>\n",
       "    <tr>\n",
       "      <th id=\"T_e4fd7_level0_row3\" class=\"row_heading level0 row3\" >object_type</th>\n",
       "      <td id=\"T_e4fd7_row3_col0\" class=\"data row3 col0\" >0</td>\n",
       "    </tr>\n",
       "    <tr>\n",
       "      <th id=\"T_e4fd7_level0_row4\" class=\"row_heading level0 row4\" >address</th>\n",
       "      <td id=\"T_e4fd7_row4_col0\" class=\"data row4 col0\" >0</td>\n",
       "    </tr>\n",
       "    <tr>\n",
       "      <th id=\"T_e4fd7_level0_row5\" class=\"row_heading level0 row5\" >number</th>\n",
       "      <td id=\"T_e4fd7_row5_col0\" class=\"data row5 col0\" >0</td>\n",
       "    </tr>\n",
       "  </tbody>\n",
       "</table>\n"
      ],
      "text/plain": [
       "<pandas.io.formats.style.Styler at 0x2255b40bdc0>"
      ]
     },
     "metadata": {},
     "output_type": "display_data"
    },
    {
     "name": "stdout",
     "output_type": "stream",
     "text": [
      "**************************************************\n",
      "Доля пропусков в столбцах:\n"
     ]
    },
    {
     "data": {
      "text/html": [
       "<style type=\"text/css\">\n",
       "#T_ae07d_row0_col0, #T_ae07d_row1_col0, #T_ae07d_row2_col0, #T_ae07d_row3_col0, #T_ae07d_row4_col0, #T_ae07d_row5_col0 {\n",
       "  background-color: #3b4cc0;\n",
       "  color: #f1f1f1;\n",
       "}\n",
       "</style>\n",
       "<table id=\"T_ae07d\">\n",
       "  <thead>\n",
       "    <tr>\n",
       "      <th class=\"blank level0\" >&nbsp;</th>\n",
       "      <th id=\"T_ae07d_level0_col0\" class=\"col_heading level0 col0\" >0</th>\n",
       "    </tr>\n",
       "  </thead>\n",
       "  <tbody>\n",
       "    <tr>\n",
       "      <th id=\"T_ae07d_level0_row0\" class=\"row_heading level0 row0\" >id</th>\n",
       "      <td id=\"T_ae07d_row0_col0\" class=\"data row0 col0\" >0.000000</td>\n",
       "    </tr>\n",
       "    <tr>\n",
       "      <th id=\"T_ae07d_level0_row1\" class=\"row_heading level0 row1\" >object_name</th>\n",
       "      <td id=\"T_ae07d_row1_col0\" class=\"data row1 col0\" >0.000000</td>\n",
       "    </tr>\n",
       "    <tr>\n",
       "      <th id=\"T_ae07d_level0_row2\" class=\"row_heading level0 row2\" >chain</th>\n",
       "      <td id=\"T_ae07d_row2_col0\" class=\"data row2 col0\" >0.000000</td>\n",
       "    </tr>\n",
       "    <tr>\n",
       "      <th id=\"T_ae07d_level0_row3\" class=\"row_heading level0 row3\" >object_type</th>\n",
       "      <td id=\"T_ae07d_row3_col0\" class=\"data row3 col0\" >0.000000</td>\n",
       "    </tr>\n",
       "    <tr>\n",
       "      <th id=\"T_ae07d_level0_row4\" class=\"row_heading level0 row4\" >address</th>\n",
       "      <td id=\"T_ae07d_row4_col0\" class=\"data row4 col0\" >0.000000</td>\n",
       "    </tr>\n",
       "    <tr>\n",
       "      <th id=\"T_ae07d_level0_row5\" class=\"row_heading level0 row5\" >number</th>\n",
       "      <td id=\"T_ae07d_row5_col0\" class=\"data row5 col0\" >0.000000</td>\n",
       "    </tr>\n",
       "  </tbody>\n",
       "</table>\n"
      ],
      "text/plain": [
       "<pandas.io.formats.style.Styler at 0x22545293940>"
      ]
     },
     "metadata": {},
     "output_type": "display_data"
    },
    {
     "name": "stdout",
     "output_type": "stream",
     "text": [
      "**************************************************\n",
      "Количество полных дубликатов:\n",
      "0\n",
      "**************************************************\n"
     ]
    }
   ],
   "source": [
    "# Посмотрим информацию по первому датасету\n",
    "\n",
    "first_view(df)"
   ]
  },
  {
   "cell_type": "markdown",
   "id": "9291fc02",
   "metadata": {},
   "source": [
    "Можно сразу отметить, что отсутствуют явные дубликаты и пустые значения, названия столбцов в едином стиле, форматы данных соответствуют ожидаемым."
   ]
  },
  {
   "cell_type": "code",
   "execution_count": 83,
   "id": "f0c4b11d",
   "metadata": {},
   "outputs": [
    {
     "data": {
      "text/html": [
       "<style type=\"text/css\">\n",
       "</style>\n",
       "<table id=\"T_1044e\">\n",
       "  <thead>\n",
       "    <tr>\n",
       "      <th class=\"blank level0\" >&nbsp;</th>\n",
       "      <th id=\"T_1044e_level0_col0\" class=\"col_heading level0 col0\" >number</th>\n",
       "      <th id=\"T_1044e_level0_col1\" class=\"col_heading level0 col1\" >number_zoro</th>\n",
       "      <th id=\"T_1044e_level0_col2\" class=\"col_heading level0 col2\" >ratio</th>\n",
       "    </tr>\n",
       "    <tr>\n",
       "      <th class=\"index_name level0\" >object_type</th>\n",
       "      <th class=\"blank col0\" >&nbsp;</th>\n",
       "      <th class=\"blank col1\" >&nbsp;</th>\n",
       "      <th class=\"blank col2\" >&nbsp;</th>\n",
       "    </tr>\n",
       "  </thead>\n",
       "  <tbody>\n",
       "    <tr>\n",
       "      <th id=\"T_1044e_level0_row0\" class=\"row_heading level0 row0\" >магазин (отдел кулинарии)</th>\n",
       "      <td id=\"T_1044e_row0_col0\" class=\"data row0 col0\" >273</td>\n",
       "      <td id=\"T_1044e_row0_col1\" class=\"data row0 col1\" >145</td>\n",
       "      <td id=\"T_1044e_row0_col2\" class=\"data row0 col2\" >53.11%</td>\n",
       "    </tr>\n",
       "    <tr>\n",
       "      <th id=\"T_1044e_level0_row1\" class=\"row_heading level0 row1\" >закусочная</th>\n",
       "      <td id=\"T_1044e_row1_col0\" class=\"data row1 col0\" >360</td>\n",
       "      <td id=\"T_1044e_row1_col1\" class=\"data row1 col1\" >189</td>\n",
       "      <td id=\"T_1044e_row1_col2\" class=\"data row1 col2\" >52.50%</td>\n",
       "    </tr>\n",
       "    <tr>\n",
       "      <th id=\"T_1044e_level0_row2\" class=\"row_heading level0 row2\" >предприятие быстрого обслуживания</th>\n",
       "      <td id=\"T_1044e_row2_col0\" class=\"data row2 col0\" >1923</td>\n",
       "      <td id=\"T_1044e_row2_col1\" class=\"data row2 col1\" >704</td>\n",
       "      <td id=\"T_1044e_row2_col2\" class=\"data row2 col2\" >36.61%</td>\n",
       "    </tr>\n",
       "    <tr>\n",
       "      <th id=\"T_1044e_level0_row3\" class=\"row_heading level0 row3\" >кафетерий</th>\n",
       "      <td id=\"T_1044e_row3_col0\" class=\"data row3 col0\" >398</td>\n",
       "      <td id=\"T_1044e_row3_col1\" class=\"data row3 col1\" >113</td>\n",
       "      <td id=\"T_1044e_row3_col2\" class=\"data row3 col2\" >28.39%</td>\n",
       "    </tr>\n",
       "    <tr>\n",
       "      <th id=\"T_1044e_level0_row4\" class=\"row_heading level0 row4\" >буфет</th>\n",
       "      <td id=\"T_1044e_row4_col0\" class=\"data row4 col0\" >585</td>\n",
       "      <td id=\"T_1044e_row4_col1\" class=\"data row4 col1\" >68</td>\n",
       "      <td id=\"T_1044e_row4_col2\" class=\"data row4 col2\" >11.62%</td>\n",
       "    </tr>\n",
       "    <tr>\n",
       "      <th id=\"T_1044e_level0_row5\" class=\"row_heading level0 row5\" >кафе</th>\n",
       "      <td id=\"T_1044e_row5_col0\" class=\"data row5 col0\" >6099</td>\n",
       "      <td id=\"T_1044e_row5_col1\" class=\"data row5 col1\" >310</td>\n",
       "      <td id=\"T_1044e_row5_col2\" class=\"data row5 col2\" >5.08%</td>\n",
       "    </tr>\n",
       "    <tr>\n",
       "      <th id=\"T_1044e_level0_row6\" class=\"row_heading level0 row6\" >бар</th>\n",
       "      <td id=\"T_1044e_row6_col0\" class=\"data row6 col0\" >856</td>\n",
       "      <td id=\"T_1044e_row6_col1\" class=\"data row6 col1\" >28</td>\n",
       "      <td id=\"T_1044e_row6_col2\" class=\"data row6 col2\" >3.27%</td>\n",
       "    </tr>\n",
       "    <tr>\n",
       "      <th id=\"T_1044e_level0_row7\" class=\"row_heading level0 row7\" >ресторан</th>\n",
       "      <td id=\"T_1044e_row7_col0\" class=\"data row7 col0\" >2285</td>\n",
       "      <td id=\"T_1044e_row7_col1\" class=\"data row7 col1\" >45</td>\n",
       "      <td id=\"T_1044e_row7_col2\" class=\"data row7 col2\" >1.97%</td>\n",
       "    </tr>\n",
       "    <tr>\n",
       "      <th id=\"T_1044e_level0_row8\" class=\"row_heading level0 row8\" >столовая</th>\n",
       "      <td id=\"T_1044e_row8_col0\" class=\"data row8 col0\" >2587</td>\n",
       "      <td id=\"T_1044e_row8_col1\" class=\"data row8 col1\" >19</td>\n",
       "      <td id=\"T_1044e_row8_col2\" class=\"data row8 col2\" >0.73%</td>\n",
       "    </tr>\n",
       "  </tbody>\n",
       "</table>\n"
      ],
      "text/plain": [
       "<pandas.io.formats.style.Styler at 0x2255ecd8220>"
      ]
     },
     "execution_count": 83,
     "metadata": {},
     "output_type": "execute_result"
    }
   ],
   "source": [
    "# Посмотрим на долю заведений без мест\n",
    "\n",
    "checking_pivot = df.pivot_table(index='object_type', values='number', aggfunc='count')\n",
    "checking_pivot['number_zoro'] = df.query('number == 0').pivot_table(index='object_type', values='number', aggfunc='count')\n",
    "checking_pivot['ratio'] = checking_pivot['number_zoro'] / checking_pivot['number']\n",
    "checking_pivot = checking_pivot.sort_values(by='ratio', ascending=False)\n",
    "checking_pivot = checking_pivot.style.format({\n",
    "    'ratio': '{:,.2%}'.format,\n",
    "})\n",
    "checking_pivot"
   ]
  },
  {
   "cell_type": "markdown",
   "id": "f4274752",
   "metadata": {},
   "source": [
    "В принципе, данные по заведениям с отсутствующими местами посадки выглядят адекватными: отделы кулинарии, закусочные, фастфуды и кафетерии могут не иметь посадочных."
   ]
  },
  {
   "cell_type": "code",
   "execution_count": 84,
   "id": "8906fc6b",
   "metadata": {
    "scrolled": false
   },
   "outputs": [
    {
     "name": "stdout",
     "output_type": "stream",
     "text": [
      "**************************************************\n",
      "Общая информация о датасете:\n",
      "**************************************************\n",
      "<class 'pandas.core.frame.DataFrame'>\n",
      "RangeIndex: 4398 entries, 0 to 4397\n",
      "Data columns (total 4 columns):\n",
      " #   Column      Non-Null Count  Dtype \n",
      "---  ------      --------------  ----- \n",
      " 0   streetname  4398 non-null   object\n",
      " 1   areaid      4398 non-null   int64 \n",
      " 2   okrug       4398 non-null   object\n",
      " 3   area        4398 non-null   object\n",
      "dtypes: int64(1), object(3)\n",
      "memory usage: 137.6+ KB\n",
      "**************************************************\n",
      "Пять случайных строк таблицы:\n"
     ]
    },
    {
     "data": {
      "text/html": [
       "<div>\n",
       "<style scoped>\n",
       "    .dataframe tbody tr th:only-of-type {\n",
       "        vertical-align: middle;\n",
       "    }\n",
       "\n",
       "    .dataframe tbody tr th {\n",
       "        vertical-align: top;\n",
       "    }\n",
       "\n",
       "    .dataframe thead th {\n",
       "        text-align: right;\n",
       "    }\n",
       "</style>\n",
       "<table border=\"1\" class=\"dataframe\">\n",
       "  <thead>\n",
       "    <tr style=\"text-align: right;\">\n",
       "      <th></th>\n",
       "      <th>streetname</th>\n",
       "      <th>areaid</th>\n",
       "      <th>okrug</th>\n",
       "      <th>area</th>\n",
       "    </tr>\n",
       "  </thead>\n",
       "  <tbody>\n",
       "    <tr>\n",
       "      <th>1720</th>\n",
       "      <td>Овражная улица</td>\n",
       "      <td>51</td>\n",
       "      <td>Зеленоград</td>\n",
       "      <td>Район Крюково</td>\n",
       "    </tr>\n",
       "    <tr>\n",
       "      <th>1108</th>\n",
       "      <td>1-я Боевская улица</td>\n",
       "      <td>26</td>\n",
       "      <td>ВАО</td>\n",
       "      <td>Район Сокольники</td>\n",
       "    </tr>\n",
       "    <tr>\n",
       "      <th>2821</th>\n",
       "      <td>Староспасская улица</td>\n",
       "      <td>88</td>\n",
       "      <td>СЗАО</td>\n",
       "      <td>Район Митино</td>\n",
       "    </tr>\n",
       "    <tr>\n",
       "      <th>3677</th>\n",
       "      <td>1-я Фрезерная улица</td>\n",
       "      <td>117</td>\n",
       "      <td>ЮВАО</td>\n",
       "      <td>Нижегородский район</td>\n",
       "    </tr>\n",
       "    <tr>\n",
       "      <th>1862</th>\n",
       "      <td>улица Нижняя Масловка</td>\n",
       "      <td>54</td>\n",
       "      <td>САО</td>\n",
       "      <td>Район Аэропорт</td>\n",
       "    </tr>\n",
       "  </tbody>\n",
       "</table>\n",
       "</div>"
      ],
      "text/plain": [
       "                 streetname  areaid       okrug                 area\n",
       "1720         Овражная улица      51  Зеленоград        Район Крюково\n",
       "1108     1-я Боевская улица      26         ВАО     Район Сокольники\n",
       "2821    Староспасская улица      88        СЗАО         Район Митино\n",
       "3677    1-я Фрезерная улица     117        ЮВАО  Нижегородский район\n",
       "1862  улица Нижняя Масловка      54         САО       Район Аэропорт"
      ]
     },
     "metadata": {},
     "output_type": "display_data"
    },
    {
     "name": "stdout",
     "output_type": "stream",
     "text": [
      "**************************************************\n",
      "Статистические параметры таблицы:\n"
     ]
    },
    {
     "data": {
      "text/html": [
       "<div>\n",
       "<style scoped>\n",
       "    .dataframe tbody tr th:only-of-type {\n",
       "        vertical-align: middle;\n",
       "    }\n",
       "\n",
       "    .dataframe tbody tr th {\n",
       "        vertical-align: top;\n",
       "    }\n",
       "\n",
       "    .dataframe thead th {\n",
       "        text-align: right;\n",
       "    }\n",
       "</style>\n",
       "<table border=\"1\" class=\"dataframe\">\n",
       "  <thead>\n",
       "    <tr style=\"text-align: right;\">\n",
       "      <th></th>\n",
       "      <th>areaid</th>\n",
       "    </tr>\n",
       "  </thead>\n",
       "  <tbody>\n",
       "    <tr>\n",
       "      <th>count</th>\n",
       "      <td>4398.000000</td>\n",
       "    </tr>\n",
       "    <tr>\n",
       "      <th>mean</th>\n",
       "      <td>59.213734</td>\n",
       "    </tr>\n",
       "    <tr>\n",
       "      <th>std</th>\n",
       "      <td>38.474637</td>\n",
       "    </tr>\n",
       "    <tr>\n",
       "      <th>min</th>\n",
       "      <td>12.000000</td>\n",
       "    </tr>\n",
       "    <tr>\n",
       "      <th>25%</th>\n",
       "      <td>20.000000</td>\n",
       "    </tr>\n",
       "    <tr>\n",
       "      <th>50%</th>\n",
       "      <td>51.000000</td>\n",
       "    </tr>\n",
       "    <tr>\n",
       "      <th>75%</th>\n",
       "      <td>93.000000</td>\n",
       "    </tr>\n",
       "    <tr>\n",
       "      <th>max</th>\n",
       "      <td>134.000000</td>\n",
       "    </tr>\n",
       "  </tbody>\n",
       "</table>\n",
       "</div>"
      ],
      "text/plain": [
       "           areaid\n",
       "count 4398.000000\n",
       "mean    59.213734\n",
       "std     38.474637\n",
       "min     12.000000\n",
       "25%     20.000000\n",
       "50%     51.000000\n",
       "75%     93.000000\n",
       "max    134.000000"
      ]
     },
     "metadata": {},
     "output_type": "display_data"
    },
    {
     "name": "stdout",
     "output_type": "stream",
     "text": [
      "**************************************************\n",
      "Количество пустых значений:\n"
     ]
    },
    {
     "data": {
      "text/html": [
       "<style type=\"text/css\">\n",
       "#T_2ce44_row0_col0, #T_2ce44_row1_col0, #T_2ce44_row2_col0, #T_2ce44_row3_col0 {\n",
       "  background-color: #3b4cc0;\n",
       "  color: #f1f1f1;\n",
       "}\n",
       "</style>\n",
       "<table id=\"T_2ce44\">\n",
       "  <thead>\n",
       "    <tr>\n",
       "      <th class=\"blank level0\" >&nbsp;</th>\n",
       "      <th id=\"T_2ce44_level0_col0\" class=\"col_heading level0 col0\" >0</th>\n",
       "    </tr>\n",
       "  </thead>\n",
       "  <tbody>\n",
       "    <tr>\n",
       "      <th id=\"T_2ce44_level0_row0\" class=\"row_heading level0 row0\" >streetname</th>\n",
       "      <td id=\"T_2ce44_row0_col0\" class=\"data row0 col0\" >0</td>\n",
       "    </tr>\n",
       "    <tr>\n",
       "      <th id=\"T_2ce44_level0_row1\" class=\"row_heading level0 row1\" >areaid</th>\n",
       "      <td id=\"T_2ce44_row1_col0\" class=\"data row1 col0\" >0</td>\n",
       "    </tr>\n",
       "    <tr>\n",
       "      <th id=\"T_2ce44_level0_row2\" class=\"row_heading level0 row2\" >okrug</th>\n",
       "      <td id=\"T_2ce44_row2_col0\" class=\"data row2 col0\" >0</td>\n",
       "    </tr>\n",
       "    <tr>\n",
       "      <th id=\"T_2ce44_level0_row3\" class=\"row_heading level0 row3\" >area</th>\n",
       "      <td id=\"T_2ce44_row3_col0\" class=\"data row3 col0\" >0</td>\n",
       "    </tr>\n",
       "  </tbody>\n",
       "</table>\n"
      ],
      "text/plain": [
       "<pandas.io.formats.style.Styler at 0x225452d39a0>"
      ]
     },
     "metadata": {},
     "output_type": "display_data"
    },
    {
     "name": "stdout",
     "output_type": "stream",
     "text": [
      "**************************************************\n",
      "Доля пропусков в столбцах:\n"
     ]
    },
    {
     "data": {
      "text/html": [
       "<style type=\"text/css\">\n",
       "#T_46569_row0_col0, #T_46569_row1_col0, #T_46569_row2_col0, #T_46569_row3_col0 {\n",
       "  background-color: #3b4cc0;\n",
       "  color: #f1f1f1;\n",
       "}\n",
       "</style>\n",
       "<table id=\"T_46569\">\n",
       "  <thead>\n",
       "    <tr>\n",
       "      <th class=\"blank level0\" >&nbsp;</th>\n",
       "      <th id=\"T_46569_level0_col0\" class=\"col_heading level0 col0\" >0</th>\n",
       "    </tr>\n",
       "  </thead>\n",
       "  <tbody>\n",
       "    <tr>\n",
       "      <th id=\"T_46569_level0_row0\" class=\"row_heading level0 row0\" >streetname</th>\n",
       "      <td id=\"T_46569_row0_col0\" class=\"data row0 col0\" >0.000000</td>\n",
       "    </tr>\n",
       "    <tr>\n",
       "      <th id=\"T_46569_level0_row1\" class=\"row_heading level0 row1\" >areaid</th>\n",
       "      <td id=\"T_46569_row1_col0\" class=\"data row1 col0\" >0.000000</td>\n",
       "    </tr>\n",
       "    <tr>\n",
       "      <th id=\"T_46569_level0_row2\" class=\"row_heading level0 row2\" >okrug</th>\n",
       "      <td id=\"T_46569_row2_col0\" class=\"data row2 col0\" >0.000000</td>\n",
       "    </tr>\n",
       "    <tr>\n",
       "      <th id=\"T_46569_level0_row3\" class=\"row_heading level0 row3\" >area</th>\n",
       "      <td id=\"T_46569_row3_col0\" class=\"data row3 col0\" >0.000000</td>\n",
       "    </tr>\n",
       "  </tbody>\n",
       "</table>\n"
      ],
      "text/plain": [
       "<pandas.io.formats.style.Styler at 0x225452d3040>"
      ]
     },
     "metadata": {},
     "output_type": "display_data"
    },
    {
     "name": "stdout",
     "output_type": "stream",
     "text": [
      "**************************************************\n",
      "Количество полных дубликатов:\n",
      "8\n",
      "**************************************************\n"
     ]
    }
   ],
   "source": [
    "# Посмотрим информацию по второму датасету\n",
    "\n",
    "first_view(df_districts)"
   ]
  },
  {
   "cell_type": "markdown",
   "id": "02306739",
   "metadata": {},
   "source": [
    "Существуют 8 явных дубликатов, а также написанные транслитом названия столбца okrug."
   ]
  },
  {
   "cell_type": "code",
   "execution_count": 85,
   "id": "7c2c9096",
   "metadata": {},
   "outputs": [
    {
     "data": {
      "text/plain": [
       "10393"
      ]
     },
     "execution_count": 85,
     "metadata": {},
     "output_type": "execute_result"
    }
   ],
   "source": [
    "# Посмотрим на количество уникальных значений столбца 'object_name'\n",
    "\n",
    "df['object_name'].nunique()"
   ]
  },
  {
   "cell_type": "markdown",
   "id": "48ae62df",
   "metadata": {},
   "source": [
    "Слишком много уникальных значений, чтобы вручную выявить неявные дубликаты."
   ]
  },
  {
   "cell_type": "code",
   "execution_count": 86,
   "id": "92ef54cc",
   "metadata": {},
   "outputs": [
    {
     "data": {
      "text/plain": [
       "724"
      ]
     },
     "execution_count": 86,
     "metadata": {},
     "output_type": "execute_result"
    }
   ],
   "source": [
    "# Посмотрим на количество уникальных значений сетевых заведений столбца 'object_name'\n",
    "\n",
    "df[df['chain'] == 'да']['object_name'].nunique()"
   ]
  },
  {
   "cell_type": "code",
   "execution_count": 87,
   "id": "bff49235",
   "metadata": {},
   "outputs": [
    {
     "data": {
      "text/plain": [
       "array(['ПИЦЦЕТОРИЯ', 'Брусника', 'Алло Пицца', 'Суши Wok', 'Тануки',\n",
       "       \"Домино'с Пицца\", 'Готика', 'Му-Му', 'Хлеб насущный', 'TAJJ MAHAL',\n",
       "       'ДАНКИН ДОНАТС', 'Вареничная №1', 'ШОКОЛАДНИЦА', 'Теремок',\n",
       "       'Хинкальная', 'Шантимель', 'ТАНУКИ', 'Шоколадница', 'МУ-МУ',\n",
       "       'Хинкальная City', 'КРУЖКА', 'СУШИ ВОК', 'ПРИМАВЕРА', 'Виктория',\n",
       "       'Пиццерия «АКАДЕМИЯ»', 'Чебуречная СССР', 'МАКДОНАЛДС',\n",
       "       'Grand Cru', 'Чайхона №1', 'Панчо Пицца', 'KFC', 'Сабвей',\n",
       "       'ресторан «Якитория»', 'Советские времена', 'Кафе «Андерсон»',\n",
       "       'Кафе «Subway»', 'Ресторан «Макдоналдс»', 'Суши Сет', 'Суши WoK',\n",
       "       'Шоколад', 'Тирольские пироги', 'Гамбринус', 'Пицца Фабрика',\n",
       "       'Subway', 'Кафе «Якитория»', 'Кафе «Тануки»', 'Сити Пицца',\n",
       "       'Кружка', 'Кофе Хаус',\n",
       "       'Кулинарная Лавка Братьев Караваевых Братья Караваевы', 'Суши Вок',\n",
       "       'Прайм', 'Пицца Экспресс', 'Шоколадница Кофе Хаус', 'Николай',\n",
       "       'Якитория', 'МАГНОЛИЯ', 'КОФЕ С СОБОЙ', 'Джаганнат', 'Волконский',\n",
       "       'MosKalyan', 'Гино-но-таки', 'Макдоналдс', 'Тратория Semplice',\n",
       "       'Ньокки', 'Хижина', 'Додо Пицца', 'Крошка Картошка', 'Бургер Кинг',\n",
       "       'Суши WOK', 'Папа Джонс', 'Кондитерская Волконский',\n",
       "       'Бар- буфет «Николай»', 'Ресторан «Тануки»', 'Две палочки',\n",
       "       'Джон Джоли', 'Ваби-Саби', 'Кофемания', 'Простые Вещи',\n",
       "       'Павлин-Мавлин', 'Кафе «Чайхана Тапчан»', 'Штолле', 'Суши сет',\n",
       "       'Кофе с собой', 'Бабай Клаб', 'Андерсон', 'КОФЕМАНИЯ',\n",
       "       'КОФЕ ХАУС. ЭКСПРЕССО И КАПУЧИНО БАР', 'КАКТУС', 'Темпл бар',\n",
       "       'Хлеб&Co', 'Кофе-Бин', 'Французская выпечка',\n",
       "       'Кофейня «Кофе Хаус»', 'Планета Суши', 'Де Марко',\n",
       "       'Ресторан «Илья Муромец»', 'Ресторан «Корчма Тарас Бульба»',\n",
       "       'Кофейня «Шоколадница»', 'Стейк Хаус ГУДМАН', 'ИЛЬ ПАТИО',\n",
       "       'Иль-патио', 'ЯКИТОРИЯ', 'Мюнгер', 'БОТИК ПЕТРА',\n",
       "       'кафе «Папа Джонс»', 'Кафе «Штолле»', 'Чин Чин', 'ПРАВDА Кофе',\n",
       "       'Сити', 'Krispy Creme', 'Prime Прайм стар', 'Азбука Вкуса',\n",
       "       'Ресторан «Якитория»', 'КАФЕ «ШТОЛЛЕ»', 'РЕСТОРАН «ДЖОН ДЖОЛИ»',\n",
       "       'Ресторан «ТАНУКИ»', 'КОФЕ ХАУС', 'РЕСТОРАН «Тануки»', 'ПИВКО',\n",
       "       'Додо пицца', 'Пиццерия «Папа Джонс»', 'Ресторан «Брудер»',\n",
       "       'ПРАЙМ', 'ДЖОН ДЖОЛИ', 'Мимино', 'Кофепорт',\n",
       "       'Кафе «Пицца Фабрика»', 'Прайм стар', 'Цинандали Хинкальная',\n",
       "       'Иль Форно', 'Travelers Coffee', 'Рецептор', 'СушиШоп',\n",
       "       'Кофе-Хаус', 'Баскин Роббинс', 'Барашка', 'КОРЧМА «ТАРАС БУЛЬБА»',\n",
       "       'Кафе «Шоколадница»', 'Пицца Хат', 'Мята Lounge', 'Costa Coffee',\n",
       "       'Илья Муромец', 'Ёрш', 'СтардогS', 'КОРЧМА ТАРАС БУЛЬБА',\n",
       "       'UPSIDE DOWN CAKE', 'Кафе Пекарня Хачапури',\n",
       "       'Домашнее Кафе сеть городских кафе', 'Ресторан Тануки',\n",
       "       'Бар-буфет Николай', 'Добрынинский и партнёры',\n",
       "       'КОФЕЙНЯ «ДЕ МАРКО»', 'Менза', 'Тапчан', 'Колбасофф',\n",
       "       'Крепери де пари', \"Домино'с пицца\", 'БРАВА Коста кофе',\n",
       "       'Старбакс Starbucks', 'АндерСон', 'Венеция', 'Жан Жак', 'Гурмания',\n",
       "       'Кулинарная лавка братьев Караваевых', 'Кафе «Тапчан»',\n",
       "       'Ресторан «Ньокки»', 'Bierloga', 'Штирбирлиц', 'Маки-Маки',\n",
       "       'ХАЧАПУРИ', 'В&В Бургер', 'Прайм Стар', 'Jeffreys coffee',\n",
       "       'Travelers Coffe', 'АКАДЕМИЯ', 'Дабл Би', 'Иль Патио',\n",
       "       'ЗОЛОТАЯ ВОБЛА', 'ТЕРЕМОК', 'Корчма Тарас Бульба', 'АЛЛО ПИЦЦА',\n",
       "       'ПИЛЗНЕР', 'Траттория Примавера', 'ПРАЙМкафе Прайм стар',\n",
       "       \"Пиццерия «Домино'с Пицца»\", 'Кафе «Суши Сет»', 'Коста Кофе',\n",
       "       'СУШИ WOK', 'РЕСТОРАН «ТАНУКИ»', 'Перекресток', 'Starbucks',\n",
       "       'Руккола', 'Иль Патио Планета Суши', 'Кафе «Starbucks»',\n",
       "       'Шантимель (кондитерские)', 'Милано пицца',\n",
       "       'Ресторан «Джон Джоли»', 'Зодиак', 'Ресторан «Ёрш»', 'Торро Гриль',\n",
       "       'ФИТНЕС-БАР «WORLD CLASS»', 'Роллофф', 'Кафе «Кулинарное бюро»',\n",
       "       'БУРГЕР КИНГ', 'Билла', 'УРЮК', 'Темпл Бар', 'Кофейня «Старбакс»',\n",
       "       'Кафе «Кружка»', 'Пицца экспресс', 'Tokyo bay',\n",
       "       'Пиццерия «ПАПА ДЖОНС»', 'КУЛИНАРНОЕ БЮРО', 'Пиппони',\n",
       "       'Пицца Пипони', 'Золотая вобла', 'ДЕТСКОЕ КАФЕ «АНДЕРСОН»',\n",
       "       'Кулинарное бюро', 'КАФЕ «Хлеб насущный»', 'ПИЦЦЕРИЯ «Папа Джонс»',\n",
       "       'КАФЕ «Андерсон»', 'Кулинарное бюро Китчен', 'Сытая Утка',\n",
       "       'Икура Паб', 'Сварня', 'Пиццетория', 'ДЕТСКИЙ КЛУБ «АНДЕРСОН»',\n",
       "       'Пиццерия Пиу дель Чибо',\n",
       "       'Предприятие быстрого обслуживания «Бургер Кинг»',\n",
       "       'Предприятие быстрого обслуживания «Крошка Картошка»',\n",
       "       'Предприятие быстрого обслуживания «Макдоналдс»',\n",
       "       'Предприятие быстрого обслуживания «Теремок»', 'Ичибан Боши',\n",
       "       'Макс Бреннер', 'Бутчер Бизон', 'Магбургер АЗС №16',\n",
       "       'Магазин-кулинария «Суши Сет»', 'Магбургер АЗС №17',\n",
       "       'Кондитерская-пекарня Волконский', 'Му-му', 'IL Forno Иль Форно',\n",
       "       'Хлеб Насущный', 'Кафе «Prime» Прайм стар', 'То Да Сё',\n",
       "       'Пицца Pomodoro', 'Бургер Кинг Burger King',\n",
       "       'Чешская пивная «Козловица»', 'Ресторан Джон Джоли',\n",
       "       'Простые вещи', 'Грабли', 'VietCafe Вьеткафе', 'Оникс',\n",
       "       'Пицца Pomodoro и Суши Дзен', 'Вьеткафе', 'Да Пино',\n",
       "       'Старина Миллер', 'Кафе Рецептор', 'Якитория и Ян Примус',\n",
       "       'СТАРИНА МЮЛЛЕР Старина Миллер', 'Кафе Кофемания', 'Хинкальная №1',\n",
       "       'Пронто', 'Пицца «Паоло»', 'Лепешка', 'Чешская пивная «Пилзнер»',\n",
       "       'ПИРОГИ ШТОЛЛЕ', 'Крепери де Пари', 'Гурман', 'ТЕРРИТОРИЯ ЯСЕНЕВО',\n",
       "       'Сабвей СушиВок', 'Городские автокофейни', 'ВГости. Урюк',\n",
       "       'Порто Мальтезе', 'Мимино Хинкальная', 'Квартира 44',\n",
       "       'Хинкальная КИНТО', 'КОЛБАСОФФ', 'Урюк',\n",
       "       'Американ Сити Пицца ЦЕХ ПО ИЗГОТОВЛЕНИЮ ПИЦЦЫ',\n",
       "       'РЕСТОРАН «Чайхона №1»', 'БАР Азбука Вкуса', 'КАФЕ «Шоколадница»',\n",
       "       'Суп Кафе', 'Ресторан «Florentini»', 'Upside Down Cake',\n",
       "       'Поль Бейкери', 'кафе «Шоколадница»', 'Кафе «Му-Му»',\n",
       "       'GlowSubs Sandwiches', 'Ми Пьяче', 'Кафе «Хинкальная»',\n",
       "       'Закусочная «СушиШоп»', 'Ресторан «Территория»', 'Кафе «KFC»',\n",
       "       'Кафе «Пицца Хат»', 'Пиццерия Донателло',\n",
       "       'Закусочная «Американ Сити Пицца»',\n",
       "       'Предприятие быстрого обслуживания «СушиШоп»',\n",
       "       'Кафе «PRIME» Прайм стар', 'Нияма Пицца Пи', 'Кафе «Ваби-Саби»',\n",
       "       'Кафе «Марукамэ»', 'Кафе Чайхона №1', 'Бир хаус', 'САБВЕЙ',\n",
       "       'Хачапури', 'СПБ', 'Кебаб хаус', 'Прайм-кафе', 'PAUL Поль',\n",
       "       'ВЕНЕЦИЯ', 'ШАШЛЫК-МАШЛЫК', 'ГЕНАЦВАЛИ', 'Территория TIMBIGFAMILY',\n",
       "       'Территория', 'Да Пино (Da Pino)',\n",
       "       'Кулинарная лавка братьев Караваевых Братья Караваевы',\n",
       "       'Ресторан «Золотая Вобла»', 'Кафе PRIME Прайм стар',\n",
       "       'Граци рагацци Зю Кафе', 'Виват-Пицца', 'Ресторан «Вьеткафе»',\n",
       "       'Пироговая Штолле', 'Сабвей Subway', 'Starlite Diner',\n",
       "       'Прайм-кафе Прайм стар', 'ресторан «Брудер»', 'Старбакс', 'ПРОНТО',\n",
       "       'РЕСТОРАН «УРЮК»', 'Krispy Krem', 'ГРАБЛИ', 'Кофе Хаус,Экспресс',\n",
       "       'Ростикс KFC', 'Ресторан «ИЛЬ ПАТИО»', 'Ресторан Маки-Маки',\n",
       "       'КАФЕ «МУ-МУ»', 'Кофейня Шоколадница', 'Кафе Пронто',\n",
       "       'Кафе Якитория', 'Кофетун', 'ТАШИР ПИЦЦА', 'Ресторан Хинкальная',\n",
       "       'Закусочная KFC', 'Елки-Палки', 'Кофейня ШОКОЛАДНИЦА',\n",
       "       'Кафе КОФЕ ТУН', 'Метро К&К', 'Тамаси Суши', 'Burger Club',\n",
       "       'ФАНТОЦЦИ РУС', 'КАФЕ «ЯКИТОРИЯ»', 'Кафе «Урюк» Хивинская чайхона',\n",
       "       'Ресторан «Пронто»', 'Изба', 'Воккер', 'Нияма', 'Ганс и Марта',\n",
       "       'Кафе «Поль Бейкери»', 'Кафе «Сабвей» Старбакс',\n",
       "       'KFC Волгоградский', 'Кофе', 'Ресторан «Чайхона №1»',\n",
       "       'Кафе «Теремок»', 'Ливан-хаус', 'Крошка картошка', 'Лето',\n",
       "       'Кафе «АндерСон»', 'Суши бар «Маки-маки»', 'ЯММИ МИКС', 'Брудер',\n",
       "       'Бургер кинг', 'Баракат', 'Кафе при АЗС', 'Урюк Вавилова',\n",
       "       'SUBWAY', 'Кафе теремок', 'Кулинарное бюро Kitchen',\n",
       "       'МОСКВА - МАКДОНАЛДС', 'ТЕРЕМОК ИНВЕСТ', 'Ресторан«ВьетКафе»',\n",
       "       'НИЯМА', 'Кафе Космик', 'СушиМан', 'Кафе шоколад', 'ЯПОША',\n",
       "       'МАКИ-МАКИ', 'Примавера', 'Кофе тун', 'Барбарис', 'Yogurt Frenzy',\n",
       "       'Ташир пицца', 'Bocconcino', 'ПОМИДОР', 'Дюшес', 'Маки-маки',\n",
       "       'Планета суши', 'Чайхона №1 Бутово', 'Кафе «То Да Сё»',\n",
       "       'кафе «Старбакс»', 'Урожай', 'Ресторан «Ян Примус»', 'ШВАРЦВАЛЬД',\n",
       "       'TUTTI FRUTTI FROZEN YOGURT', 'Данкин Донатс', 'Кафе «Нияма»',\n",
       "       'Кафе «Менза»', 'Ресторан «Джардино Да Пино»', 'Кафе «МЕЛЕНКА»',\n",
       "       'Кафе «Кофейня Старбакс»', 'Ресторан «Колбасофф»',\n",
       "       'КАФЕ МАКДОНАЛДС', 'КАФЕ «Теремок»', 'КАФЕ KFC', 'Сбарро',\n",
       "       'КАФЕ «МАКДОНАЛДС»', 'КАФЕ «Восточный базар»', 'КАФЕ Кофе-Хаус',\n",
       "       'КАФЕ Starbucks', 'РЕСТОРАН «Космик»', 'КАРО', 'ХИНКАЛЬНАЯ',\n",
       "       'ПБО «KFC Покрышкина»', 'кафе «Му-Му»', 'Кофейня «СТАРБАКС КОФЕ»',\n",
       "       'Ресторан «Планета Суши»', 'White Rabbite (Белый кролик)',\n",
       "       'БАКИНСКИЙ БУЛЬВАР', 'Ян Примус', 'Кафе МУ-МУ',\n",
       "       'Кафе «Prime» (Прайм стар)', 'Healthy Food', 'Sushilka',\n",
       "       'Кебаб Хаус', 'Coffeeshop Company', 'Теремок-Инвест',\n",
       "       'Кафе «МАКДОНАЛДС»', 'ИЛЬ ФОРНО', 'Maki Maki',\n",
       "       'РЕСТОРАН«МАКДОНАЛДС»', 'ЧАЙХОНА №1', 'РЕСТОРАН «ЧАЙХОНА №1»',\n",
       "       'КОФЕЙНЯ «ШОКОЛАДНИЦА»', 'АНДЕРСОН', 'КАФЕ «ТЕРЕМОК»',\n",
       "       'СТЕЙК-ХАУС ГУДМАН', 'МЕНЗА', 'Барбекю', 'Обжорный ряд', 'Космик',\n",
       "       'Ресторан «БРУДЕР»', 'Тайм Авеню', 'Братья Караваевы',\n",
       "       'СтардогS и шаурма', 'Wok & Box', 'ПивКо',\n",
       "       'Кафе при АЗС Газпромнефть', 'Старбакс Кофе', 'Бар Боулинг-Космик',\n",
       "       'Академия', 'Ресторан «Темпл Бар»', 'Закусочная «Бургер Кинг»',\n",
       "       'Ресторан «Чайхана Урюк»', 'Прайм Стар кафе',\n",
       "       'Кофе с собой Gate 42', 'Кафе-закусочная «Бургер Кинг»',\n",
       "       'Ресторан «ЯКИТОРИЯ»', 'Кафе «Торнадо»', 'Магбургер', 'КОФЕПОРТ',\n",
       "       'Ресторан «Теремок»', 'Кафе «Макдоналдс»',\n",
       "       'Ресторан «Бакинский бульвар»', 'Бакинский бульвар',\n",
       "       \"Предприятие быстрого обслуживания «Домино'с Пицца»\",\n",
       "       'Кафе «Прайм Стар»', 'Кафе «SUBWAY»',\n",
       "       'Предприятие быстрого обслуживания «Бенто WOK»',\n",
       "       'Предприятие быстрого обслуживания «KFC»', 'Бургер клаб',\n",
       "       'Кафе «Кофе Хаус»', 'Кафе при АЗС «BP»', 'Wokker', 'АРИАНА',\n",
       "       'Кафе «Суши Вок»', 'Кафе «Бургер Кинг»', 'ПАПА ДЖОНС ПИЦЦА',\n",
       "       'Закусочная «Теремок»', 'Закусочная «Крошка Картошка»',\n",
       "       'Ресторан «Иль Патио»', 'Спорт-бар «Космик»', 'Ресторан «Космик»',\n",
       "       'Ресторан японской кухни «Маки-Маки»', 'Детское кафе «Космик»',\n",
       "       'Кафе ПРОНТО', 'Кофейня «Кофе хаус»', 'Ванвок', 'Шикари Иль Патио',\n",
       "       'Кафе «Данкин Донатс»', 'Ресторан «Бургер Кинг»',\n",
       "       'Кафе «Крошка Картошка»', 'Закусочная «KFC»',\n",
       "       'Закусочная «Пицца Хат»', 'Кафе «Costa coffee»', 'Каффе «Wokker»',\n",
       "       'Семейный ресторан «Космик»', 'Кафе Иль Патио «Il Patio»',\n",
       "       'Ресторан «Урюк»', 'Кофейня «Дабл Би»', 'Ресторан KFC',\n",
       "       'Ресторан быстрого питания «Крошка Картошка»', 'кафе «Нияма»',\n",
       "       'Starbucks кофе', 'МИ ПЬЯЧЕ', 'Пражечка',\n",
       "       'Павлин Мавлин Чайхона №1', 'Блинная', 'Correas',\n",
       "       'Мистер Картошка', 'Кафе «Сим-Сим»', 'Кафе «Му-му»',\n",
       "       'Pizengof99 СПБ', 'Меленка', 'Югос', 'Марчеллис',\n",
       "       'Кафе Песто и Митлес', 'Ресторан «Вареничная №1»', 'Молли гвинз',\n",
       "       'ВьетКафе', 'Шоколадница Кофемания', 'Дорогая я перезвоню',\n",
       "       'M Cafe Хинкальная', 'Marrakesh Хинкальная',\n",
       "       'Кофейня Кофемания, пиццерия Бармалини',\n",
       "       'Кофешоп Coffeeshop Company', 'Гудман Гудвин', 'Гудман',\n",
       "       'Torro Grill Торро Гриль', 'Ресторан Торро Гриль',\n",
       "       'Кафе «Старбакс»', 'The Terrace', 'Ваби-саби', 'Бир Хаус Паб',\n",
       "       'CORREAS', 'Вlack Burger Чайхона №1', 'Пончиковое кафе ИКЕА Ikea',\n",
       "       'Ресторан ИКЕА Ikea', 'Black & White', 'Пиццерия «Додо Пицца»',\n",
       "       'Роснефть', 'Upside Down', 'ПБО «KFC»', 'ПБО «Теремок»',\n",
       "       'Starbucks, СТАРБАКС КОФЕ', 'КОФЕЙНЯ «Costa Coffee»',\n",
       "       \"ДОМИНО'С ПИЦЦА\", 'Cookhouse', 'Dunkin Donuts',\n",
       "       'МСК Московская сеть кальянных', 'Братья Караваевых',\n",
       "       'Кафе Бургер Кинг', 'Кафе «ТО ДА СЁ»',\n",
       "       'Предприятие быстрого обслуживания «Магбургер»',\n",
       "       'Кафе «Баскин Роббинс»', 'Ресторан «БУРГЕР КИНГ»',\n",
       "       'Кафе БУРГЕР КИНГ', 'Пицца Паоло', 'COFIX', 'Пикколо', 'Пицца хат',\n",
       "       'Cofix', 'Милти', 'Сеть магазинов «Суши Wok»', 'Васаби',\n",
       "       'Грузинская кухня ЭZО Хинкальная', 'Кафе быстрого питания Му-му',\n",
       "       'Ресторан ТАНУКИ', 'Кафе Суши Wok', 'Хачапури, Одесса -мама',\n",
       "       'TGI FRIDAYS', 'Deli by Prime Прайм-кафе', 'Пицерия «Папа Джонс»',\n",
       "       'HEALTHY Food', 'Дабл Би блэк', 'Азбука вкуса', 'МИМИНО',\n",
       "       'Точка продажи готовой еды Милти',\n",
       "       'Предприятие быстрого обслуживания «ДОДО Пицца»',\n",
       "       'Суши «Маки-Маки»', 'Семейное кафе и кондитерская «Андерсон»',\n",
       "       'Пиццерия Папа Джонс', 'GRAND УРЮК', 'Кафе Волконский пекарня',\n",
       "       'Стардогs', 'Panda Express', 'Кафе «БУРГЕР КИНГ»',\n",
       "       'АВ-Дейли Азбука Вкуса', 'ШАНТИМЕЛЬ', 'Healthy food',\n",
       "       'Ирландский Паб', 'Ресторан «KFC»',\n",
       "       'Кафе мороженного «Tutti Frutti»', 'Кафе «Суши Wok»',\n",
       "       'Бар «Суши Wok»', 'Япоша', 'КУЛИНАРНАЯ ЛАВКА БРАТЬЕВ КАРАВАЕВЫХ',\n",
       "       \"Ресторан «Домино'с Пицца»\", 'Tutti frutti', 'Кафе «Папа Джонс»',\n",
       "       'ПАПА ДЖОНС', 'Кафе Prime Прайм стар Прайм-кафе',\n",
       "       'PRIME Прайм стар Прайм-кафе', 'Суши вок', \"Кафе «Домино'с Пицца»\",\n",
       "       'КАФЕ-ПЕКАРЕЯ «ВОЛКОНСКИЙ»', 'Нияма. Пицца Пи', 'Алло Пицца 2',\n",
       "       'БИСТРО ПРОНТО', 'ШТОЛЛЕ', 'Ливан-Хаус', 'Зю Кафе',\n",
       "       'Восточный базар', 'Сказка', 'Ресторан «Хинкальная»',\n",
       "       'Jeffreys Coffee', 'Ресторан «Пицца Хат»', 'Вкусняшка',\n",
       "       'МагБургер', 'Грузинские каникулы Барбарис', 'Стардогс СтардогS',\n",
       "       'Суши тун, Хруст pizza, Кофе тун', 'Кофе с собой «Кофейня»',\n",
       "       'Пиццерия «Пицца Паоло»', 'Кафе при АЗС Лукойл',\n",
       "       'Лукойл-Центрнефтьпродукт', 'FRIDAYS', 'TGI Fridays', 'Мираторг',\n",
       "       'Закусочная «Баскин Роббинс & Стардогс»', 'Бенто WOK',\n",
       "       'Кафе «Иль Патио»', 'Bubbleology', 'Starbucks Старбакс',\n",
       "       'Бодрый день Кофе с собой', 'ДоДо Пицца', 'ДОДО ПИЦЦА',\n",
       "       'ДОДО Пицца', 'BooBo', 'Кальянная Мята Lounge',\n",
       "       'Кальян-бар «Мята Lounge»', 'Кальян- бар «Мята Lounge»',\n",
       "       'Паб Кружка', 'БРУСНИКА', 'Luciano', 'Пиццерия «Пицца Хат»',\n",
       "       'Лукойл', 'Мята Lounge Шаболовка', 'Кальянная F-lounge', 'МИЛТИ',\n",
       "       'ПРАЙМ СТАР', 'МСК Московская сеть кальянных на Шаболовке',\n",
       "       'Семейное кафе Андерсон',\n",
       "       '«Кафе «Кулинарная лавка братьев Караваевых»»',\n",
       "       'Кафе «Кулинарная лавка братьев Караваевых»',\n",
       "       '«Кафе «Кулинарная лавка братьев Караваевых»',\n",
       "       \"Домино'с Пицца Domino,s Pizza\", 'Чешская пивная ПИЛЗНЕР',\n",
       "       'Beverly Hills Diner', 'Кафе Штолле',\n",
       "       'Предприятие быстрого питания «Крошка Картошка»', 'Florentini',\n",
       "       'Кондитерия Тирольские пироги', 'LAVKALAVKA', 'Хлебница пекарня',\n",
       "       'Кальян-бар MosKalyan', 'Анти-кафе кальянная «MosKalyan»',\n",
       "       'Ботик Петра', 'Советские времена Чебуречная СССР', 'ДоДо пицца',\n",
       "       'Мята Lounge Автозаводская', 'Osteria Mario', 'МЯСОROOB',\n",
       "       'МясоROOB', 'Газпромнефтьцентр', 'ДВЕ ПАЛОЧКИ', 'ХЛЕБ НАСУЩНЫЙ',\n",
       "       'ЯКИТОРИЯ И СПОРТ БАР', 'Японский ресторан «Ваби-Саби»',\n",
       "       'Goodman Гудман', 'PRIME STAR Прайм стар', 'Праймстар',\n",
       "       'CoffeeShop', 'My box', 'Vanwok Ванвок', 'Van Wok Ванвок',\n",
       "       'ББ энд БУРГЕРС В&В Бургер', 'КРОШКА КАРТОШКА',\n",
       "       'Закусочная «СтардогS»', 'Сувлаки', 'Бургер Клаб', 'Суши тун',\n",
       "       'Кофе с Собой', 'Пицца ПИПОНИ', 'Пицца Паоло и Бенто WOK',\n",
       "       'STARBUCKS COFFEE', 'Кофемания Starbucks', 'Movenpick',\n",
       "       'РОСТИКС KFC', 'Fridays KFC', 'Ресторан быстрого питания KFC',\n",
       "       'ВОККЕР', 'Marmalato', 'Предприятие быстрого обслуживания «Милти»',\n",
       "       'Дабл би', 'ДОДО пицца', 'Магазин готовой еды «Милти»',\n",
       "       'Готовые блюда Милти', 'Мята lounge', 'Лаундж-бар «Мята Lounge»',\n",
       "       'Бар Мята Lounge', 'Мята Lounge Октябрьская',\n",
       "       'Кальянная «Мята Lounge»', 'Мята'], dtype=object)"
      ]
     },
     "execution_count": 87,
     "metadata": {},
     "output_type": "execute_result"
    }
   ],
   "source": [
    "# Посмотрим на неявные дубликаты среди сетевых ресторанов\n",
    "\n",
    "df[df['chain'] == 'да']['object_name'].unique()"
   ]
  },
  {
   "cell_type": "markdown",
   "id": "1a8b43a7",
   "metadata": {},
   "source": [
    "Выявлено обилие неявных дубликатов сетей Макдоналдс, Додо пицца, Старбакс и др. Избавимся от них на этапе предобработки."
   ]
  },
  {
   "cell_type": "code",
   "execution_count": 88,
   "id": "35b95987",
   "metadata": {},
   "outputs": [
    {
     "data": {
      "text/plain": [
       "array(['нет', 'да'], dtype=object)"
      ]
     },
     "execution_count": 88,
     "metadata": {},
     "output_type": "execute_result"
    }
   ],
   "source": [
    "# Посмотрим на уникальные значения столбца 'chain'\n",
    "\n",
    "df['chain'].unique()"
   ]
  },
  {
   "cell_type": "markdown",
   "id": "1114c156",
   "metadata": {},
   "source": [
    "Дубликатов не обнаружено"
   ]
  },
  {
   "cell_type": "code",
   "execution_count": 89,
   "id": "2423fd7b",
   "metadata": {},
   "outputs": [
    {
     "data": {
      "text/plain": [
       "array(['кафе', 'столовая', 'закусочная',\n",
       "       'предприятие быстрого обслуживания', 'ресторан', 'кафетерий',\n",
       "       'буфет', 'бар', 'магазин (отдел кулинарии)'], dtype=object)"
      ]
     },
     "execution_count": 89,
     "metadata": {},
     "output_type": "execute_result"
    }
   ],
   "source": [
    "# Посмотрим на уникальные значения столбца 'object_type'\n",
    "\n",
    "df['object_type'].unique()"
   ]
  },
  {
   "cell_type": "markdown",
   "id": "9a183190",
   "metadata": {},
   "source": [
    "Дубликатов не обнаружено"
   ]
  },
  {
   "cell_type": "code",
   "execution_count": 90,
   "id": "1cf48ae4",
   "metadata": {},
   "outputs": [
    {
     "data": {
      "image/png": "[encoded data removed]",
      "text/plain": [
       "<Figure size 720x360 with 2 Axes>"
      ]
     },
     "metadata": {},
     "output_type": "display_data"
    }
   ],
   "source": [
    "# Построим гистограмму числовых переменных\n",
    "\n",
    "df.hist(figsize=[10,5], bins=50);"
   ]
  },
  {
   "cell_type": "markdown",
   "id": "fa843bfc",
   "metadata": {},
   "source": [
    "**Описание столбцов:**\n",
    "\n",
    "df:\n",
    "\n",
    "- id — идентификатор объекта;\n",
    "\n",
    "\n",
    "- object_name — название объекта общественного питания;\n",
    "\n",
    "\n",
    "- chain — сетевой ресторан;\n",
    "\n",
    "\n",
    "- object_type — тип объекта общественного питания;\n",
    "\n",
    "\n",
    "- address — адрес;\n",
    "\n",
    "\n",
    "- number — количество посадочных мест.\n",
    "\n",
    "\n",
    "\n",
    "df_districts:\n",
    "\n",
    "- streetname — название улицы;\n",
    "\n",
    "\n",
    "- areaid — идентификатор района;\n",
    "\n",
    "\n",
    "- okrug — название округа;\n",
    "\n",
    "\n",
    "- area — название района."
   ]
  },
  {
   "cell_type": "markdown",
   "id": "1889634c",
   "metadata": {},
   "source": [
    "## Предоброботка данных <a id='2'></a>"
   ]
  },
  {
   "cell_type": "code",
   "execution_count": 91,
   "id": "57ee3466",
   "metadata": {},
   "outputs": [],
   "source": [
    "# Во втором датафрейме поменяем названия столбцов\n",
    "\n",
    "df_districts = df_districts.rename(columns={'okrug' : 'area', 'area' : 'district'})"
   ]
  },
  {
   "cell_type": "code",
   "execution_count": 92,
   "id": "8bfd98fb",
   "metadata": {},
   "outputs": [],
   "source": [
    "# И удалим ненужные столбцы\n",
    "\n",
    "df_districts = df_districts.drop('areaid', axis=1)"
   ]
  },
  {
   "cell_type": "code",
   "execution_count": 93,
   "id": "77fb9808",
   "metadata": {},
   "outputs": [
    {
     "data": {
      "text/html": [
       "<div>\n",
       "<style scoped>\n",
       "    .dataframe tbody tr th:only-of-type {\n",
       "        vertical-align: middle;\n",
       "    }\n",
       "\n",
       "    .dataframe tbody tr th {\n",
       "        vertical-align: top;\n",
       "    }\n",
       "\n",
       "    .dataframe thead th {\n",
       "        text-align: right;\n",
       "    }\n",
       "</style>\n",
       "<table border=\"1\" class=\"dataframe\">\n",
       "  <thead>\n",
       "    <tr style=\"text-align: right;\">\n",
       "      <th></th>\n",
       "      <th>streetname</th>\n",
       "      <th>area</th>\n",
       "      <th>district</th>\n",
       "    </tr>\n",
       "  </thead>\n",
       "  <tbody>\n",
       "    <tr>\n",
       "      <th>0</th>\n",
       "      <td>Выставочный переулок</td>\n",
       "      <td>ЦАО</td>\n",
       "      <td>Пресненский район</td>\n",
       "    </tr>\n",
       "    <tr>\n",
       "      <th>1</th>\n",
       "      <td>улица Гашека</td>\n",
       "      <td>ЦАО</td>\n",
       "      <td>Пресненский район</td>\n",
       "    </tr>\n",
       "    <tr>\n",
       "      <th>2</th>\n",
       "      <td>Большая Никитская улица</td>\n",
       "      <td>ЦАО</td>\n",
       "      <td>Пресненский район</td>\n",
       "    </tr>\n",
       "    <tr>\n",
       "      <th>3</th>\n",
       "      <td>Глубокий переулок</td>\n",
       "      <td>ЦАО</td>\n",
       "      <td>Пресненский район</td>\n",
       "    </tr>\n",
       "    <tr>\n",
       "      <th>4</th>\n",
       "      <td>Большой Гнездниковский переулок</td>\n",
       "      <td>ЦАО</td>\n",
       "      <td>Пресненский район</td>\n",
       "    </tr>\n",
       "    <tr>\n",
       "      <th>...</th>\n",
       "      <td>...</td>\n",
       "      <td>...</td>\n",
       "      <td>...</td>\n",
       "    </tr>\n",
       "    <tr>\n",
       "      <th>4393</th>\n",
       "      <td>Вознесенский проезд</td>\n",
       "      <td>ЦАО</td>\n",
       "      <td>Пресненский район</td>\n",
       "    </tr>\n",
       "    <tr>\n",
       "      <th>4394</th>\n",
       "      <td>Волков переулок</td>\n",
       "      <td>ЦАО</td>\n",
       "      <td>Пресненский район</td>\n",
       "    </tr>\n",
       "    <tr>\n",
       "      <th>4395</th>\n",
       "      <td>Поварская улица</td>\n",
       "      <td>ЦАО</td>\n",
       "      <td>Пресненский район</td>\n",
       "    </tr>\n",
       "    <tr>\n",
       "      <th>4396</th>\n",
       "      <td>Кудринская площадь</td>\n",
       "      <td>ЦАО</td>\n",
       "      <td>Пресненский район</td>\n",
       "    </tr>\n",
       "    <tr>\n",
       "      <th>4397</th>\n",
       "      <td>Вспольный переулок</td>\n",
       "      <td>ЦАО</td>\n",
       "      <td>Пресненский район</td>\n",
       "    </tr>\n",
       "  </tbody>\n",
       "</table>\n",
       "<p>4398 rows × 3 columns</p>\n",
       "</div>"
      ],
      "text/plain": [
       "                           streetname area           district\n",
       "0                Выставочный переулок  ЦАО  Пресненский район\n",
       "1                        улица Гашека  ЦАО  Пресненский район\n",
       "2             Большая Никитская улица  ЦАО  Пресненский район\n",
       "3                   Глубокий переулок  ЦАО  Пресненский район\n",
       "4     Большой Гнездниковский переулок  ЦАО  Пресненский район\n",
       "...                               ...  ...                ...\n",
       "4393              Вознесенский проезд  ЦАО  Пресненский район\n",
       "4394                  Волков переулок  ЦАО  Пресненский район\n",
       "4395                  Поварская улица  ЦАО  Пресненский район\n",
       "4396               Кудринская площадь  ЦАО  Пресненский район\n",
       "4397               Вспольный переулок  ЦАО  Пресненский район\n",
       "\n",
       "[4398 rows x 3 columns]"
      ]
     },
     "execution_count": 93,
     "metadata": {},
     "output_type": "execute_result"
    }
   ],
   "source": [
    "# Проверим изменения\n",
    "\n",
    "df_districts"
   ]
  },
  {
   "cell_type": "code",
   "execution_count": 94,
   "id": "9d00325d",
   "metadata": {
    "scrolled": false
   },
   "outputs": [
    {
     "data": {
      "image/png": "[encoded data removed]",
      "text/plain": [
       "<Figure size 576x576 with 1 Axes>"
      ]
     },
     "metadata": {},
     "output_type": "display_data"
    }
   ],
   "source": [
    "df['number'].hist(bins=50, figsize=[8,8]);"
   ]
  },
  {
   "cell_type": "code",
   "execution_count": 95,
   "id": "3bec9664",
   "metadata": {
    "scrolled": false
   },
   "outputs": [
    {
     "data": {
      "text/html": [
       "<div>\n",
       "<style scoped>\n",
       "    .dataframe tbody tr th:only-of-type {\n",
       "        vertical-align: middle;\n",
       "    }\n",
       "\n",
       "    .dataframe tbody tr th {\n",
       "        vertical-align: top;\n",
       "    }\n",
       "\n",
       "    .dataframe thead th {\n",
       "        text-align: right;\n",
       "    }\n",
       "</style>\n",
       "<table border=\"1\" class=\"dataframe\">\n",
       "  <thead>\n",
       "    <tr style=\"text-align: right;\">\n",
       "      <th></th>\n",
       "      <th>id</th>\n",
       "      <th>object_name</th>\n",
       "      <th>chain</th>\n",
       "      <th>object_type</th>\n",
       "      <th>address</th>\n",
       "      <th>number</th>\n",
       "    </tr>\n",
       "  </thead>\n",
       "  <tbody>\n",
       "    <tr>\n",
       "      <th>120</th>\n",
       "      <td>26075</td>\n",
       "      <td>МАКДОНАЛДС</td>\n",
       "      <td>да</td>\n",
       "      <td>предприятие быстрого обслуживания</td>\n",
       "      <td>город Москва, Большая Бронная улица, дом 29</td>\n",
       "      <td>580</td>\n",
       "    </tr>\n",
       "    <tr>\n",
       "      <th>2294</th>\n",
       "      <td>26988</td>\n",
       "      <td>Ресторан «Михаил Светлов»</td>\n",
       "      <td>нет</td>\n",
       "      <td>ресторан</td>\n",
       "      <td>город Москва, Измайловское шоссе, дом 71, корпус 4Г-Д</td>\n",
       "      <td>542</td>\n",
       "    </tr>\n",
       "    <tr>\n",
       "      <th>2313</th>\n",
       "      <td>26560</td>\n",
       "      <td>Ресторан «АЛЬФА»</td>\n",
       "      <td>нет</td>\n",
       "      <td>ресторан</td>\n",
       "      <td>город Москва, Измайловское шоссе, дом 71, корпус А</td>\n",
       "      <td>1040</td>\n",
       "    </tr>\n",
       "    <tr>\n",
       "      <th>2317</th>\n",
       "      <td>73306</td>\n",
       "      <td>Ресторан «БЕТА»</td>\n",
       "      <td>нет</td>\n",
       "      <td>ресторан</td>\n",
       "      <td>город Москва, Измайловское шоссе, дом 71, корпус 2Б</td>\n",
       "      <td>660</td>\n",
       "    </tr>\n",
       "    <tr>\n",
       "      <th>3401</th>\n",
       "      <td>135197</td>\n",
       "      <td>ДУРДИНЪ</td>\n",
       "      <td>нет</td>\n",
       "      <td>ресторан</td>\n",
       "      <td>город Москва, Мичуринский проспект, дом 8, строение 1</td>\n",
       "      <td>650</td>\n",
       "    </tr>\n",
       "    <tr>\n",
       "      <th>3686</th>\n",
       "      <td>27026</td>\n",
       "      <td>РУМ СЕРВИС</td>\n",
       "      <td>нет</td>\n",
       "      <td>ресторан</td>\n",
       "      <td>город Москва, площадь Европы, дом 2</td>\n",
       "      <td>1200</td>\n",
       "    </tr>\n",
       "    <tr>\n",
       "      <th>4110</th>\n",
       "      <td>29320</td>\n",
       "      <td>Столовая</td>\n",
       "      <td>нет</td>\n",
       "      <td>столовая</td>\n",
       "      <td>город Москва, Каширское шоссе, дом 31</td>\n",
       "      <td>680</td>\n",
       "    </tr>\n",
       "    <tr>\n",
       "      <th>4480</th>\n",
       "      <td>27024</td>\n",
       "      <td>РУМ СЕРВИС</td>\n",
       "      <td>нет</td>\n",
       "      <td>ресторан</td>\n",
       "      <td>город Москва, Кутузовский проспект, дом 2/1, строение 1</td>\n",
       "      <td>1200</td>\n",
       "    </tr>\n",
       "    <tr>\n",
       "      <th>5327</th>\n",
       "      <td>23165</td>\n",
       "      <td>КАРДИНАЛ</td>\n",
       "      <td>нет</td>\n",
       "      <td>кафе</td>\n",
       "      <td>город Москва, Хибинский проезд, дом 14, строение 1</td>\n",
       "      <td>533</td>\n",
       "    </tr>\n",
       "    <tr>\n",
       "      <th>5649</th>\n",
       "      <td>29232</td>\n",
       "      <td>СТОЛОВАЯ МОСКОВСКИЙ ГУМАНИТАРНЫЙ УНИВЕРСИТЕТ</td>\n",
       "      <td>нет</td>\n",
       "      <td>столовая</td>\n",
       "      <td>город Москва, улица Юности, дом 5, строение 1</td>\n",
       "      <td>760</td>\n",
       "    </tr>\n",
       "    <tr>\n",
       "      <th>5666</th>\n",
       "      <td>24445</td>\n",
       "      <td>Ресторан Мой двор</td>\n",
       "      <td>нет</td>\n",
       "      <td>ресторан</td>\n",
       "      <td>город Москва, улица Сталеваров, дом 3Л</td>\n",
       "      <td>585</td>\n",
       "    </tr>\n",
       "    <tr>\n",
       "      <th>6077</th>\n",
       "      <td>29073</td>\n",
       "      <td>СТОЛОВАЯ 16 ПРИ РУДН</td>\n",
       "      <td>нет</td>\n",
       "      <td>столовая</td>\n",
       "      <td>город Москва, улица Миклухо-Маклая, дом 6</td>\n",
       "      <td>644</td>\n",
       "    </tr>\n",
       "    <tr>\n",
       "      <th>6083</th>\n",
       "      <td>26594</td>\n",
       "      <td>Зал Наполеон</td>\n",
       "      <td>нет</td>\n",
       "      <td>ресторан</td>\n",
       "      <td>город Москва, улица Гарибальди, дом 1А</td>\n",
       "      <td>600</td>\n",
       "    </tr>\n",
       "    <tr>\n",
       "      <th>7104</th>\n",
       "      <td>27033</td>\n",
       "      <td>Банкетный</td>\n",
       "      <td>нет</td>\n",
       "      <td>ресторан</td>\n",
       "      <td>город Москва, Ленинградский проспект, дом 31А, строение 1</td>\n",
       "      <td>625</td>\n",
       "    </tr>\n",
       "    <tr>\n",
       "      <th>7207</th>\n",
       "      <td>28600</td>\n",
       "      <td>СТОЛОВАЯ МИЭТ</td>\n",
       "      <td>нет</td>\n",
       "      <td>столовая</td>\n",
       "      <td>город Москва, город Зеленоград, площадь Шокина, дом 1</td>\n",
       "      <td>520</td>\n",
       "    </tr>\n",
       "    <tr>\n",
       "      <th>7280</th>\n",
       "      <td>26269</td>\n",
       "      <td>Ресторан «Шахин Шах»</td>\n",
       "      <td>нет</td>\n",
       "      <td>ресторан</td>\n",
       "      <td>город Москва, улица Маршала Захарова, дом 6, корпус 1</td>\n",
       "      <td>675</td>\n",
       "    </tr>\n",
       "    <tr>\n",
       "      <th>7807</th>\n",
       "      <td>66234</td>\n",
       "      <td>Стамбул</td>\n",
       "      <td>нет</td>\n",
       "      <td>ресторан</td>\n",
       "      <td>город Москва, улица Скульптора Мухиной, дом 11</td>\n",
       "      <td>650</td>\n",
       "    </tr>\n",
       "    <tr>\n",
       "      <th>8148</th>\n",
       "      <td>80291</td>\n",
       "      <td>Банкетный зал Шелк</td>\n",
       "      <td>нет</td>\n",
       "      <td>ресторан</td>\n",
       "      <td>город Москва, Большой Саввинский переулок, дом 12, строение 10Г</td>\n",
       "      <td>1500</td>\n",
       "    </tr>\n",
       "    <tr>\n",
       "      <th>8345</th>\n",
       "      <td>27750</td>\n",
       "      <td>СТОЛОВАЯ-БУФЕТ</td>\n",
       "      <td>нет</td>\n",
       "      <td>столовая</td>\n",
       "      <td>город Москва, улица Волхонка, дом 15</td>\n",
       "      <td>1400</td>\n",
       "    </tr>\n",
       "    <tr>\n",
       "      <th>9064</th>\n",
       "      <td>19719</td>\n",
       "      <td>КОМБИНАТ ПИТАНИЯ «УПРАВЛЕНИЕ АКАДЕМСЕРВИС»</td>\n",
       "      <td>нет</td>\n",
       "      <td>столовая</td>\n",
       "      <td>город Москва, проспект Вернадского, дом 84, строение 1</td>\n",
       "      <td>1288</td>\n",
       "    </tr>\n",
       "    <tr>\n",
       "      <th>9955</th>\n",
       "      <td>171116</td>\n",
       "      <td>EATALY</td>\n",
       "      <td>нет</td>\n",
       "      <td>ресторан</td>\n",
       "      <td>город Москва, Киевская улица, дом 2</td>\n",
       "      <td>920</td>\n",
       "    </tr>\n",
       "    <tr>\n",
       "      <th>12723</th>\n",
       "      <td>199696</td>\n",
       "      <td>Arena by Soho Family</td>\n",
       "      <td>нет</td>\n",
       "      <td>бар</td>\n",
       "      <td>город Москва, Кутузовский проспект, дом 36, строение 11</td>\n",
       "      <td>1700</td>\n",
       "    </tr>\n",
       "    <tr>\n",
       "      <th>13299</th>\n",
       "      <td>200905</td>\n",
       "      <td>White Hall</td>\n",
       "      <td>нет</td>\n",
       "      <td>ресторан</td>\n",
       "      <td>город Москва, Ферганская улица, дом 8</td>\n",
       "      <td>700</td>\n",
       "    </tr>\n",
       "    <tr>\n",
       "      <th>14155</th>\n",
       "      <td>207566</td>\n",
       "      <td>Столовая МИТ</td>\n",
       "      <td>нет</td>\n",
       "      <td>столовая</td>\n",
       "      <td>город Москва, Берёзовая аллея, дом 10, корпус 1</td>\n",
       "      <td>600</td>\n",
       "    </tr>\n",
       "  </tbody>\n",
       "</table>\n",
       "</div>"
      ],
      "text/plain": [
       "           id                                   object_name chain  \\\n",
       "120     26075                                    МАКДОНАЛДС    да   \n",
       "2294    26988                     Ресторан «Михаил Светлов»   нет   \n",
       "2313    26560                              Ресторан «АЛЬФА»   нет   \n",
       "2317    73306                               Ресторан «БЕТА»   нет   \n",
       "3401   135197                                       ДУРДИНЪ   нет   \n",
       "3686    27026                                    РУМ СЕРВИС   нет   \n",
       "4110    29320                                      Столовая   нет   \n",
       "4480    27024                                    РУМ СЕРВИС   нет   \n",
       "5327    23165                                      КАРДИНАЛ   нет   \n",
       "5649    29232  СТОЛОВАЯ МОСКОВСКИЙ ГУМАНИТАРНЫЙ УНИВЕРСИТЕТ   нет   \n",
       "5666    24445                             Ресторан Мой двор   нет   \n",
       "6077    29073                          СТОЛОВАЯ 16 ПРИ РУДН   нет   \n",
       "6083    26594                                  Зал Наполеон   нет   \n",
       "7104    27033                                     Банкетный   нет   \n",
       "7207    28600                                 СТОЛОВАЯ МИЭТ   нет   \n",
       "7280    26269                          Ресторан «Шахин Шах»   нет   \n",
       "7807    66234                                       Стамбул   нет   \n",
       "8148    80291                            Банкетный зал Шелк   нет   \n",
       "8345    27750                                СТОЛОВАЯ-БУФЕТ   нет   \n",
       "9064    19719    КОМБИНАТ ПИТАНИЯ «УПРАВЛЕНИЕ АКАДЕМСЕРВИС»   нет   \n",
       "9955   171116                                        EATALY   нет   \n",
       "12723  199696                          Arena by Soho Family   нет   \n",
       "13299  200905                                    White Hall   нет   \n",
       "14155  207566                                  Столовая МИТ   нет   \n",
       "\n",
       "                             object_type  \\\n",
       "120    предприятие быстрого обслуживания   \n",
       "2294                            ресторан   \n",
       "2313                            ресторан   \n",
       "2317                            ресторан   \n",
       "3401                            ресторан   \n",
       "3686                            ресторан   \n",
       "4110                            столовая   \n",
       "4480                            ресторан   \n",
       "5327                                кафе   \n",
       "5649                            столовая   \n",
       "5666                            ресторан   \n",
       "6077                            столовая   \n",
       "6083                            ресторан   \n",
       "7104                            ресторан   \n",
       "7207                            столовая   \n",
       "7280                            ресторан   \n",
       "7807                            ресторан   \n",
       "8148                            ресторан   \n",
       "8345                            столовая   \n",
       "9064                            столовая   \n",
       "9955                            ресторан   \n",
       "12723                                бар   \n",
       "13299                           ресторан   \n",
       "14155                           столовая   \n",
       "\n",
       "                                                               address  number  \n",
       "120                        город Москва, Большая Бронная улица, дом 29     580  \n",
       "2294             город Москва, Измайловское шоссе, дом 71, корпус 4Г-Д     542  \n",
       "2313                город Москва, Измайловское шоссе, дом 71, корпус А    1040  \n",
       "2317               город Москва, Измайловское шоссе, дом 71, корпус 2Б     660  \n",
       "3401             город Москва, Мичуринский проспект, дом 8, строение 1     650  \n",
       "3686                               город Москва, площадь Европы, дом 2    1200  \n",
       "4110                             город Москва, Каширское шоссе, дом 31     680  \n",
       "4480           город Москва, Кутузовский проспект, дом 2/1, строение 1    1200  \n",
       "5327                город Москва, Хибинский проезд, дом 14, строение 1     533  \n",
       "5649                     город Москва, улица Юности, дом 5, строение 1     760  \n",
       "5666                            город Москва, улица Сталеваров, дом 3Л     585  \n",
       "6077                         город Москва, улица Миклухо-Маклая, дом 6     644  \n",
       "6083                            город Москва, улица Гарибальди, дом 1А     600  \n",
       "7104         город Москва, Ленинградский проспект, дом 31А, строение 1     625  \n",
       "7207             город Москва, город Зеленоград, площадь Шокина, дом 1     520  \n",
       "7280             город Москва, улица Маршала Захарова, дом 6, корпус 1     675  \n",
       "7807                    город Москва, улица Скульптора Мухиной, дом 11     650  \n",
       "8148   город Москва, Большой Саввинский переулок, дом 12, строение 10Г    1500  \n",
       "8345                              город Москва, улица Волхонка, дом 15    1400  \n",
       "9064            город Москва, проспект Вернадского, дом 84, строение 1    1288  \n",
       "9955                               город Москва, Киевская улица, дом 2     920  \n",
       "12723          город Москва, Кутузовский проспект, дом 36, строение 11    1700  \n",
       "13299                            город Москва, Ферганская улица, дом 8     700  \n",
       "14155                  город Москва, Берёзовая аллея, дом 10, корпус 1     600  "
      ]
     },
     "execution_count": 95,
     "metadata": {},
     "output_type": "execute_result"
    }
   ],
   "source": [
    "# Посмотрим на заведения с количеством мест более 500\n",
    "\n",
    "df[df['number'] > 500]"
   ]
  },
  {
   "cell_type": "code",
   "execution_count": 96,
   "id": "4e5bffcf",
   "metadata": {
    "scrolled": false
   },
   "outputs": [
    {
     "data": {
      "text/html": [
       "<div>\n",
       "<style scoped>\n",
       "    .dataframe tbody tr th:only-of-type {\n",
       "        vertical-align: middle;\n",
       "    }\n",
       "\n",
       "    .dataframe tbody tr th {\n",
       "        vertical-align: top;\n",
       "    }\n",
       "\n",
       "    .dataframe thead th {\n",
       "        text-align: right;\n",
       "    }\n",
       "</style>\n",
       "<table border=\"1\" class=\"dataframe\">\n",
       "  <thead>\n",
       "    <tr style=\"text-align: right;\">\n",
       "      <th></th>\n",
       "      <th>id</th>\n",
       "      <th>object_name</th>\n",
       "      <th>chain</th>\n",
       "      <th>object_type</th>\n",
       "      <th>address</th>\n",
       "      <th>number</th>\n",
       "    </tr>\n",
       "  </thead>\n",
       "  <tbody>\n",
       "    <tr>\n",
       "      <th>5</th>\n",
       "      <td>27429</td>\n",
       "      <td>СТОЛ. ПРИ ГОУ СОШ № 1051</td>\n",
       "      <td>нет</td>\n",
       "      <td>столовая</td>\n",
       "      <td>город Москва, Абрамцевская улица, дом 15, корпус 1</td>\n",
       "      <td>240</td>\n",
       "    </tr>\n",
       "    <tr>\n",
       "      <th>14</th>\n",
       "      <td>23670</td>\n",
       "      <td>Гимназия 1542</td>\n",
       "      <td>нет</td>\n",
       "      <td>столовая</td>\n",
       "      <td>город Москва, улица Авиаторов, дом 16</td>\n",
       "      <td>270</td>\n",
       "    </tr>\n",
       "    <tr>\n",
       "      <th>15</th>\n",
       "      <td>23663</td>\n",
       "      <td>Школа 1011</td>\n",
       "      <td>нет</td>\n",
       "      <td>столовая</td>\n",
       "      <td>город Москва, улица Авиаторов, дом 18</td>\n",
       "      <td>320</td>\n",
       "    </tr>\n",
       "    <tr>\n",
       "      <th>28</th>\n",
       "      <td>27439</td>\n",
       "      <td>ШКОЛА 1444</td>\n",
       "      <td>нет</td>\n",
       "      <td>столовая</td>\n",
       "      <td>город Москва, Анадырский проезд, дом 55</td>\n",
       "      <td>240</td>\n",
       "    </tr>\n",
       "    <tr>\n",
       "      <th>31</th>\n",
       "      <td>29006</td>\n",
       "      <td>Гимназия № 1527</td>\n",
       "      <td>нет</td>\n",
       "      <td>столовая</td>\n",
       "      <td>город Москва, проспект Андропова, дом 17, корпус 2</td>\n",
       "      <td>240</td>\n",
       "    </tr>\n",
       "    <tr>\n",
       "      <th>...</th>\n",
       "      <td>...</td>\n",
       "      <td>...</td>\n",
       "      <td>...</td>\n",
       "      <td>...</td>\n",
       "      <td>...</td>\n",
       "      <td>...</td>\n",
       "    </tr>\n",
       "    <tr>\n",
       "      <th>14776</th>\n",
       "      <td>209567</td>\n",
       "      <td>Шантри</td>\n",
       "      <td>нет</td>\n",
       "      <td>ресторан</td>\n",
       "      <td>город Москва, Цветной бульвар, дом 30, строение 1</td>\n",
       "      <td>250</td>\n",
       "    </tr>\n",
       "    <tr>\n",
       "      <th>14806</th>\n",
       "      <td>217895</td>\n",
       "      <td>Ресторан - Глобус</td>\n",
       "      <td>нет</td>\n",
       "      <td>ресторан</td>\n",
       "      <td>город Москва, Новорижское шоссе, 22-й километр, владение 1, строение 1</td>\n",
       "      <td>400</td>\n",
       "    </tr>\n",
       "    <tr>\n",
       "      <th>14832</th>\n",
       "      <td>222833</td>\n",
       "      <td>Sytiy Los</td>\n",
       "      <td>нет</td>\n",
       "      <td>ресторан</td>\n",
       "      <td>город Москва, Ярцевская улица, дом 19</td>\n",
       "      <td>200</td>\n",
       "    </tr>\n",
       "    <tr>\n",
       "      <th>14971</th>\n",
       "      <td>208949</td>\n",
       "      <td>Столовая</td>\n",
       "      <td>нет</td>\n",
       "      <td>столовая</td>\n",
       "      <td>город Москва, Отрадная улица, дом 2Б, строение 9</td>\n",
       "      <td>250</td>\n",
       "    </tr>\n",
       "    <tr>\n",
       "      <th>15023</th>\n",
       "      <td>210164</td>\n",
       "      <td>Osteria Mario+Швили</td>\n",
       "      <td>нет</td>\n",
       "      <td>ресторан</td>\n",
       "      <td>город Москва, поселение Московский, Киевское шоссе, 23-й километр, дом 1, строение 1</td>\n",
       "      <td>273</td>\n",
       "    </tr>\n",
       "  </tbody>\n",
       "</table>\n",
       "<p>994 rows × 6 columns</p>\n",
       "</div>"
      ],
      "text/plain": [
       "           id               object_name chain object_type  \\\n",
       "5       27429  СТОЛ. ПРИ ГОУ СОШ № 1051   нет    столовая   \n",
       "14      23670             Гимназия 1542   нет    столовая   \n",
       "15      23663                Школа 1011   нет    столовая   \n",
       "28      27439                ШКОЛА 1444   нет    столовая   \n",
       "31      29006           Гимназия № 1527   нет    столовая   \n",
       "...       ...                       ...   ...         ...   \n",
       "14776  209567                    Шантри   нет    ресторан   \n",
       "14806  217895         Ресторан - Глобус   нет    ресторан   \n",
       "14832  222833                 Sytiy Los   нет    ресторан   \n",
       "14971  208949                  Столовая   нет    столовая   \n",
       "15023  210164       Osteria Mario+Швили   нет    ресторан   \n",
       "\n",
       "                                                                                    address  \\\n",
       "5                                        город Москва, Абрамцевская улица, дом 15, корпус 1   \n",
       "14                                                    город Москва, улица Авиаторов, дом 16   \n",
       "15                                                    город Москва, улица Авиаторов, дом 18   \n",
       "28                                                  город Москва, Анадырский проезд, дом 55   \n",
       "31                                       город Москва, проспект Андропова, дом 17, корпус 2   \n",
       "...                                                                                     ...   \n",
       "14776                                     город Москва, Цветной бульвар, дом 30, строение 1   \n",
       "14806                город Москва, Новорижское шоссе, 22-й километр, владение 1, строение 1   \n",
       "14832                                                 город Москва, Ярцевская улица, дом 19   \n",
       "14971                                      город Москва, Отрадная улица, дом 2Б, строение 9   \n",
       "15023  город Москва, поселение Московский, Киевское шоссе, 23-й километр, дом 1, строение 1   \n",
       "\n",
       "       number  \n",
       "5         240  \n",
       "14        270  \n",
       "15        320  \n",
       "28        240  \n",
       "31        240  \n",
       "...       ...  \n",
       "14776     250  \n",
       "14806     400  \n",
       "14832     200  \n",
       "14971     250  \n",
       "15023     273  \n",
       "\n",
       "[994 rows x 6 columns]"
      ]
     },
     "execution_count": 96,
     "metadata": {},
     "output_type": "execute_result"
    }
   ],
   "source": [
    "# Посмотрим на заведения с количеством мест более 200 и менее 500\n",
    "\n",
    "df[df['number'].between(200, 500)]"
   ]
  },
  {
   "cell_type": "markdown",
   "id": "0fdb9445",
   "metadata": {},
   "source": [
    "Количество посадочных мест более 500-600 кажется аномальным (это по логике, судя по violinplot можно считать выбросами значения более 350 посадочных). Возможно, это банкетные залы или просто ошибочные значения. В данных также есть столовые учебных заведений, которые нам совершенно не нужны. "
   ]
  },
  {
   "cell_type": "code",
   "execution_count": 97,
   "id": "c2c53d89",
   "metadata": {
    "scrolled": true
   },
   "outputs": [
    {
     "data": {
      "text/plain": [
       "1621"
      ]
     },
     "execution_count": 97,
     "metadata": {},
     "output_type": "execute_result"
    }
   ],
   "source": [
    "# Посмотрим на количество заведений без посадочных мест\n",
    "\n",
    "df[df['number'] == 0]['number'].count()"
   ]
  },
  {
   "cell_type": "markdown",
   "id": "c565535e",
   "metadata": {},
   "source": [
    "При анализе среднего и медианного количества мест данные заведения будут исключены."
   ]
  },
  {
   "cell_type": "markdown",
   "id": "0252132b",
   "metadata": {},
   "source": [
    "Если совпадают и название, и адрес, и тип объекта, скорее всего, перед нами одно и то же заведение. Будем удалять."
   ]
  },
  {
   "cell_type": "code",
   "execution_count": 98,
   "id": "1beb581a",
   "metadata": {},
   "outputs": [
    {
     "data": {
      "text/plain": [
       "171"
      ]
     },
     "execution_count": 98,
     "metadata": {},
     "output_type": "execute_result"
    }
   ],
   "source": [
    "# Найдем дубликаты по нескольким столбцам\n",
    "\n",
    "df.duplicated(subset=['address','object_name', 'object_type']).sum()"
   ]
  },
  {
   "cell_type": "code",
   "execution_count": 99,
   "id": "938147bf",
   "metadata": {},
   "outputs": [
    {
     "name": "stdout",
     "output_type": "stream",
     "text": [
      "<class 'pandas.core.frame.DataFrame'>\n",
      "Int64Index: 15195 entries, 0 to 15364\n",
      "Data columns (total 6 columns):\n",
      " #   Column       Non-Null Count  Dtype \n",
      "---  ------       --------------  ----- \n",
      " 0   id           15195 non-null  int64 \n",
      " 1   object_name  15195 non-null  object\n",
      " 2   chain        15195 non-null  object\n",
      " 3   object_type  15195 non-null  object\n",
      " 4   address      15195 non-null  object\n",
      " 5   number       15195 non-null  int64 \n",
      "dtypes: int64(2), object(4)\n",
      "memory usage: 831.0+ KB\n"
     ]
    }
   ],
   "source": [
    "# Удаление неявных дубликатов\n",
    "\n",
    "df = df[df['id'].isin(df['id'][df.duplicated(subset=['address','object_name', 'object_type'])]) == False]\n",
    "\n",
    "df.info()"
   ]
  },
  {
   "cell_type": "code",
   "execution_count": 100,
   "id": "b0abdcb9",
   "metadata": {},
   "outputs": [],
   "source": [
    "# Создание среза с заведениями, в которых менее 600 мест\n",
    "\n",
    "df.query('number < 600', inplace=True)"
   ]
  },
  {
   "cell_type": "code",
   "execution_count": 101,
   "id": "4ff14181",
   "metadata": {},
   "outputs": [],
   "source": [
    "# Избавимся от неявных дубликатов в названиях, приведя к нижнему регистру\n",
    "\n",
    "df['object_name'] = df['object_name'].str.lower()"
   ]
  },
  {
   "cell_type": "code",
   "execution_count": 102,
   "id": "4958be54",
   "metadata": {},
   "outputs": [
    {
     "data": {
      "text/plain": [
       "9909"
      ]
     },
     "execution_count": 102,
     "metadata": {},
     "output_type": "execute_result"
    }
   ],
   "source": [
    "# Посмотрим на количество уникальных значений\n",
    "\n",
    "df['object_name'].nunique()"
   ]
  },
  {
   "cell_type": "code",
   "execution_count": 103,
   "id": "8fb54947",
   "metadata": {},
   "outputs": [],
   "source": [
    "# Создадим список дублирующихся сетевых заведений\n",
    "\n",
    "restaurant_list = ['макдоналдс', 'бургер кинг', 'kfc', 'старбакс', \n",
    "                   'мята lounge', 'му-му', 'шоколадница', 'суши вок', 'subway', \n",
    "                   'магбургер', 'джон джоли', 'папа джонс', 'тарас бульба', \n",
    "                   'братья караваевы', 'тануки', 'вареничная №1', 'теремок', \n",
    "                   'якитория', 'волконский', 'прайм', 'азбука вкуса', 'ёрш', \n",
    "                   'кулинарное бюро', 'андерсон', 'крошка картошка', 'кофемания', 'coffeeshop']"
   ]
  },
  {
   "cell_type": "code",
   "execution_count": 104,
   "id": "52e67f7c",
   "metadata": {},
   "outputs": [],
   "source": [
    "# Заменим некоторые неявные дубликаты, используя расстояние Левенштейна\n",
    "\n",
    "for a in df['object_name'].unique():\n",
    "    for b in restaurant_list:\n",
    "        s = fuzz.partial_ratio(a, b)\n",
    "        if s > 80:\n",
    "            df['object_name'].replace(a, b, inplace=True)"
   ]
  },
  {
   "cell_type": "code",
   "execution_count": 105,
   "id": "109af61b",
   "metadata": {},
   "outputs": [
    {
     "data": {
      "text/plain": [
       "9693"
      ]
     },
     "execution_count": 105,
     "metadata": {},
     "output_type": "execute_result"
    }
   ],
   "source": [
    " # Посмотрим на количество уникальных значений\n",
    "\n",
    "df['object_name'].nunique()"
   ]
  },
  {
   "cell_type": "markdown",
   "id": "d7de527c",
   "metadata": {},
   "source": [
    "Удалось убрать порядка полутора тысяч неявных дубликатов"
   ]
  },
  {
   "cell_type": "code",
   "execution_count": 106,
   "id": "789fa5aa",
   "metadata": {},
   "outputs": [],
   "source": [
    "# Уберем из датафрейма данные о столовыех в учебных заведениях\n",
    "\n",
    "df = df[df['object_name'].str.contains('школ|сош|гимназия|институт|университет|колледжи|гбоу|школе|лицей') == False]"
   ]
  },
  {
   "cell_type": "code",
   "execution_count": 107,
   "id": "f7afe404",
   "metadata": {},
   "outputs": [],
   "source": [
    "# Добавление столбца с улицей заведения\n",
    "\n",
    "df['streetname'] = (\n",
    "    df['address'].apply(lambda x: x.split(',')[1].strip() \n",
    "                        if x.split(',')[0] == 'город Москва' else x.split(',')[0])\n",
    ")"
   ]
  },
  {
   "cell_type": "code",
   "execution_count": 108,
   "id": "066491e6",
   "metadata": {},
   "outputs": [
    {
     "data": {
      "text/html": [
       "<div>\n",
       "<style scoped>\n",
       "    .dataframe tbody tr th:only-of-type {\n",
       "        vertical-align: middle;\n",
       "    }\n",
       "\n",
       "    .dataframe tbody tr th {\n",
       "        vertical-align: top;\n",
       "    }\n",
       "\n",
       "    .dataframe thead th {\n",
       "        text-align: right;\n",
       "    }\n",
       "</style>\n",
       "<table border=\"1\" class=\"dataframe\">\n",
       "  <thead>\n",
       "    <tr style=\"text-align: right;\">\n",
       "      <th></th>\n",
       "      <th>id</th>\n",
       "      <th>object_name</th>\n",
       "      <th>chain</th>\n",
       "      <th>object_type</th>\n",
       "      <th>address</th>\n",
       "      <th>number</th>\n",
       "      <th>streetname</th>\n",
       "    </tr>\n",
       "  </thead>\n",
       "  <tbody>\n",
       "    <tr>\n",
       "      <th>0</th>\n",
       "      <td>151635</td>\n",
       "      <td>сметана</td>\n",
       "      <td>нет</td>\n",
       "      <td>кафе</td>\n",
       "      <td>город Москва, улица Егора Абакумова, дом 9</td>\n",
       "      <td>48</td>\n",
       "      <td>улица Егора Абакумова</td>\n",
       "    </tr>\n",
       "  </tbody>\n",
       "</table>\n",
       "</div>"
      ],
      "text/plain": [
       "       id object_name chain object_type  \\\n",
       "0  151635     сметана   нет        кафе   \n",
       "\n",
       "                                      address  number             streetname  \n",
       "0  город Москва, улица Егора Абакумова, дом 9      48  улица Егора Абакумова  "
      ]
     },
     "execution_count": 108,
     "metadata": {},
     "output_type": "execute_result"
    }
   ],
   "source": [
    "df.head(1)"
   ]
  },
  {
   "cell_type": "code",
   "execution_count": 109,
   "id": "e1a4a001",
   "metadata": {},
   "outputs": [],
   "source": [
    "# Удалим адреса, явно находящиеся за пределами старой Москвы\n",
    "\n",
    "df = (\n",
    "    df[df['address'].str.\n",
    "contains('Зеленоград|Московский|Щербинка|Троицк|поселок|посёлок|деревня|поселение|километр|владение|Ленинские|Кузьминки') \n",
    "== False]\n",
    "    )"
   ]
  },
  {
   "cell_type": "code",
   "execution_count": 333,
   "id": "368c44a9",
   "metadata": {},
   "outputs": [],
   "source": [
    "# Поулучим координаты адресов и районы\n",
    "\n",
    "df['coordinates'] = df.apply(lambda x: get_lat_lng_district(x['address'], x['streetname'], direct, reverse), axis=1)"
   ]
  },
  {
   "cell_type": "code",
   "execution_count": 111,
   "id": "b77675fb",
   "metadata": {},
   "outputs": [],
   "source": [
    "# Создадим отдельно столбцы с координатами и районами\n",
    "\n",
    "df['district'] = df['coordinates'].apply(lambda x: x[1])\n",
    "df['coordinates'] = df['coordinates'].apply(lambda x: x[0])"
   ]
  },
  {
   "cell_type": "code",
   "execution_count": 113,
   "id": "c5eec6d8",
   "metadata": {},
   "outputs": [
    {
     "name": "stdout",
     "output_type": "stream",
     "text": [
      "<class 'pandas.core.frame.DataFrame'>\n",
      "Int64Index: 12828 entries, 0 to 15362\n",
      "Data columns (total 7 columns):\n",
      " #   Column       Non-Null Count  Dtype \n",
      "---  ------       --------------  ----- \n",
      " 0   id           12828 non-null  int64 \n",
      " 1   object_name  12828 non-null  object\n",
      " 2   chain        12828 non-null  object\n",
      " 3   object_type  12828 non-null  object\n",
      " 4   address      12828 non-null  object\n",
      " 5   number       12828 non-null  int64 \n",
      " 6   streetname   12828 non-null  object\n",
      "dtypes: int64(2), object(5)\n",
      "memory usage: 801.8+ KB\n"
     ]
    }
   ],
   "source": [
    "# Посморим на информацию о датафрейме\n",
    "\n",
    "df.info()"
   ]
  },
  {
   "cell_type": "markdown",
   "id": "b30264b8",
   "metadata": {},
   "source": [
    "## Исследовательский анализ данных <a id='3'></a>"
   ]
  },
  {
   "cell_type": "code",
   "execution_count": 144,
   "id": "88343d08",
   "metadata": {},
   "outputs": [],
   "source": [
    "pd.options.display.float_format = '{:,.0f}'.format "
   ]
  },
  {
   "cell_type": "markdown",
   "id": "ee77e059",
   "metadata": {},
   "source": [
    "### Распределение заведений по типу объекта <a id='4'></a>"
   ]
  },
  {
   "cell_type": "code",
   "execution_count": 145,
   "id": "c465ba0b",
   "metadata": {
    "scrolled": true
   },
   "outputs": [
    {
     "data": {
      "text/html": [
       "<div>\n",
       "<style scoped>\n",
       "    .dataframe tbody tr th:only-of-type {\n",
       "        vertical-align: middle;\n",
       "    }\n",
       "\n",
       "    .dataframe tbody tr th {\n",
       "        vertical-align: top;\n",
       "    }\n",
       "\n",
       "    .dataframe thead th {\n",
       "        text-align: right;\n",
       "    }\n",
       "</style>\n",
       "<table border=\"1\" class=\"dataframe\">\n",
       "  <thead>\n",
       "    <tr style=\"text-align: right;\">\n",
       "      <th></th>\n",
       "      <th>id</th>\n",
       "    </tr>\n",
       "    <tr>\n",
       "      <th>object_type</th>\n",
       "      <th></th>\n",
       "    </tr>\n",
       "  </thead>\n",
       "  <tbody>\n",
       "    <tr>\n",
       "      <th>кафе</th>\n",
       "      <td>5540</td>\n",
       "    </tr>\n",
       "    <tr>\n",
       "      <th>ресторан</th>\n",
       "      <td>2142</td>\n",
       "    </tr>\n",
       "    <tr>\n",
       "      <th>предприятие быстрого обслуживания</th>\n",
       "      <td>1712</td>\n",
       "    </tr>\n",
       "    <tr>\n",
       "      <th>столовая</th>\n",
       "      <td>1347</td>\n",
       "    </tr>\n",
       "    <tr>\n",
       "      <th>бар</th>\n",
       "      <td>815</td>\n",
       "    </tr>\n",
       "    <tr>\n",
       "      <th>буфет</th>\n",
       "      <td>368</td>\n",
       "    </tr>\n",
       "    <tr>\n",
       "      <th>кафетерий</th>\n",
       "      <td>356</td>\n",
       "    </tr>\n",
       "    <tr>\n",
       "      <th>закусочная</th>\n",
       "      <td>302</td>\n",
       "    </tr>\n",
       "    <tr>\n",
       "      <th>магазин (отдел кулинарии)</th>\n",
       "      <td>246</td>\n",
       "    </tr>\n",
       "  </tbody>\n",
       "</table>\n",
       "</div>"
      ],
      "text/plain": [
       "                                     id\n",
       "object_type                            \n",
       "кафе                               5540\n",
       "ресторан                           2142\n",
       "предприятие быстрого обслуживания  1712\n",
       "столовая                           1347\n",
       "бар                                 815\n",
       "буфет                               368\n",
       "кафетерий                           356\n",
       "закусочная                          302\n",
       "магазин (отдел кулинарии)           246"
      ]
     },
     "execution_count": 145,
     "metadata": {},
     "output_type": "execute_result"
    }
   ],
   "source": [
    "# Соотношение типов заведений по количеству\n",
    "\n",
    "type_pivot = df.pivot_table(index='object_type', values='id', aggfunc='count')\n",
    "type_pivot.sort_values('id', ascending=False, inplace=True)\n",
    "type_pivot"
   ]
  },
  {
   "cell_type": "code",
   "execution_count": 146,
   "id": "5bb53b0f",
   "metadata": {
    "scrolled": false
   },
   "outputs": [
    {
     "data": {
      "image/png": "[encoded data removed]",
      "text/plain": [
       "<Figure size 864x432 with 1 Axes>"
      ]
     },
     "metadata": {},
     "output_type": "display_data"
    }
   ],
   "source": [
    "# Изобразим на графике\n",
    "\n",
    "type_pivot.rename(index={'предприятие быстрого обслуживания':'предприятие\\nбыстрого\\nобслуживания', \n",
    "                         'магазин (отдел кулинарии)':'магазин\\n(отдел\\nкулинарии)'}, inplace=True)\n",
    "fig, ax = plt.subplots(figsize=(12, 6))\n",
    "sns.barplot(x=type_pivot.index, y=type_pivot['id'], ax=ax, color='steelblue')\n",
    "ax.set_xticklabels(ax.get_xticklabels(), rotation=0)\n",
    "ax.set_title('Соотношение типов заведений по количеству')\n",
    "ax.set_xlabel('')\n",
    "ax.set_ylabel('Количество')\n",
    "plt.show()"
   ]
  },
  {
   "cell_type": "markdown",
   "id": "1dc8198e",
   "metadata": {},
   "source": [
    "Самый распространенный тип заведения - кафе, далее идут ресторан и фастфуд."
   ]
  },
  {
   "cell_type": "markdown",
   "id": "77c71a5d",
   "metadata": {},
   "source": [
    "### Распределение заведений по характеристике \"сетевой-несетевой\" <a id='5'></a>"
   ]
  },
  {
   "cell_type": "code",
   "execution_count": 147,
   "id": "fd458943",
   "metadata": {
    "scrolled": false
   },
   "outputs": [
    {
     "data": {
      "text/html": [
       "<div>\n",
       "<style scoped>\n",
       "    .dataframe tbody tr th:only-of-type {\n",
       "        vertical-align: middle;\n",
       "    }\n",
       "\n",
       "    .dataframe tbody tr th {\n",
       "        vertical-align: top;\n",
       "    }\n",
       "\n",
       "    .dataframe thead th {\n",
       "        text-align: right;\n",
       "    }\n",
       "</style>\n",
       "<table border=\"1\" class=\"dataframe\">\n",
       "  <thead>\n",
       "    <tr style=\"text-align: right;\">\n",
       "      <th></th>\n",
       "      <th>id</th>\n",
       "    </tr>\n",
       "    <tr>\n",
       "      <th>chain</th>\n",
       "      <th></th>\n",
       "    </tr>\n",
       "  </thead>\n",
       "  <tbody>\n",
       "    <tr>\n",
       "      <th>нет</th>\n",
       "      <td>10075</td>\n",
       "    </tr>\n",
       "    <tr>\n",
       "      <th>да</th>\n",
       "      <td>2753</td>\n",
       "    </tr>\n",
       "  </tbody>\n",
       "</table>\n",
       "</div>"
      ],
      "text/plain": [
       "          id\n",
       "chain       \n",
       "нет    10075\n",
       "да      2753"
      ]
     },
     "execution_count": 147,
     "metadata": {},
     "output_type": "execute_result"
    }
   ],
   "source": [
    "# Соотношение видов заведение по количеству\n",
    "\n",
    "chain_pivot = df.pivot_table(index='chain', values='id', aggfunc='count')\n",
    "chain_pivot.sort_values('id', ascending=False, inplace=True)\n",
    "chain_pivot"
   ]
  },
  {
   "cell_type": "code",
   "execution_count": 148,
   "id": "5fd8ae5a",
   "metadata": {},
   "outputs": [
    {
     "data": {
      "application/vnd.plotly.v1+json": {
       "config": {
        "linkText": "Export to plot.ly",
        "plotlyServerURL": "https://plot.ly",
        "showLink": false
       },
       "data": [
        {
         "labels": [
          "Несетевые",
          "Сетевые"
         ],
         "textinfo": "percent",
         "textposition": "outside",
         "type": "pie",
         "values": [
          10075,
          2753
         ]
        },
        {
         "labels": [
          "Несетевые",
          "Сетевые"
         ],
         "textinfo": "label",
         "textposition": "inside",
         "type": "pie",
         "values": [
          10075,
          2753
         ]
        }
       ],
       "layout": {
        "template": {
         "data": {
          "bar": [
           {
            "error_x": {
             "color": "#2a3f5f"
            },
            "error_y": {
             "color": "#2a3f5f"
            },
            "marker": {
             "line": {
              "color": "#E5ECF6",
              "width": 0.5
             },
             "pattern": {
              "fillmode": "overlay",
              "size": 10,
              "solidity": 0.2
             }
            },
            "type": "bar"
           }
          ],
          "barpolar": [
           {
            "marker": {
             "line": {
              "color": "#E5ECF6",
              "width": 0.5
             },
             "pattern": {
              "fillmode": "overlay",
              "size": 10,
              "solidity": 0.2
             }
            },
            "type": "barpolar"
           }
          ],
          "carpet": [
           {
            "aaxis": {
             "endlinecolor": "#2a3f5f",
             "gridcolor": "white",
             "linecolor": "white",
             "minorgridcolor": "white",
             "startlinecolor": "#2a3f5f"
            },
            "baxis": {
             "endlinecolor": "#2a3f5f",
             "gridcolor": "white",
             "linecolor": "white",
             "minorgridcolor": "white",
             "startlinecolor": "#2a3f5f"
            },
            "type": "carpet"
           }
          ],
          "choropleth": [
           {
            "colorbar": {
             "outlinewidth": 0,
             "ticks": ""
            },
            "type": "choropleth"
           }
          ],
          "contour": [
           {
            "colorbar": {
             "outlinewidth": 0,
             "ticks": ""
            },
            "colorscale": [
             [
              0,
              "#0d0887"
             ],
             [
              0.1111111111111111,
              "#46039f"
             ],
             [
              0.2222222222222222,
              "#7201a8"
             ],
             [
              0.3333333333333333,
              "#9c179e"
             ],
             [
              0.4444444444444444,
              "#bd3786"
             ],
             [
              0.5555555555555556,
              "#d8576b"
             ],
             [
              0.6666666666666666,
              "#ed7953"
             ],
             [
              0.7777777777777778,
              "#fb9f3a"
             ],
             [
              0.8888888888888888,
              "#fdca26"
             ],
             [
              1,
              "#f0f921"
             ]
            ],
            "type": "contour"
           }
          ],
          "contourcarpet": [
           {
            "colorbar": {
             "outlinewidth": 0,
             "ticks": ""
            },
            "type": "contourcarpet"
           }
          ],
          "heatmap": [
           {
            "colorbar": {
             "outlinewidth": 0,
             "ticks": ""
            },
            "colorscale": [
             [
              0,
              "#0d0887"
             ],
             [
              0.1111111111111111,
              "#46039f"
             ],
             [
              0.2222222222222222,
              "#7201a8"
             ],
             [
              0.3333333333333333,
              "#9c179e"
             ],
             [
              0.4444444444444444,
              "#bd3786"
             ],
             [
              0.5555555555555556,
              "#d8576b"
             ],
             [
              0.6666666666666666,
              "#ed7953"
             ],
             [
              0.7777777777777778,
              "#fb9f3a"
             ],
             [
              0.8888888888888888,
              "#fdca26"
             ],
             [
              1,
              "#f0f921"
             ]
            ],
            "type": "heatmap"
           }
          ],
          "heatmapgl": [
           {
            "colorbar": {
             "outlinewidth": 0,
             "ticks": ""
            },
            "colorscale": [
             [
              0,
              "#0d0887"
             ],
             [
              0.1111111111111111,
              "#46039f"
             ],
             [
              0.2222222222222222,
              "#7201a8"
             ],
             [
              0.3333333333333333,
              "#9c179e"
             ],
             [
              0.4444444444444444,
              "#bd3786"
             ],
             [
              0.5555555555555556,
              "#d8576b"
             ],
             [
              0.6666666666666666,
              "#ed7953"
             ],
             [
              0.7777777777777778,
              "#fb9f3a"
             ],
             [
              0.8888888888888888,
              "#fdca26"
             ],
             [
              1,
              "#f0f921"
             ]
            ],
            "type": "heatmapgl"
           }
          ],
          "histogram": [
           {
            "marker": {
             "pattern": {
              "fillmode": "overlay",
              "size": 10,
              "solidity": 0.2
             }
            },
            "type": "histogram"
           }
          ],
          "histogram2d": [
           {
            "colorbar": {
             "outlinewidth": 0,
             "ticks": ""
            },
            "colorscale": [
             [
              0,
              "#0d0887"
             ],
             [
              0.1111111111111111,
              "#46039f"
             ],
             [
              0.2222222222222222,
              "#7201a8"
             ],
             [
              0.3333333333333333,
              "#9c179e"
             ],
             [
              0.4444444444444444,
              "#bd3786"
             ],
             [
              0.5555555555555556,
              "#d8576b"
             ],
             [
              0.6666666666666666,
              "#ed7953"
             ],
             [
              0.7777777777777778,
              "#fb9f3a"
             ],
             [
              0.8888888888888888,
              "#fdca26"
             ],
             [
              1,
              "#f0f921"
             ]
            ],
            "type": "histogram2d"
           }
          ],
          "histogram2dcontour": [
           {
            "colorbar": {
             "outlinewidth": 0,
             "ticks": ""
            },
            "colorscale": [
             [
              0,
              "#0d0887"
             ],
             [
              0.1111111111111111,
              "#46039f"
             ],
             [
              0.2222222222222222,
              "#7201a8"
             ],
             [
              0.3333333333333333,
              "#9c179e"
             ],
             [
              0.4444444444444444,
              "#bd3786"
             ],
             [
              0.5555555555555556,
              "#d8576b"
             ],
             [
              0.6666666666666666,
              "#ed7953"
             ],
             [
              0.7777777777777778,
              "#fb9f3a"
             ],
             [
              0.8888888888888888,
              "#fdca26"
             ],
             [
              1,
              "#f0f921"
             ]
            ],
            "type": "histogram2dcontour"
           }
          ],
          "mesh3d": [
           {
            "colorbar": {
             "outlinewidth": 0,
             "ticks": ""
            },
            "type": "mesh3d"
           }
          ],
          "parcoords": [
           {
            "line": {
             "colorbar": {
              "outlinewidth": 0,
              "ticks": ""
             }
            },
            "type": "parcoords"
           }
          ],
          "pie": [
           {
            "automargin": true,
            "type": "pie"
           }
          ],
          "scatter": [
           {
            "marker": {
             "colorbar": {
              "outlinewidth": 0,
              "ticks": ""
             }
            },
            "type": "scatter"
           }
          ],
          "scatter3d": [
           {
            "line": {
             "colorbar": {
              "outlinewidth": 0,
              "ticks": ""
             }
            },
            "marker": {
             "colorbar": {
              "outlinewidth": 0,
              "ticks": ""
             }
            },
            "type": "scatter3d"
           }
          ],
          "scattercarpet": [
           {
            "marker": {
             "colorbar": {
              "outlinewidth": 0,
              "ticks": ""
             }
            },
            "type": "scattercarpet"
           }
          ],
          "scattergeo": [
           {
            "marker": {
             "colorbar": {
              "outlinewidth": 0,
              "ticks": ""
             }
            },
            "type": "scattergeo"
           }
          ],
          "scattergl": [
           {
            "marker": {
             "colorbar": {
              "outlinewidth": 0,
              "ticks": ""
             }
            },
            "type": "scattergl"
           }
          ],
          "scattermapbox": [
           {
            "marker": {
             "colorbar": {
              "outlinewidth": 0,
              "ticks": ""
             }
            },
            "type": "scattermapbox"
           }
          ],
          "scatterpolar": [
           {
            "marker": {
             "colorbar": {
              "outlinewidth": 0,
              "ticks": ""
             }
            },
            "type": "scatterpolar"
           }
          ],
          "scatterpolargl": [
           {
            "marker": {
             "colorbar": {
              "outlinewidth": 0,
              "ticks": ""
             }
            },
            "type": "scatterpolargl"
           }
          ],
          "scatterternary": [
           {
            "marker": {
             "colorbar": {
              "outlinewidth": 0,
              "ticks": ""
             }
            },
            "type": "scatterternary"
           }
          ],
          "surface": [
           {
            "colorbar": {
             "outlinewidth": 0,
             "ticks": ""
            },
            "colorscale": [
             [
              0,
              "#0d0887"
             ],
             [
              0.1111111111111111,
              "#46039f"
             ],
             [
              0.2222222222222222,
              "#7201a8"
             ],
             [
              0.3333333333333333,
              "#9c179e"
             ],
             [
              0.4444444444444444,
              "#bd3786"
             ],
             [
              0.5555555555555556,
              "#d8576b"
             ],
             [
              0.6666666666666666,
              "#ed7953"
             ],
             [
              0.7777777777777778,
              "#fb9f3a"
             ],
             [
              0.8888888888888888,
              "#fdca26"
             ],
             [
              1,
              "#f0f921"
             ]
            ],
            "type": "surface"
           }
          ],
          "table": [
           {
            "cells": {
             "fill": {
              "color": "#EBF0F8"
             },
             "line": {
              "color": "white"
             }
            },
            "header": {
             "fill": {
              "color": "#C8D4E3"
             },
             "line": {
              "color": "white"
             }
            },
            "type": "table"
           }
          ]
         },
         "layout": {
          "annotationdefaults": {
           "arrowcolor": "#2a3f5f",
           "arrowhead": 0,
           "arrowwidth": 1
          },
          "autotypenumbers": "strict",
          "coloraxis": {
           "colorbar": {
            "outlinewidth": 0,
            "ticks": ""
           }
          },
          "colorscale": {
           "diverging": [
            [
             0,
             "#8e0152"
            ],
            [
             0.1,
             "#c51b7d"
            ],
            [
             0.2,
             "#de77ae"
            ],
            [
             0.3,
             "#f1b6da"
            ],
            [
             0.4,
             "#fde0ef"
            ],
            [
             0.5,
             "#f7f7f7"
            ],
            [
             0.6,
             "#e6f5d0"
            ],
            [
             0.7,
             "#b8e186"
            ],
            [
             0.8,
             "#7fbc41"
            ],
            [
             0.9,
             "#4d9221"
            ],
            [
             1,
             "#276419"
            ]
           ],
           "sequential": [
            [
             0,
             "#0d0887"
            ],
            [
             0.1111111111111111,
             "#46039f"
            ],
            [
             0.2222222222222222,
             "#7201a8"
            ],
            [
             0.3333333333333333,
             "#9c179e"
            ],
            [
             0.4444444444444444,
             "#bd3786"
            ],
            [
             0.5555555555555556,
             "#d8576b"
            ],
            [
             0.6666666666666666,
             "#ed7953"
            ],
            [
             0.7777777777777778,
             "#fb9f3a"
            ],
            [
             0.8888888888888888,
             "#fdca26"
            ],
            [
             1,
             "#f0f921"
            ]
           ],
           "sequentialminus": [
            [
             0,
             "#0d0887"
            ],
            [
             0.1111111111111111,
             "#46039f"
            ],
            [
             0.2222222222222222,
             "#7201a8"
            ],
            [
             0.3333333333333333,
             "#9c179e"
            ],
            [
             0.4444444444444444,
             "#bd3786"
            ],
            [
             0.5555555555555556,
             "#d8576b"
            ],
            [
             0.6666666666666666,
             "#ed7953"
            ],
            [
             0.7777777777777778,
             "#fb9f3a"
            ],
            [
             0.8888888888888888,
             "#fdca26"
            ],
            [
             1,
             "#f0f921"
            ]
           ]
          },
          "colorway": [
           "#636efa",
           "#EF553B",
           "#00cc96",
           "#ab63fa",
           "#FFA15A",
           "#19d3f3",
           "#FF6692",
           "#B6E880",
           "#FF97FF",
           "#FECB52"
          ],
          "font": {
           "color": "#2a3f5f"
          },
          "geo": {
           "bgcolor": "white",
           "lakecolor": "white",
           "landcolor": "#E5ECF6",
           "showlakes": true,
           "showland": true,
           "subunitcolor": "white"
          },
          "hoverlabel": {
           "align": "left"
          },
          "hovermode": "closest",
          "mapbox": {
           "style": "light"
          },
          "paper_bgcolor": "white",
          "plot_bgcolor": "#E5ECF6",
          "polar": {
           "angularaxis": {
            "gridcolor": "white",
            "linecolor": "white",
            "ticks": ""
           },
           "bgcolor": "#E5ECF6",
           "radialaxis": {
            "gridcolor": "white",
            "linecolor": "white",
            "ticks": ""
           }
          },
          "scene": {
           "xaxis": {
            "backgroundcolor": "#E5ECF6",
            "gridcolor": "white",
            "gridwidth": 2,
            "linecolor": "white",
            "showbackground": true,
            "ticks": "",
            "zerolinecolor": "white"
           },
           "yaxis": {
            "backgroundcolor": "#E5ECF6",
            "gridcolor": "white",
            "gridwidth": 2,
            "linecolor": "white",
            "showbackground": true,
            "ticks": "",
            "zerolinecolor": "white"
           },
           "zaxis": {
            "backgroundcolor": "#E5ECF6",
            "gridcolor": "white",
            "gridwidth": 2,
            "linecolor": "white",
            "showbackground": true,
            "ticks": "",
            "zerolinecolor": "white"
           }
          },
          "shapedefaults": {
           "line": {
            "color": "#2a3f5f"
           }
          },
          "ternary": {
           "aaxis": {
            "gridcolor": "white",
            "linecolor": "white",
            "ticks": ""
           },
           "baxis": {
            "gridcolor": "white",
            "linecolor": "white",
            "ticks": ""
           },
           "bgcolor": "#E5ECF6",
           "caxis": {
            "gridcolor": "white",
            "linecolor": "white",
            "ticks": ""
           }
          },
          "title": {
           "x": 0.05
          },
          "xaxis": {
           "automargin": true,
           "gridcolor": "white",
           "linecolor": "white",
           "ticks": "",
           "title": {
            "standoff": 15
           },
           "zerolinecolor": "white",
           "zerolinewidth": 2
          },
          "yaxis": {
           "automargin": true,
           "gridcolor": "white",
           "linecolor": "white",
           "ticks": "",
           "title": {
            "standoff": 15
           },
           "zerolinecolor": "white",
           "zerolinewidth": 2
          }
         }
        }
       }
      },
      "text/html": [
       "<div>                            <div id=\"0518a37e-de70-4126-9f48-591368034dea\" class=\"plotly-graph-div\" style=\"height:525px; width:100%;\"></div>            <script type=\"text/javascript\">                require([\"plotly\"], function(Plotly) {                    window.PLOTLYENV=window.PLOTLYENV || {};                                    if (document.getElementById(\"0518a37e-de70-4126-9f48-591368034dea\")) {                    Plotly.newPlot(                        \"0518a37e-de70-4126-9f48-591368034dea\",                        [{\"labels\":[\"\\u041d\\u0435\\u0441\\u0435\\u0442\\u0435\\u0432\\u044b\\u0435\",\"\\u0421\\u0435\\u0442\\u0435\\u0432\\u044b\\u0435\"],\"textinfo\":\"percent\",\"textposition\":\"outside\",\"values\":[10075,2753],\"type\":\"pie\"},{\"labels\":[\"\\u041d\\u0435\\u0441\\u0435\\u0442\\u0435\\u0432\\u044b\\u0435\",\"\\u0421\\u0435\\u0442\\u0435\\u0432\\u044b\\u0435\"],\"textinfo\":\"label\",\"textposition\":\"inside\",\"values\":[10075,2753],\"type\":\"pie\"}],                        {\"template\":{\"data\":{\"barpolar\":[{\"marker\":{\"line\":{\"color\":\"#E5ECF6\",\"width\":0.5},\"pattern\":{\"fillmode\":\"overlay\",\"size\":10,\"solidity\":0.2}},\"type\":\"barpolar\"}],\"bar\":[{\"error_x\":{\"color\":\"#2a3f5f\"},\"error_y\":{\"color\":\"#2a3f5f\"},\"marker\":{\"line\":{\"color\":\"#E5ECF6\",\"width\":0.5},\"pattern\":{\"fillmode\":\"overlay\",\"size\":10,\"solidity\":0.2}},\"type\":\"bar\"}],\"carpet\":[{\"aaxis\":{\"endlinecolor\":\"#2a3f5f\",\"gridcolor\":\"white\",\"linecolor\":\"white\",\"minorgridcolor\":\"white\",\"startlinecolor\":\"#2a3f5f\"},\"baxis\":{\"endlinecolor\":\"#2a3f5f\",\"gridcolor\":\"white\",\"linecolor\":\"white\",\"minorgridcolor\":\"white\",\"startlinecolor\":\"#2a3f5f\"},\"type\":\"carpet\"}],\"choropleth\":[{\"colorbar\":{\"outlinewidth\":0,\"ticks\":\"\"},\"type\":\"choropleth\"}],\"contourcarpet\":[{\"colorbar\":{\"outlinewidth\":0,\"ticks\":\"\"},\"type\":\"contourcarpet\"}],\"contour\":[{\"colorbar\":{\"outlinewidth\":0,\"ticks\":\"\"},\"colorscale\":[[0.0,\"#0d0887\"],[0.1111111111111111,\"#46039f\"],[0.2222222222222222,\"#7201a8\"],[0.3333333333333333,\"#9c179e\"],[0.4444444444444444,\"#bd3786\"],[0.5555555555555556,\"#d8576b\"],[0.6666666666666666,\"#ed7953\"],[0.7777777777777778,\"#fb9f3a\"],[0.8888888888888888,\"#fdca26\"],[1.0,\"#f0f921\"]],\"type\":\"contour\"}],\"heatmapgl\":[{\"colorbar\":{\"outlinewidth\":0,\"ticks\":\"\"},\"colorscale\":[[0.0,\"#0d0887\"],[0.1111111111111111,\"#46039f\"],[0.2222222222222222,\"#7201a8\"],[0.3333333333333333,\"#9c179e\"],[0.4444444444444444,\"#bd3786\"],[0.5555555555555556,\"#d8576b\"],[0.6666666666666666,\"#ed7953\"],[0.7777777777777778,\"#fb9f3a\"],[0.8888888888888888,\"#fdca26\"],[1.0,\"#f0f921\"]],\"type\":\"heatmapgl\"}],\"heatmap\":[{\"colorbar\":{\"outlinewidth\":0,\"ticks\":\"\"},\"colorscale\":[[0.0,\"#0d0887\"],[0.1111111111111111,\"#46039f\"],[0.2222222222222222,\"#7201a8\"],[0.3333333333333333,\"#9c179e\"],[0.4444444444444444,\"#bd3786\"],[0.5555555555555556,\"#d8576b\"],[0.6666666666666666,\"#ed7953\"],[0.7777777777777778,\"#fb9f3a\"],[0.8888888888888888,\"#fdca26\"],[1.0,\"#f0f921\"]],\"type\":\"heatmap\"}],\"histogram2dcontour\":[{\"colorbar\":{\"outlinewidth\":0,\"ticks\":\"\"},\"colorscale\":[[0.0,\"#0d0887\"],[0.1111111111111111,\"#46039f\"],[0.2222222222222222,\"#7201a8\"],[0.3333333333333333,\"#9c179e\"],[0.4444444444444444,\"#bd3786\"],[0.5555555555555556,\"#d8576b\"],[0.6666666666666666,\"#ed7953\"],[0.7777777777777778,\"#fb9f3a\"],[0.8888888888888888,\"#fdca26\"],[1.0,\"#f0f921\"]],\"type\":\"histogram2dcontour\"}],\"histogram2d\":[{\"colorbar\":{\"outlinewidth\":0,\"ticks\":\"\"},\"colorscale\":[[0.0,\"#0d0887\"],[0.1111111111111111,\"#46039f\"],[0.2222222222222222,\"#7201a8\"],[0.3333333333333333,\"#9c179e\"],[0.4444444444444444,\"#bd3786\"],[0.5555555555555556,\"#d8576b\"],[0.6666666666666666,\"#ed7953\"],[0.7777777777777778,\"#fb9f3a\"],[0.8888888888888888,\"#fdca26\"],[1.0,\"#f0f921\"]],\"type\":\"histogram2d\"}],\"histogram\":[{\"marker\":{\"pattern\":{\"fillmode\":\"overlay\",\"size\":10,\"solidity\":0.2}},\"type\":\"histogram\"}],\"mesh3d\":[{\"colorbar\":{\"outlinewidth\":0,\"ticks\":\"\"},\"type\":\"mesh3d\"}],\"parcoords\":[{\"line\":{\"colorbar\":{\"outlinewidth\":0,\"ticks\":\"\"}},\"type\":\"parcoords\"}],\"pie\":[{\"automargin\":true,\"type\":\"pie\"}],\"scatter3d\":[{\"line\":{\"colorbar\":{\"outlinewidth\":0,\"ticks\":\"\"}},\"marker\":{\"colorbar\":{\"outlinewidth\":0,\"ticks\":\"\"}},\"type\":\"scatter3d\"}],\"scattercarpet\":[{\"marker\":{\"colorbar\":{\"outlinewidth\":0,\"ticks\":\"\"}},\"type\":\"scattercarpet\"}],\"scattergeo\":[{\"marker\":{\"colorbar\":{\"outlinewidth\":0,\"ticks\":\"\"}},\"type\":\"scattergeo\"}],\"scattergl\":[{\"marker\":{\"colorbar\":{\"outlinewidth\":0,\"ticks\":\"\"}},\"type\":\"scattergl\"}],\"scattermapbox\":[{\"marker\":{\"colorbar\":{\"outlinewidth\":0,\"ticks\":\"\"}},\"type\":\"scattermapbox\"}],\"scatterpolargl\":[{\"marker\":{\"colorbar\":{\"outlinewidth\":0,\"ticks\":\"\"}},\"type\":\"scatterpolargl\"}],\"scatterpolar\":[{\"marker\":{\"colorbar\":{\"outlinewidth\":0,\"ticks\":\"\"}},\"type\":\"scatterpolar\"}],\"scatter\":[{\"marker\":{\"colorbar\":{\"outlinewidth\":0,\"ticks\":\"\"}},\"type\":\"scatter\"}],\"scatterternary\":[{\"marker\":{\"colorbar\":{\"outlinewidth\":0,\"ticks\":\"\"}},\"type\":\"scatterternary\"}],\"surface\":[{\"colorbar\":{\"outlinewidth\":0,\"ticks\":\"\"},\"colorscale\":[[0.0,\"#0d0887\"],[0.1111111111111111,\"#46039f\"],[0.2222222222222222,\"#7201a8\"],[0.3333333333333333,\"#9c179e\"],[0.4444444444444444,\"#bd3786\"],[0.5555555555555556,\"#d8576b\"],[0.6666666666666666,\"#ed7953\"],[0.7777777777777778,\"#fb9f3a\"],[0.8888888888888888,\"#fdca26\"],[1.0,\"#f0f921\"]],\"type\":\"surface\"}],\"table\":[{\"cells\":{\"fill\":{\"color\":\"#EBF0F8\"},\"line\":{\"color\":\"white\"}},\"header\":{\"fill\":{\"color\":\"#C8D4E3\"},\"line\":{\"color\":\"white\"}},\"type\":\"table\"}]},\"layout\":{\"annotationdefaults\":{\"arrowcolor\":\"#2a3f5f\",\"arrowhead\":0,\"arrowwidth\":1},\"autotypenumbers\":\"strict\",\"coloraxis\":{\"colorbar\":{\"outlinewidth\":0,\"ticks\":\"\"}},\"colorscale\":{\"diverging\":[[0,\"#8e0152\"],[0.1,\"#c51b7d\"],[0.2,\"#de77ae\"],[0.3,\"#f1b6da\"],[0.4,\"#fde0ef\"],[0.5,\"#f7f7f7\"],[0.6,\"#e6f5d0\"],[0.7,\"#b8e186\"],[0.8,\"#7fbc41\"],[0.9,\"#4d9221\"],[1,\"#276419\"]],\"sequential\":[[0.0,\"#0d0887\"],[0.1111111111111111,\"#46039f\"],[0.2222222222222222,\"#7201a8\"],[0.3333333333333333,\"#9c179e\"],[0.4444444444444444,\"#bd3786\"],[0.5555555555555556,\"#d8576b\"],[0.6666666666666666,\"#ed7953\"],[0.7777777777777778,\"#fb9f3a\"],[0.8888888888888888,\"#fdca26\"],[1.0,\"#f0f921\"]],\"sequentialminus\":[[0.0,\"#0d0887\"],[0.1111111111111111,\"#46039f\"],[0.2222222222222222,\"#7201a8\"],[0.3333333333333333,\"#9c179e\"],[0.4444444444444444,\"#bd3786\"],[0.5555555555555556,\"#d8576b\"],[0.6666666666666666,\"#ed7953\"],[0.7777777777777778,\"#fb9f3a\"],[0.8888888888888888,\"#fdca26\"],[1.0,\"#f0f921\"]]},\"colorway\":[\"#636efa\",\"#EF553B\",\"#00cc96\",\"#ab63fa\",\"#FFA15A\",\"#19d3f3\",\"#FF6692\",\"#B6E880\",\"#FF97FF\",\"#FECB52\"],\"font\":{\"color\":\"#2a3f5f\"},\"geo\":{\"bgcolor\":\"white\",\"lakecolor\":\"white\",\"landcolor\":\"#E5ECF6\",\"showlakes\":true,\"showland\":true,\"subunitcolor\":\"white\"},\"hoverlabel\":{\"align\":\"left\"},\"hovermode\":\"closest\",\"mapbox\":{\"style\":\"light\"},\"paper_bgcolor\":\"white\",\"plot_bgcolor\":\"#E5ECF6\",\"polar\":{\"angularaxis\":{\"gridcolor\":\"white\",\"linecolor\":\"white\",\"ticks\":\"\"},\"bgcolor\":\"#E5ECF6\",\"radialaxis\":{\"gridcolor\":\"white\",\"linecolor\":\"white\",\"ticks\":\"\"}},\"scene\":{\"xaxis\":{\"backgroundcolor\":\"#E5ECF6\",\"gridcolor\":\"white\",\"gridwidth\":2,\"linecolor\":\"white\",\"showbackground\":true,\"ticks\":\"\",\"zerolinecolor\":\"white\"},\"yaxis\":{\"backgroundcolor\":\"#E5ECF6\",\"gridcolor\":\"white\",\"gridwidth\":2,\"linecolor\":\"white\",\"showbackground\":true,\"ticks\":\"\",\"zerolinecolor\":\"white\"},\"zaxis\":{\"backgroundcolor\":\"#E5ECF6\",\"gridcolor\":\"white\",\"gridwidth\":2,\"linecolor\":\"white\",\"showbackground\":true,\"ticks\":\"\",\"zerolinecolor\":\"white\"}},\"shapedefaults\":{\"line\":{\"color\":\"#2a3f5f\"}},\"ternary\":{\"aaxis\":{\"gridcolor\":\"white\",\"linecolor\":\"white\",\"ticks\":\"\"},\"baxis\":{\"gridcolor\":\"white\",\"linecolor\":\"white\",\"ticks\":\"\"},\"bgcolor\":\"#E5ECF6\",\"caxis\":{\"gridcolor\":\"white\",\"linecolor\":\"white\",\"ticks\":\"\"}},\"title\":{\"x\":0.05},\"xaxis\":{\"automargin\":true,\"gridcolor\":\"white\",\"linecolor\":\"white\",\"ticks\":\"\",\"title\":{\"standoff\":15},\"zerolinecolor\":\"white\",\"zerolinewidth\":2},\"yaxis\":{\"automargin\":true,\"gridcolor\":\"white\",\"linecolor\":\"white\",\"ticks\":\"\",\"title\":{\"standoff\":15},\"zerolinecolor\":\"white\",\"zerolinewidth\":2}}}},                        {\"responsive\": true}                    ).then(function(){\n",
       "                            \n",
       "var gd = document.getElementById('0518a37e-de70-4126-9f48-591368034dea');\n",
       "var x = new MutationObserver(function (mutations, observer) {{\n",
       "        var display = window.getComputedStyle(gd).display;\n",
       "        if (!display || display === 'none') {{\n",
       "            console.log([gd, 'removed!']);\n",
       "            Plotly.purge(gd);\n",
       "            observer.disconnect();\n",
       "        }}\n",
       "}});\n",
       "\n",
       "// Listen for the removal of the full notebook cells\n",
       "var notebookContainer = gd.closest('#notebook-container');\n",
       "if (notebookContainer) {{\n",
       "    x.observe(notebookContainer, {childList: true});\n",
       "}}\n",
       "\n",
       "// Listen for the clearing of the current output cell\n",
       "var outputEl = gd.closest('.output');\n",
       "if (outputEl) {{\n",
       "    x.observe(outputEl, {childList: true});\n",
       "}}\n",
       "\n",
       "                        })                };                });            </script>        </div>"
      ]
     },
     "metadata": {},
     "output_type": "display_data"
    }
   ],
   "source": [
    "labels = ['Несетевые', 'Сетевые']\n",
    "values = [chain_pivot['id'].loc[chain_pivot.index[0]],chain_pivot['id'].loc[chain_pivot.index[1]]]\n",
    "\n",
    "common_props = dict(labels=labels,\n",
    "                    values=values,)\n",
    "\n",
    "trace1 = go.Pie(\n",
    "    **common_props,\n",
    "    textinfo='percent',\n",
    "    textposition='outside')\n",
    "\n",
    "trace2 = go.Pie(\n",
    "    **common_props,\n",
    "    textinfo='label',\n",
    "    textposition='inside')\n",
    "\n",
    "iplot([trace1, trace2], filename='basic_pie_chart')\n"
   ]
  },
  {
   "cell_type": "markdown",
   "id": "d7b3f6b5",
   "metadata": {},
   "source": [
    "Несетевых заведений почти в пять раз больше"
   ]
  },
  {
   "cell_type": "code",
   "execution_count": 149,
   "id": "fc509ae2",
   "metadata": {},
   "outputs": [
    {
     "data": {
      "text/html": [
       "<style type=\"text/css\">\n",
       "</style>\n",
       "<table id=\"T_1efd1\">\n",
       "  <thead>\n",
       "    <tr>\n",
       "      <th class=\"index_name level0\" >chain</th>\n",
       "      <th id=\"T_1efd1_level0_col0\" class=\"col_heading level0 col0\" >да</th>\n",
       "      <th id=\"T_1efd1_level0_col1\" class=\"col_heading level0 col1\" >нет</th>\n",
       "      <th id=\"T_1efd1_level0_col2\" class=\"col_heading level0 col2\" >ratio</th>\n",
       "    </tr>\n",
       "    <tr>\n",
       "      <th class=\"index_name level0\" >object_type</th>\n",
       "      <th class=\"blank col0\" >&nbsp;</th>\n",
       "      <th class=\"blank col1\" >&nbsp;</th>\n",
       "      <th class=\"blank col2\" >&nbsp;</th>\n",
       "    </tr>\n",
       "  </thead>\n",
       "  <tbody>\n",
       "    <tr>\n",
       "      <th id=\"T_1efd1_level0_row0\" class=\"row_heading level0 row0\" >предприятие\n",
       "быстрого\n",
       "обслуживания</th>\n",
       "      <td id=\"T_1efd1_row0_col0\" class=\"data row0 col0\" >708</td>\n",
       "      <td id=\"T_1efd1_row0_col1\" class=\"data row0 col1\" >1004</td>\n",
       "      <td id=\"T_1efd1_row0_col2\" class=\"data row0 col2\" >41.36%</td>\n",
       "    </tr>\n",
       "    <tr>\n",
       "      <th id=\"T_1efd1_level0_row1\" class=\"row_heading level0 row1\" >магазин\n",
       "(отдел\n",
       "кулинарии)</th>\n",
       "      <td id=\"T_1efd1_row1_col0\" class=\"data row1 col0\" >76</td>\n",
       "      <td id=\"T_1efd1_row1_col1\" class=\"data row1 col1\" >170</td>\n",
       "      <td id=\"T_1efd1_row1_col2\" class=\"data row1 col2\" >30.89%</td>\n",
       "    </tr>\n",
       "    <tr>\n",
       "      <th id=\"T_1efd1_level0_row2\" class=\"row_heading level0 row2\" >кафе</th>\n",
       "      <td id=\"T_1efd1_row2_col0\" class=\"data row2 col0\" >1315</td>\n",
       "      <td id=\"T_1efd1_row2_col1\" class=\"data row2 col1\" >4225</td>\n",
       "      <td id=\"T_1efd1_row2_col2\" class=\"data row2 col2\" >23.74%</td>\n",
       "    </tr>\n",
       "    <tr>\n",
       "      <th id=\"T_1efd1_level0_row3\" class=\"row_heading level0 row3\" >ресторан</th>\n",
       "      <td id=\"T_1efd1_row3_col0\" class=\"data row3 col0\" >503</td>\n",
       "      <td id=\"T_1efd1_row3_col1\" class=\"data row3 col1\" >1639</td>\n",
       "      <td id=\"T_1efd1_row3_col2\" class=\"data row3 col2\" >23.48%</td>\n",
       "    </tr>\n",
       "    <tr>\n",
       "      <th id=\"T_1efd1_level0_row4\" class=\"row_heading level0 row4\" >закусочная</th>\n",
       "      <td id=\"T_1efd1_row4_col0\" class=\"data row4 col0\" >53</td>\n",
       "      <td id=\"T_1efd1_row4_col1\" class=\"data row4 col1\" >249</td>\n",
       "      <td id=\"T_1efd1_row4_col2\" class=\"data row4 col2\" >17.55%</td>\n",
       "    </tr>\n",
       "    <tr>\n",
       "      <th id=\"T_1efd1_level0_row5\" class=\"row_heading level0 row5\" >кафетерий</th>\n",
       "      <td id=\"T_1efd1_row5_col0\" class=\"data row5 col0\" >48</td>\n",
       "      <td id=\"T_1efd1_row5_col1\" class=\"data row5 col1\" >308</td>\n",
       "      <td id=\"T_1efd1_row5_col2\" class=\"data row5 col2\" >13.48%</td>\n",
       "    </tr>\n",
       "    <tr>\n",
       "      <th id=\"T_1efd1_level0_row6\" class=\"row_heading level0 row6\" >бар</th>\n",
       "      <td id=\"T_1efd1_row6_col0\" class=\"data row6 col0\" >36</td>\n",
       "      <td id=\"T_1efd1_row6_col1\" class=\"data row6 col1\" >779</td>\n",
       "      <td id=\"T_1efd1_row6_col2\" class=\"data row6 col2\" >4.42%</td>\n",
       "    </tr>\n",
       "    <tr>\n",
       "      <th id=\"T_1efd1_level0_row7\" class=\"row_heading level0 row7\" >буфет</th>\n",
       "      <td id=\"T_1efd1_row7_col0\" class=\"data row7 col0\" >11</td>\n",
       "      <td id=\"T_1efd1_row7_col1\" class=\"data row7 col1\" >357</td>\n",
       "      <td id=\"T_1efd1_row7_col2\" class=\"data row7 col2\" >2.99%</td>\n",
       "    </tr>\n",
       "    <tr>\n",
       "      <th id=\"T_1efd1_level0_row8\" class=\"row_heading level0 row8\" >столовая</th>\n",
       "      <td id=\"T_1efd1_row8_col0\" class=\"data row8 col0\" >3</td>\n",
       "      <td id=\"T_1efd1_row8_col1\" class=\"data row8 col1\" >1344</td>\n",
       "      <td id=\"T_1efd1_row8_col2\" class=\"data row8 col2\" >0.22%</td>\n",
       "    </tr>\n",
       "  </tbody>\n",
       "</table>\n"
      ],
      "text/plain": [
       "<pandas.io.formats.style.Styler at 0x2255fd27c40>"
      ]
     },
     "execution_count": 149,
     "metadata": {},
     "output_type": "execute_result"
    }
   ],
   "source": [
    "# Посмотрим на соотношение типов заведений к их структуре\n",
    "\n",
    "chain_type_pivot = df.pivot_table(index='object_type', columns='chain', values='id', aggfunc='count')\n",
    "chain_type_pivot['ratio'] = (chain_type_pivot['да'] / (chain_type_pivot['нет'] + chain_type_pivot['да']))\n",
    "chain_type_pivot.sort_values('ratio', ascending=False, inplace=True)\n",
    "chain_type_pivot.rename(index={'предприятие быстрого обслуживания':'предприятие\\nбыстрого\\nобслуживания', \n",
    "                               'магазин (отдел кулинарии)':'магазин\\n(отдел\\nкулинарии)'}, inplace=True)\n",
    "chain_type_pivot_rat = chain_type_pivot.style.format({\n",
    "    'ratio': '{:,.2%}'.format,\n",
    "})\n",
    "chain_type_pivot_rat"
   ]
  },
  {
   "cell_type": "code",
   "execution_count": 150,
   "id": "df8918c6",
   "metadata": {},
   "outputs": [
    {
     "data": {
      "image/png": "[encoded data removed]",
      "text/plain": [
       "<Figure size 864x432 with 1 Axes>"
      ]
     },
     "metadata": {},
     "output_type": "display_data"
    }
   ],
   "source": [
    "# Изобразим на графике\n",
    "\n",
    "fig, ax = plt.subplots(figsize=(12, 6))\n",
    "sns.barplot(x=chain_type_pivot.index, y=chain_type_pivot.ratio, ax=ax, color='steelblue')\n",
    "ax.set_xticklabels(ax.get_xticklabels(), rotation=0)\n",
    "ax.set_title('Отношение сетевых заведений к несетевым')\n",
    "ax.set_xlabel('')\n",
    "ax.set_ylabel('Отношение')\n",
    "plt.show()"
   ]
  },
  {
   "cell_type": "markdown",
   "id": "7893e733",
   "metadata": {},
   "source": [
    "Для сетевого вида наиболее характерны предприятия быстрого обслуживания, дале - отделы кулинарии. Для типа \"кафе\", которое интересует нас, сети относительно слабо характерны - 23% являются сетевыми. "
   ]
  },
  {
   "cell_type": "markdown",
   "id": "a70d65cc",
   "metadata": {},
   "source": [
    "### Среднее количество посадочных мест по объектам <a id='6'></a>"
   ]
  },
  {
   "cell_type": "code",
   "execution_count": 151,
   "id": "65c5c0d6",
   "metadata": {},
   "outputs": [
    {
     "data": {
      "text/html": [
       "<div>\n",
       "<style scoped>\n",
       "    .dataframe tbody tr th:only-of-type {\n",
       "        vertical-align: middle;\n",
       "    }\n",
       "\n",
       "    .dataframe tbody tr th {\n",
       "        vertical-align: top;\n",
       "    }\n",
       "\n",
       "    .dataframe thead th {\n",
       "        text-align: right;\n",
       "    }\n",
       "</style>\n",
       "<table border=\"1\" class=\"dataframe\">\n",
       "  <thead>\n",
       "    <tr style=\"text-align: right;\">\n",
       "      <th></th>\n",
       "      <th>number</th>\n",
       "    </tr>\n",
       "    <tr>\n",
       "      <th>object_type</th>\n",
       "      <th></th>\n",
       "    </tr>\n",
       "  </thead>\n",
       "  <tbody>\n",
       "    <tr>\n",
       "      <th>столовая</th>\n",
       "      <td>103</td>\n",
       "    </tr>\n",
       "    <tr>\n",
       "      <th>ресторан</th>\n",
       "      <td>95</td>\n",
       "    </tr>\n",
       "    <tr>\n",
       "      <th>буфет</th>\n",
       "      <td>44</td>\n",
       "    </tr>\n",
       "    <tr>\n",
       "      <th>бар</th>\n",
       "      <td>44</td>\n",
       "    </tr>\n",
       "    <tr>\n",
       "      <th>кафе</th>\n",
       "      <td>43</td>\n",
       "    </tr>\n",
       "    <tr>\n",
       "      <th>предприятие\\nбыстрого\\nобслуживания</th>\n",
       "      <td>33</td>\n",
       "    </tr>\n",
       "    <tr>\n",
       "      <th>закусочная</th>\n",
       "      <td>17</td>\n",
       "    </tr>\n",
       "    <tr>\n",
       "      <th>кафетерий</th>\n",
       "      <td>13</td>\n",
       "    </tr>\n",
       "    <tr>\n",
       "      <th>магазин\\n(отдел\\nкулинарии)</th>\n",
       "      <td>12</td>\n",
       "    </tr>\n",
       "  </tbody>\n",
       "</table>\n",
       "</div>"
      ],
      "text/plain": [
       "                                     number\n",
       "object_type                                \n",
       "столовая                                103\n",
       "ресторан                                 95\n",
       "буфет                                    44\n",
       "бар                                      44\n",
       "кафе                                     43\n",
       "предприятие\\nбыстрого\\nобслуживания      33\n",
       "закусочная                               17\n",
       "кафетерий                                13\n",
       "магазин\\n(отдел\\nкулинарии)              12"
      ]
     },
     "execution_count": 151,
     "metadata": {},
     "output_type": "execute_result"
    }
   ],
   "source": [
    "# Среднее количество посадочных мест\n",
    "\n",
    "number_pivot = (\n",
    "                df[df['number'] != 0].pivot_table(index='object_type', values='number', aggfunc='mean').\n",
    "                sort_values('number', ascending=False)\n",
    "               )\n",
    "\n",
    "number_pivot.rename(index={'предприятие быстрого обслуживания':'предприятие\\nбыстрого\\nобслуживания', \n",
    "                           'магазин (отдел кулинарии)':'магазин\\n(отдел\\nкулинарии)'}, inplace=True)\n",
    "number_pivot"
   ]
  },
  {
   "cell_type": "code",
   "execution_count": 152,
   "id": "5c0c41c2",
   "metadata": {
    "scrolled": true
   },
   "outputs": [
    {
     "data": {
      "text/html": [
       "<div>\n",
       "<style scoped>\n",
       "    .dataframe tbody tr th:only-of-type {\n",
       "        vertical-align: middle;\n",
       "    }\n",
       "\n",
       "    .dataframe tbody tr th {\n",
       "        vertical-align: top;\n",
       "    }\n",
       "\n",
       "    .dataframe thead th {\n",
       "        text-align: right;\n",
       "    }\n",
       "</style>\n",
       "<table border=\"1\" class=\"dataframe\">\n",
       "  <thead>\n",
       "    <tr style=\"text-align: right;\">\n",
       "      <th></th>\n",
       "      <th>number</th>\n",
       "    </tr>\n",
       "    <tr>\n",
       "      <th>object_type</th>\n",
       "      <th></th>\n",
       "    </tr>\n",
       "  </thead>\n",
       "  <tbody>\n",
       "    <tr>\n",
       "      <th>ресторан</th>\n",
       "      <td>80</td>\n",
       "    </tr>\n",
       "    <tr>\n",
       "      <th>столовая</th>\n",
       "      <td>80</td>\n",
       "    </tr>\n",
       "    <tr>\n",
       "      <th>бар</th>\n",
       "      <td>36</td>\n",
       "    </tr>\n",
       "    <tr>\n",
       "      <th>кафе</th>\n",
       "      <td>35</td>\n",
       "    </tr>\n",
       "    <tr>\n",
       "      <th>буфет</th>\n",
       "      <td>30</td>\n",
       "    </tr>\n",
       "    <tr>\n",
       "      <th>предприятие быстрого обслуживания</th>\n",
       "      <td>20</td>\n",
       "    </tr>\n",
       "    <tr>\n",
       "      <th>закусочная</th>\n",
       "      <td>10</td>\n",
       "    </tr>\n",
       "    <tr>\n",
       "      <th>кафетерий</th>\n",
       "      <td>10</td>\n",
       "    </tr>\n",
       "    <tr>\n",
       "      <th>магазин (отдел кулинарии)</th>\n",
       "      <td>8</td>\n",
       "    </tr>\n",
       "  </tbody>\n",
       "</table>\n",
       "</div>"
      ],
      "text/plain": [
       "                                   number\n",
       "object_type                              \n",
       "ресторан                               80\n",
       "столовая                               80\n",
       "бар                                    36\n",
       "кафе                                   35\n",
       "буфет                                  30\n",
       "предприятие быстрого обслуживания      20\n",
       "закусочная                             10\n",
       "кафетерий                              10\n",
       "магазин (отдел кулинарии)               8"
      ]
     },
     "execution_count": 152,
     "metadata": {},
     "output_type": "execute_result"
    }
   ],
   "source": [
    "# Медианное количество посадочных мест\n",
    "\n",
    "number_pivot_1 = (\n",
    "                  df[df['number'] != 0].pivot_table(index='object_type', values='number', aggfunc='median').\n",
    "                  sort_values('number', ascending=False)\n",
    "                  )\n",
    "number_pivot_1"
   ]
  },
  {
   "cell_type": "markdown",
   "id": "c28a3f89",
   "metadata": {},
   "source": [
    "Разница между интересующим нас типом, т.е. кафе - 9 мест, или 2-3 столика. Различие относительно."
   ]
  },
  {
   "cell_type": "code",
   "execution_count": 153,
   "id": "6d005988",
   "metadata": {},
   "outputs": [
    {
     "data": {
      "image/png": "[encoded data removed]",
      "text/plain": [
       "<Figure size 864x432 with 1 Axes>"
      ]
     },
     "metadata": {},
     "output_type": "display_data"
    }
   ],
   "source": [
    "# Изобразим на графике\n",
    "\n",
    "fig, ax = plt.subplots(figsize=(12, 6))\n",
    "sns.barplot(x=number_pivot.index, y=number_pivot.number, ax=ax, color='steelblue')\n",
    "ax.set_xticklabels(ax.get_xticklabels(), rotation=0)\n",
    "ax.set_title('Среднее количество посадочных мест по категориям')\n",
    "ax.set_xlabel('')\n",
    "ax.set_ylabel('Среднее количество посадочных мест')\n",
    "plt.show()"
   ]
  },
  {
   "cell_type": "code",
   "execution_count": 178,
   "id": "45650873",
   "metadata": {},
   "outputs": [
    {
     "data": {
      "image/png": "[encoded data removed]",
      "text/plain": [
       "<Figure size 864x576 with 1 Axes>"
      ]
     },
     "metadata": {},
     "output_type": "display_data"
    }
   ],
   "source": [
    "# Пострим боксплот для посадочных мест\n",
    "\n",
    "sns.set(rc={'figure.figsize':(12, 8)})\n",
    "\n",
    "ax = sns.boxplot(data=df, x='object_type', y='number');\n",
    "\n",
    "ax.set_title('Боксплот по количеству посадочных мест и типу заведения')\n",
    "ax.set_xlabel('')\n",
    "ax.set_ylabel('Количество посадочных мест')\n",
    "ax.set_xticklabels(ax.get_xticklabels(), rotation=-45, horizontalalignment='left')\n",
    "plt.show();"
   ]
  },
  {
   "cell_type": "markdown",
   "id": "2c22c0a4",
   "metadata": {},
   "source": [
    "Самое большое среднее и медианное количество посадочных мест у столовых и ресторанов. Несмотря на то, что кафе по медианному количеству мест находится на пятом месте, по высоте выбросов они на третьем. "
   ]
  },
  {
   "cell_type": "code",
   "execution_count": 155,
   "id": "ecc917dd",
   "metadata": {},
   "outputs": [
    {
     "data": {
      "image/png": "[encoded data removed]",
      "text/plain": [
       "<Figure size 864x576 with 1 Axes>"
      ]
     },
     "metadata": {},
     "output_type": "display_data"
    }
   ],
   "source": [
    "# Пострим боксплот для категорий заведений по сети\n",
    "\n",
    "sns.set(rc={'figure.figsize':(12, 8)})\n",
    "\n",
    "ax = sns.boxplot(data=df, x='chain', y='number');\n",
    "\n",
    "ax.set_title('Боксплот по количеству посадочных мест и категории заведения (сетевое/несетевое)')\n",
    "ax.set_xlabel('')\n",
    "ax.set_ylabel('Количество посадочных мест')\n",
    "plt.show();"
   ]
  },
  {
   "cell_type": "markdown",
   "id": "12b54de0",
   "metadata": {},
   "source": [
    "Медианы посадочных мест у сетевых и несетевых практически не отличаются, но несетевые имеют больше выбросов по посадочным местам."
   ]
  },
  {
   "cell_type": "markdown",
   "id": "c5fa2f87",
   "metadata": {},
   "source": [
    "### Улицы с самым большим количеством заведений <a id='7'></a>"
   ]
  },
  {
   "cell_type": "code",
   "execution_count": 156,
   "id": "f2592b9e",
   "metadata": {},
   "outputs": [
    {
     "data": {
      "text/html": [
       "<div>\n",
       "<style scoped>\n",
       "    .dataframe tbody tr th:only-of-type {\n",
       "        vertical-align: middle;\n",
       "    }\n",
       "\n",
       "    .dataframe tbody tr th {\n",
       "        vertical-align: top;\n",
       "    }\n",
       "\n",
       "    .dataframe thead th {\n",
       "        text-align: right;\n",
       "    }\n",
       "</style>\n",
       "<table border=\"1\" class=\"dataframe\">\n",
       "  <thead>\n",
       "    <tr style=\"text-align: right;\">\n",
       "      <th></th>\n",
       "      <th>id</th>\n",
       "    </tr>\n",
       "    <tr>\n",
       "      <th>streetname</th>\n",
       "      <th></th>\n",
       "    </tr>\n",
       "  </thead>\n",
       "  <tbody>\n",
       "    <tr>\n",
       "      <th>проспект Мира</th>\n",
       "      <td>193</td>\n",
       "    </tr>\n",
       "    <tr>\n",
       "      <th>Профсоюзная улица</th>\n",
       "      <td>173</td>\n",
       "    </tr>\n",
       "    <tr>\n",
       "      <th>Ленинградский проспект</th>\n",
       "      <td>168</td>\n",
       "    </tr>\n",
       "    <tr>\n",
       "      <th>Пресненская набережная</th>\n",
       "      <td>165</td>\n",
       "    </tr>\n",
       "    <tr>\n",
       "      <th>Варшавское шоссе</th>\n",
       "      <td>147</td>\n",
       "    </tr>\n",
       "    <tr>\n",
       "      <th>Ленинский проспект</th>\n",
       "      <td>135</td>\n",
       "    </tr>\n",
       "    <tr>\n",
       "      <th>проспект Вернадского</th>\n",
       "      <td>119</td>\n",
       "    </tr>\n",
       "    <tr>\n",
       "      <th>Кутузовский проспект</th>\n",
       "      <td>107</td>\n",
       "    </tr>\n",
       "    <tr>\n",
       "      <th>Ходынский бульвар</th>\n",
       "      <td>101</td>\n",
       "    </tr>\n",
       "    <tr>\n",
       "      <th>Каширское шоссе</th>\n",
       "      <td>99</td>\n",
       "    </tr>\n",
       "  </tbody>\n",
       "</table>\n",
       "</div>"
      ],
      "text/plain": [
       "                         id\n",
       "streetname                 \n",
       "проспект Мира           193\n",
       "Профсоюзная улица       173\n",
       "Ленинградский проспект  168\n",
       "Пресненская набережная  165\n",
       "Варшавское шоссе        147\n",
       "Ленинский проспект      135\n",
       "проспект Вернадского    119\n",
       "Кутузовский проспект    107\n",
       "Ходынский бульвар       101\n",
       "Каширское шоссе          99"
      ]
     },
     "execution_count": 156,
     "metadata": {},
     "output_type": "execute_result"
    }
   ],
   "source": [
    "# Выведем самые ресторанные улицы города\n",
    "\n",
    "streer_max_pivot = (df.pivot_table(index='streetname', values='id', aggfunc='count')\n",
    "                  .sort_values('id', ascending=False).head(10)\n",
    "                   )\n",
    "\n",
    "streer_max_pivot"
   ]
  },
  {
   "cell_type": "code",
   "execution_count": 157,
   "id": "f8903a3b",
   "metadata": {
    "scrolled": false
   },
   "outputs": [
    {
     "data": {
      "image/png": "[encoded data removed]",
      "text/plain": [
       "<Figure size 864x432 with 1 Axes>"
      ]
     },
     "metadata": {},
     "output_type": "display_data"
    }
   ],
   "source": [
    "# Изобразим на графике\n",
    "\n",
    "fig, ax = plt.subplots(figsize=(12, 6))\n",
    "sns.barplot(x=streer_max_pivot.index, y='id', data=streer_max_pivot, ax=ax, color='steelblue')\n",
    "ax.set_xticklabels(ax.get_xticklabels(), rotation=-45, horizontalalignment='left')\n",
    "ax.set_title('Количество заведений')\n",
    "ax.set_xlabel(' ')\n",
    "ax.set_ylabel('Количество заведений на основных улицах')\n",
    "plt.show()"
   ]
  },
  {
   "cell_type": "markdown",
   "id": "7fb8f912",
   "metadata": {},
   "source": [
    "Обилие мест питания можно объяснить не только большой проходимостью улиц, но и их огромной протяженностью."
   ]
  },
  {
   "cell_type": "code",
   "execution_count": 158,
   "id": "1a312d9d",
   "metadata": {},
   "outputs": [],
   "source": [
    "streer_max_pivot = streer_max_pivot.merge(df_districts, how='left', on='streetname')"
   ]
  },
  {
   "cell_type": "code",
   "execution_count": 159,
   "id": "abde176c",
   "metadata": {},
   "outputs": [
    {
     "data": {
      "text/html": [
       "<div>\n",
       "<style scoped>\n",
       "    .dataframe tbody tr th:only-of-type {\n",
       "        vertical-align: middle;\n",
       "    }\n",
       "\n",
       "    .dataframe tbody tr th {\n",
       "        vertical-align: top;\n",
       "    }\n",
       "\n",
       "    .dataframe thead th {\n",
       "        text-align: right;\n",
       "    }\n",
       "</style>\n",
       "<table border=\"1\" class=\"dataframe\">\n",
       "  <thead>\n",
       "    <tr style=\"text-align: right;\">\n",
       "      <th></th>\n",
       "      <th>area</th>\n",
       "    </tr>\n",
       "    <tr>\n",
       "      <th>streetname</th>\n",
       "      <th></th>\n",
       "    </tr>\n",
       "  </thead>\n",
       "  <tbody>\n",
       "    <tr>\n",
       "      <th>Варшавское шоссе</th>\n",
       "      <td>[ЮАО, ЮЗАО]</td>\n",
       "    </tr>\n",
       "    <tr>\n",
       "      <th>Каширское шоссе</th>\n",
       "      <td>[ЮАО]</td>\n",
       "    </tr>\n",
       "    <tr>\n",
       "      <th>Кутузовский проспект</th>\n",
       "      <td>[ЗАО]</td>\n",
       "    </tr>\n",
       "    <tr>\n",
       "      <th>Ленинградский проспект</th>\n",
       "      <td>[САО]</td>\n",
       "    </tr>\n",
       "    <tr>\n",
       "      <th>Ленинский проспект</th>\n",
       "      <td>[ЗАО, ЮАО, ЮЗАО, ЦАО]</td>\n",
       "    </tr>\n",
       "    <tr>\n",
       "      <th>Пресненская набережная</th>\n",
       "      <td>[ЦАО]</td>\n",
       "    </tr>\n",
       "    <tr>\n",
       "      <th>Профсоюзная улица</th>\n",
       "      <td>[ЮЗАО]</td>\n",
       "    </tr>\n",
       "    <tr>\n",
       "      <th>Ходынский бульвар</th>\n",
       "      <td>[САО]</td>\n",
       "    </tr>\n",
       "    <tr>\n",
       "      <th>проспект Вернадского</th>\n",
       "      <td>[ЗАО, ЮЗАО]</td>\n",
       "    </tr>\n",
       "    <tr>\n",
       "      <th>проспект Мира</th>\n",
       "      <td>[СВАО, ЦАО]</td>\n",
       "    </tr>\n",
       "  </tbody>\n",
       "</table>\n",
       "</div>"
      ],
      "text/plain": [
       "                                         area\n",
       "streetname                                   \n",
       "Варшавское шоссе                  [ЮАО, ЮЗАО]\n",
       "Каширское шоссе                         [ЮАО]\n",
       "Кутузовский проспект                    [ЗАО]\n",
       "Ленинградский проспект                  [САО]\n",
       "Ленинский проспект      [ЗАО, ЮАО, ЮЗАО, ЦАО]\n",
       "Пресненская набережная                  [ЦАО]\n",
       "Профсоюзная улица                      [ЮЗАО]\n",
       "Ходынский бульвар                       [САО]\n",
       "проспект Вернадского              [ЗАО, ЮЗАО]\n",
       "проспект Мира                     [СВАО, ЦАО]"
      ]
     },
     "execution_count": 159,
     "metadata": {},
     "output_type": "execute_result"
    }
   ],
   "source": [
    "pd.DataFrame(streer_max_pivot.groupby('streetname')['area'].unique())"
   ]
  },
  {
   "cell_type": "code",
   "execution_count": 160,
   "id": "0cfb933b",
   "metadata": {},
   "outputs": [
    {
     "data": {
      "text/html": [
       "<div>\n",
       "<style scoped>\n",
       "    .dataframe tbody tr th:only-of-type {\n",
       "        vertical-align: middle;\n",
       "    }\n",
       "\n",
       "    .dataframe tbody tr th {\n",
       "        vertical-align: top;\n",
       "    }\n",
       "\n",
       "    .dataframe thead th {\n",
       "        text-align: right;\n",
       "    }\n",
       "</style>\n",
       "<table border=\"1\" class=\"dataframe\">\n",
       "  <thead>\n",
       "    <tr style=\"text-align: right;\">\n",
       "      <th></th>\n",
       "      <th>district</th>\n",
       "    </tr>\n",
       "    <tr>\n",
       "      <th>streetname</th>\n",
       "      <th></th>\n",
       "    </tr>\n",
       "  </thead>\n",
       "  <tbody>\n",
       "    <tr>\n",
       "      <th>Варшавское шоссе</th>\n",
       "      <td>[Район Чертаново Центральное, Район Чертаново Северное, Район Чертаново Южное, Донской район, Район Нагатино-Садовники, Нагорный район, Район Северное Бутово, Район Южное Бутово]</td>\n",
       "    </tr>\n",
       "    <tr>\n",
       "      <th>Каширское шоссе</th>\n",
       "      <td>[Район Москворечье-Сабурово, Район Нагатино-Садовники, Район Орехово-Борисово Южное, Район Орехово-Борисово Северное]</td>\n",
       "    </tr>\n",
       "    <tr>\n",
       "      <th>Кутузовский проспект</th>\n",
       "      <td>[Район Дорогомилово, Район Фили-Давыдково]</td>\n",
       "    </tr>\n",
       "    <tr>\n",
       "      <th>Ленинградский проспект</th>\n",
       "      <td>[Район Аэропорт, Район Беговой, Хорошевский район, Район Сокол]</td>\n",
       "    </tr>\n",
       "    <tr>\n",
       "      <th>Ленинский проспект</th>\n",
       "      <td>[Район Проспект Вернадского, Район Тропарево-Никулино, Донской район, Район Гагаринский, Ломоносовский район, Обручевский район, Район Теплый Стан, Район Якиманка]</td>\n",
       "    </tr>\n",
       "    <tr>\n",
       "      <th>Пресненская набережная</th>\n",
       "      <td>[Пресненский район]</td>\n",
       "    </tr>\n",
       "    <tr>\n",
       "      <th>Профсоюзная улица</th>\n",
       "      <td>[Академический район, Район Черемушки, Район Ясенево, Район Коньково, Обручевский район, Район Теплый Стан]</td>\n",
       "    </tr>\n",
       "    <tr>\n",
       "      <th>Ходынский бульвар</th>\n",
       "      <td>[Хорошевский район]</td>\n",
       "    </tr>\n",
       "    <tr>\n",
       "      <th>проспект Вернадского</th>\n",
       "      <td>[Район Проспект Вернадского, Район Раменки, Район Тропарево-Никулино, Район Гагаринский, Ломоносовский район]</td>\n",
       "    </tr>\n",
       "    <tr>\n",
       "      <th>проспект Мира</th>\n",
       "      <td>[Алексеевский район, Ярославский Район, Район Марьина роща, Останкинский район, Район Ростокино, Район Свиблово, Мещанский район]</td>\n",
       "    </tr>\n",
       "  </tbody>\n",
       "</table>\n",
       "</div>"
      ],
      "text/plain": [
       "                                                                                                                                                                                                  district\n",
       "streetname                                                                                                                                                                                                \n",
       "Варшавское шоссе        [Район Чертаново Центральное, Район Чертаново Северное, Район Чертаново Южное, Донской район, Район Нагатино-Садовники, Нагорный район, Район Северное Бутово, Район Южное Бутово]\n",
       "Каширское шоссе                                                                      [Район Москворечье-Сабурово, Район Нагатино-Садовники, Район Орехово-Борисово Южное, Район Орехово-Борисово Северное]\n",
       "Кутузовский проспект                                                                                                                                            [Район Дорогомилово, Район Фили-Давыдково]\n",
       "Ленинградский проспект                                                                                                                     [Район Аэропорт, Район Беговой, Хорошевский район, Район Сокол]\n",
       "Ленинский проспект                     [Район Проспект Вернадского, Район Тропарево-Никулино, Донской район, Район Гагаринский, Ломоносовский район, Обручевский район, Район Теплый Стан, Район Якиманка]\n",
       "Пресненская набережная                                                                                                                                                                 [Пресненский район]\n",
       "Профсоюзная улица                                                                              [Академический район, Район Черемушки, Район Ясенево, Район Коньково, Обручевский район, Район Теплый Стан]\n",
       "Ходынский бульвар                                                                                                                                                                      [Хорошевский район]\n",
       "проспект Вернадского                                                                         [Район Проспект Вернадского, Район Раменки, Район Тропарево-Никулино, Район Гагаринский, Ломоносовский район]\n",
       "проспект Мира                                                            [Алексеевский район, Ярославский Район, Район Марьина роща, Останкинский район, Район Ростокино, Район Свиблово, Мещанский район]"
      ]
     },
     "execution_count": 160,
     "metadata": {},
     "output_type": "execute_result"
    }
   ],
   "source": [
    "pd.DataFrame(streer_max_pivot.groupby('streetname')['district'].unique())"
   ]
  },
  {
   "cell_type": "code",
   "execution_count": 161,
   "id": "b65b89b4",
   "metadata": {},
   "outputs": [
    {
     "data": {
      "text/html": [
       "<div>\n",
       "<style scoped>\n",
       "    .dataframe tbody tr th:only-of-type {\n",
       "        vertical-align: middle;\n",
       "    }\n",
       "\n",
       "    .dataframe tbody tr th {\n",
       "        vertical-align: top;\n",
       "    }\n",
       "\n",
       "    .dataframe thead th {\n",
       "        text-align: right;\n",
       "    }\n",
       "</style>\n",
       "<table border=\"1\" class=\"dataframe\">\n",
       "  <thead>\n",
       "    <tr style=\"text-align: right;\">\n",
       "      <th></th>\n",
       "      <th>district</th>\n",
       "    </tr>\n",
       "    <tr>\n",
       "      <th>streetname</th>\n",
       "      <th></th>\n",
       "    </tr>\n",
       "  </thead>\n",
       "  <tbody>\n",
       "    <tr>\n",
       "      <th>Варшавское шоссе</th>\n",
       "      <td>8</td>\n",
       "    </tr>\n",
       "    <tr>\n",
       "      <th>Каширское шоссе</th>\n",
       "      <td>4</td>\n",
       "    </tr>\n",
       "    <tr>\n",
       "      <th>Кутузовский проспект</th>\n",
       "      <td>2</td>\n",
       "    </tr>\n",
       "    <tr>\n",
       "      <th>Ленинградский проспект</th>\n",
       "      <td>4</td>\n",
       "    </tr>\n",
       "    <tr>\n",
       "      <th>Ленинский проспект</th>\n",
       "      <td>8</td>\n",
       "    </tr>\n",
       "    <tr>\n",
       "      <th>Пресненская набережная</th>\n",
       "      <td>1</td>\n",
       "    </tr>\n",
       "    <tr>\n",
       "      <th>Профсоюзная улица</th>\n",
       "      <td>6</td>\n",
       "    </tr>\n",
       "    <tr>\n",
       "      <th>Ходынский бульвар</th>\n",
       "      <td>1</td>\n",
       "    </tr>\n",
       "    <tr>\n",
       "      <th>проспект Вернадского</th>\n",
       "      <td>5</td>\n",
       "    </tr>\n",
       "    <tr>\n",
       "      <th>проспект Мира</th>\n",
       "      <td>7</td>\n",
       "    </tr>\n",
       "  </tbody>\n",
       "</table>\n",
       "</div>"
      ],
      "text/plain": [
       "                        district\n",
       "streetname                      \n",
       "Варшавское шоссе               8\n",
       "Каширское шоссе                4\n",
       "Кутузовский проспект           2\n",
       "Ленинградский проспект         4\n",
       "Ленинский проспект             8\n",
       "Пресненская набережная         1\n",
       "Профсоюзная улица              6\n",
       "Ходынский бульвар              1\n",
       "проспект Вернадского           5\n",
       "проспект Мира                  7"
      ]
     },
     "execution_count": 161,
     "metadata": {},
     "output_type": "execute_result"
    }
   ],
   "source": [
    "streer_max_pivot.pivot_table(index='streetname', values='district', aggfunc='count')"
   ]
  },
  {
   "cell_type": "markdown",
   "id": "f757809c",
   "metadata": {},
   "source": [
    "Только одна улица - Пресненская набережная, находится на территории одного района (возможно, он и являются самыми привлекательными). Кутузовский проспект расположен на территории двух районов, остальные проходят более, черем через четыре района. "
   ]
  },
  {
   "cell_type": "code",
   "execution_count": 162,
   "id": "9c6d4e50",
   "metadata": {
    "scrolled": false
   },
   "outputs": [
    {
     "data": {
      "text/html": [
       "<div>\n",
       "<style scoped>\n",
       "    .dataframe tbody tr th:only-of-type {\n",
       "        vertical-align: middle;\n",
       "    }\n",
       "\n",
       "    .dataframe tbody tr th {\n",
       "        vertical-align: top;\n",
       "    }\n",
       "\n",
       "    .dataframe thead th {\n",
       "        text-align: right;\n",
       "    }\n",
       "</style>\n",
       "<table border=\"1\" class=\"dataframe\">\n",
       "  <thead>\n",
       "    <tr style=\"text-align: right;\">\n",
       "      <th></th>\n",
       "      <th>streetname</th>\n",
       "      <th>id</th>\n",
       "      <th>area</th>\n",
       "      <th>district</th>\n",
       "    </tr>\n",
       "  </thead>\n",
       "  <tbody>\n",
       "    <tr>\n",
       "      <th>17</th>\n",
       "      <td>Пресненская набережная</td>\n",
       "      <td>165</td>\n",
       "      <td>ЦАО</td>\n",
       "      <td>Пресненский район</td>\n",
       "    </tr>\n",
       "    <tr>\n",
       "      <th>41</th>\n",
       "      <td>Ходынский бульвар</td>\n",
       "      <td>101</td>\n",
       "      <td>САО</td>\n",
       "      <td>Хорошевский район</td>\n",
       "    </tr>\n",
       "    <tr>\n",
       "      <th>59</th>\n",
       "      <td>улица Новый Арбат</td>\n",
       "      <td>92</td>\n",
       "      <td>ЦАО</td>\n",
       "      <td>Район Арбат</td>\n",
       "    </tr>\n",
       "    <tr>\n",
       "      <th>63</th>\n",
       "      <td>улица Ленинская Слобода</td>\n",
       "      <td>88</td>\n",
       "      <td>ЮАО</td>\n",
       "      <td>Даниловский район</td>\n",
       "    </tr>\n",
       "    <tr>\n",
       "      <th>64</th>\n",
       "      <td>Пятницкая улица</td>\n",
       "      <td>80</td>\n",
       "      <td>ЦАО</td>\n",
       "      <td>Район Замоскворечье</td>\n",
       "    </tr>\n",
       "    <tr>\n",
       "      <th>67</th>\n",
       "      <td>улица Арбат</td>\n",
       "      <td>76</td>\n",
       "      <td>ЦАО</td>\n",
       "      <td>Район Арбат</td>\n",
       "    </tr>\n",
       "    <tr>\n",
       "      <th>80</th>\n",
       "      <td>улица Покровка</td>\n",
       "      <td>75</td>\n",
       "      <td>ЦАО</td>\n",
       "      <td>Басманный район</td>\n",
       "    </tr>\n",
       "    <tr>\n",
       "      <th>88</th>\n",
       "      <td>Тверская улица</td>\n",
       "      <td>68</td>\n",
       "      <td>ЦАО</td>\n",
       "      <td>Тверской район</td>\n",
       "    </tr>\n",
       "    <tr>\n",
       "      <th>89</th>\n",
       "      <td>Автозаводская улица</td>\n",
       "      <td>65</td>\n",
       "      <td>ЮАО</td>\n",
       "      <td>Даниловский район</td>\n",
       "    </tr>\n",
       "    <tr>\n",
       "      <th>97</th>\n",
       "      <td>Ярцевская улица</td>\n",
       "      <td>60</td>\n",
       "      <td>ЗАО</td>\n",
       "      <td>Район Кунцево</td>\n",
       "    </tr>\n",
       "  </tbody>\n",
       "</table>\n",
       "</div>"
      ],
      "text/plain": [
       "                 streetname   id area             district\n",
       "17   Пресненская набережная  165  ЦАО    Пресненский район\n",
       "41        Ходынский бульвар  101  САО    Хорошевский район\n",
       "59        улица Новый Арбат   92  ЦАО          Район Арбат\n",
       "63  улица Ленинская Слобода   88  ЮАО    Даниловский район\n",
       "64          Пятницкая улица   80  ЦАО  Район Замоскворечье\n",
       "67              улица Арбат   76  ЦАО          Район Арбат\n",
       "80           улица Покровка   75  ЦАО      Басманный район\n",
       "88           Тверская улица   68  ЦАО       Тверской район\n",
       "89      Автозаводская улица   65  ЮАО    Даниловский район\n",
       "97          Ярцевская улица   60  ЗАО        Район Кунцево"
      ]
     },
     "execution_count": 162,
     "metadata": {},
     "output_type": "execute_result"
    }
   ],
   "source": [
    "# Найдем топ-10 улиц, находящихся на территории одного района\n",
    "\n",
    "streer_max_pivot_2 = (df.pivot_table(index='streetname', values='id', aggfunc='count')\n",
    "                  .sort_values('id', ascending=False).merge(df_districts, how='left', on='streetname')\n",
    "                   )\n",
    "\n",
    "streets_for_deleting = (\n",
    "streer_max_pivot_2.pivot_table(index='streetname', values='district', aggfunc='count')\n",
    ".sort_values('district', ascending=False).query('district !=1')\n",
    ")\n",
    "\n",
    "streets_for_deleting_list = streets_for_deleting.index.tolist()\n",
    "\n",
    "streer_max_pivot_2 = streer_max_pivot_2[~ streer_max_pivot_2['streetname'].isin(streets_for_deleting_list)].head(10)\n",
    "\n",
    "streer_max_pivot_2"
   ]
  },
  {
   "cell_type": "code",
   "execution_count": 163,
   "id": "30eba85d",
   "metadata": {},
   "outputs": [
    {
     "data": {
      "image/png": "[encoded data removed]",
      "text/plain": [
       "<Figure size 864x432 with 1 Axes>"
      ]
     },
     "metadata": {},
     "output_type": "display_data"
    }
   ],
   "source": [
    "# Изобразим на графике\n",
    "\n",
    "fig, ax = plt.subplots(figsize=(12, 6))\n",
    "sns.barplot(x='streetname', y='id', data=streer_max_pivot_2, ax=ax, color='steelblue')\n",
    "ax.set_xticklabels(ax.get_xticklabels(), rotation=-45, horizontalalignment='left')\n",
    "ax.set_title('Количество заведений')\n",
    "ax.set_xlabel(' ')\n",
    "ax.set_ylabel('Количество заведений на основных улицах')\n",
    "plt.show()"
   ]
  },
  {
   "cell_type": "markdown",
   "id": "fbfd8d0a",
   "metadata": {},
   "source": [
    "Из всех этих улиц  половина находится на территории Центрального округа. Также две улица находятся на территории одного и того же района - на Арбате, поэтому обратим на этот район особое внимание."
   ]
  },
  {
   "cell_type": "markdown",
   "id": "fa01e7bb",
   "metadata": {},
   "source": [
    "### Улицы с одним заведением <a id='8'></a>"
   ]
  },
  {
   "cell_type": "code",
   "execution_count": 164,
   "id": "a3cff68c",
   "metadata": {},
   "outputs": [
    {
     "data": {
      "text/html": [
       "<div>\n",
       "<style scoped>\n",
       "    .dataframe tbody tr th:only-of-type {\n",
       "        vertical-align: middle;\n",
       "    }\n",
       "\n",
       "    .dataframe tbody tr th {\n",
       "        vertical-align: top;\n",
       "    }\n",
       "\n",
       "    .dataframe thead th {\n",
       "        text-align: right;\n",
       "    }\n",
       "</style>\n",
       "<table border=\"1\" class=\"dataframe\">\n",
       "  <thead>\n",
       "    <tr style=\"text-align: right;\">\n",
       "      <th></th>\n",
       "      <th>id</th>\n",
       "    </tr>\n",
       "    <tr>\n",
       "      <th>streetname</th>\n",
       "      <th></th>\n",
       "    </tr>\n",
       "  </thead>\n",
       "  <tbody>\n",
       "    <tr>\n",
       "      <th>Мерзляковский переулок</th>\n",
       "      <td>1</td>\n",
       "    </tr>\n",
       "    <tr>\n",
       "      <th>Заводской проезд</th>\n",
       "      <td>1</td>\n",
       "    </tr>\n",
       "    <tr>\n",
       "      <th>улица Крупской</th>\n",
       "      <td>1</td>\n",
       "    </tr>\n",
       "    <tr>\n",
       "      <th>Театральная аллея</th>\n",
       "      <td>1</td>\n",
       "    </tr>\n",
       "    <tr>\n",
       "      <th>Таёжная улица</th>\n",
       "      <td>1</td>\n",
       "    </tr>\n",
       "    <tr>\n",
       "      <th>Тарханская улица</th>\n",
       "      <td>1</td>\n",
       "    </tr>\n",
       "    <tr>\n",
       "      <th>Тарусская улица</th>\n",
       "      <td>1</td>\n",
       "    </tr>\n",
       "    <tr>\n",
       "      <th>Тессинский переулок</th>\n",
       "      <td>1</td>\n",
       "    </tr>\n",
       "    <tr>\n",
       "      <th>Зарайская улица</th>\n",
       "      <td>1</td>\n",
       "    </tr>\n",
       "    <tr>\n",
       "      <th>Звонарский переулок</th>\n",
       "      <td>1</td>\n",
       "    </tr>\n",
       "  </tbody>\n",
       "</table>\n",
       "</div>"
      ],
      "text/plain": [
       "                        id\n",
       "streetname                \n",
       "Мерзляковский переулок   1\n",
       "Заводской проезд         1\n",
       "улица Крупской           1\n",
       "Театральная аллея        1\n",
       "Таёжная улица            1\n",
       "Тарханская улица         1\n",
       "Тарусская улица          1\n",
       "Тессинский переулок      1\n",
       "Зарайская улица          1\n",
       "Звонарский переулок      1"
      ]
     },
     "execution_count": 164,
     "metadata": {},
     "output_type": "execute_result"
    }
   ],
   "source": [
    "# Выведем самые нересторанные улицы города\n",
    "\n",
    "\n",
    "streer_min_pivot = (\n",
    "                   df.pivot_table(index='streetname', values='id', aggfunc='count')\n",
    "                   .sort_values('id', ascending=True)\n",
    "                   )\n",
    "                   \n",
    "streer_min_pivot.query('id == 1').head(10)"
   ]
  },
  {
   "cell_type": "code",
   "execution_count": 165,
   "id": "32c82681",
   "metadata": {
    "scrolled": true
   },
   "outputs": [
    {
     "data": {
      "text/html": [
       "<div>\n",
       "<style scoped>\n",
       "    .dataframe tbody tr th:only-of-type {\n",
       "        vertical-align: middle;\n",
       "    }\n",
       "\n",
       "    .dataframe tbody tr th {\n",
       "        vertical-align: top;\n",
       "    }\n",
       "\n",
       "    .dataframe thead th {\n",
       "        text-align: right;\n",
       "    }\n",
       "</style>\n",
       "<table border=\"1\" class=\"dataframe\">\n",
       "  <thead>\n",
       "    <tr style=\"text-align: right;\">\n",
       "      <th></th>\n",
       "      <th>streetname</th>\n",
       "      <th>id</th>\n",
       "      <th>area</th>\n",
       "      <th>district</th>\n",
       "    </tr>\n",
       "  </thead>\n",
       "  <tbody>\n",
       "    <tr>\n",
       "      <th>0</th>\n",
       "      <td>Мерзляковский переулок</td>\n",
       "      <td>1</td>\n",
       "      <td>ЦАО</td>\n",
       "      <td>Пресненский район</td>\n",
       "    </tr>\n",
       "    <tr>\n",
       "      <th>1</th>\n",
       "      <td>Мерзляковский переулок</td>\n",
       "      <td>1</td>\n",
       "      <td>ЦАО</td>\n",
       "      <td>Район Арбат</td>\n",
       "    </tr>\n",
       "    <tr>\n",
       "      <th>2</th>\n",
       "      <td>Заводской проезд</td>\n",
       "      <td>1</td>\n",
       "      <td>ВАО</td>\n",
       "      <td>Район Измайлово</td>\n",
       "    </tr>\n",
       "    <tr>\n",
       "      <th>3</th>\n",
       "      <td>улица Крупской</td>\n",
       "      <td>1</td>\n",
       "      <td>Зеленоград</td>\n",
       "      <td>Район Крюково</td>\n",
       "    </tr>\n",
       "    <tr>\n",
       "      <th>4</th>\n",
       "      <td>улица Крупской</td>\n",
       "      <td>1</td>\n",
       "      <td>ЮЗАО</td>\n",
       "      <td>Ломоносовский район</td>\n",
       "    </tr>\n",
       "    <tr>\n",
       "      <th>...</th>\n",
       "      <td>...</td>\n",
       "      <td>...</td>\n",
       "      <td>...</td>\n",
       "      <td>...</td>\n",
       "    </tr>\n",
       "    <tr>\n",
       "      <th>520</th>\n",
       "      <td>1-й Обыденский переулок</td>\n",
       "      <td>1</td>\n",
       "      <td>ЦАО</td>\n",
       "      <td>Район Хамовники</td>\n",
       "    </tr>\n",
       "    <tr>\n",
       "      <th>521</th>\n",
       "      <td>улица Говорова</td>\n",
       "      <td>1</td>\n",
       "      <td>ЗАО</td>\n",
       "      <td>Можайский Район</td>\n",
       "    </tr>\n",
       "    <tr>\n",
       "      <th>522</th>\n",
       "      <td>1-й Рижский переулок</td>\n",
       "      <td>1</td>\n",
       "      <td>СВАО</td>\n",
       "      <td>Алексеевский район</td>\n",
       "    </tr>\n",
       "    <tr>\n",
       "      <th>523</th>\n",
       "      <td>проезд Стройкомбината</td>\n",
       "      <td>1</td>\n",
       "      <td>ЗАО</td>\n",
       "      <td>Район Очаково-Матвеевское</td>\n",
       "    </tr>\n",
       "    <tr>\n",
       "      <th>524</th>\n",
       "      <td>улица Гримау</td>\n",
       "      <td>1</td>\n",
       "      <td>ЮЗАО</td>\n",
       "      <td>Академический район</td>\n",
       "    </tr>\n",
       "  </tbody>\n",
       "</table>\n",
       "<p>525 rows × 4 columns</p>\n",
       "</div>"
      ],
      "text/plain": [
       "                  streetname  id        area                   district\n",
       "0     Мерзляковский переулок   1         ЦАО          Пресненский район\n",
       "1     Мерзляковский переулок   1         ЦАО                Район Арбат\n",
       "2           Заводской проезд   1         ВАО            Район Измайлово\n",
       "3             улица Крупской   1  Зеленоград              Район Крюково\n",
       "4             улица Крупской   1        ЮЗАО        Ломоносовский район\n",
       "..                       ...  ..         ...                        ...\n",
       "520  1-й Обыденский переулок   1         ЦАО            Район Хамовники\n",
       "521           улица Говорова   1         ЗАО            Можайский Район\n",
       "522     1-й Рижский переулок   1        СВАО         Алексеевский район\n",
       "523    проезд Стройкомбината   1         ЗАО  Район Очаково-Матвеевское\n",
       "524             улица Гримау   1        ЮЗАО        Академический район\n",
       "\n",
       "[525 rows x 4 columns]"
      ]
     },
     "execution_count": 165,
     "metadata": {},
     "output_type": "execute_result"
    }
   ],
   "source": [
    "streer_min_pivot = streer_min_pivot.query('id == 1').merge(df_districts, how='left', on='streetname')\n",
    "streer_min_pivot"
   ]
  },
  {
   "cell_type": "code",
   "execution_count": 166,
   "id": "8a59318d",
   "metadata": {
    "scrolled": true
   },
   "outputs": [
    {
     "data": {
      "text/plain": [
       "525"
      ]
     },
     "execution_count": 166,
     "metadata": {},
     "output_type": "execute_result"
    }
   ],
   "source": [
    "streer_min_pivot.query('id == 1')['id'].count()"
   ]
  },
  {
   "cell_type": "markdown",
   "id": "ce1c155b",
   "metadata": {},
   "source": [
    "Существует 525 улиц с одним заведением. Не будет преувеличением сказать, что таковые есть почти что в каждом районе. Но посмотрим их количество в тех районах, где находятся улицы с самым большим количеством заведений."
   ]
  },
  {
   "cell_type": "code",
   "execution_count": 167,
   "id": "c86dd6ec",
   "metadata": {},
   "outputs": [
    {
     "data": {
      "text/plain": [
       "18"
      ]
     },
     "execution_count": 167,
     "metadata": {},
     "output_type": "execute_result"
    }
   ],
   "source": [
    "# Количество улиц с одним заведением в районе Арбата\n",
    "\n",
    "streer_min_pivot.query('district == \"Район Арбат\"')['id'].count()"
   ]
  },
  {
   "cell_type": "code",
   "execution_count": 168,
   "id": "9e82718c",
   "metadata": {},
   "outputs": [
    {
     "data": {
      "text/plain": [
       "17"
      ]
     },
     "execution_count": 168,
     "metadata": {},
     "output_type": "execute_result"
    }
   ],
   "source": [
    "# Количество улиц с одним заведением в Персенском районе\n",
    "\n",
    "streer_min_pivot.query('district == \"Пресненский район\"')['id'].count()"
   ]
  },
  {
   "cell_type": "markdown",
   "id": "8429e0fa",
   "metadata": {},
   "source": [
    "Итак, самый перспективный округ - Центральный. В нем самые ресторанные районы Арбат и Пресненский. В каждом из них существует полтора десятка улиц, на которых находится всего по одному заведению. Если проанализировать проходимость этих улиц, ты сможем понять, нужно ли нам открываться на одной из них."
   ]
  },
  {
   "cell_type": "markdown",
   "id": "57b1ed6d",
   "metadata": {},
   "source": [
    "### Исследование сетевых заведений <a id='9'></a>"
   ]
  },
  {
   "cell_type": "code",
   "execution_count": 169,
   "id": "564b518e",
   "metadata": {
    "scrolled": false
   },
   "outputs": [
    {
     "data": {
      "text/html": [
       "<div>\n",
       "<style scoped>\n",
       "    .dataframe tbody tr th:only-of-type {\n",
       "        vertical-align: middle;\n",
       "    }\n",
       "\n",
       "    .dataframe tbody tr th {\n",
       "        vertical-align: top;\n",
       "    }\n",
       "\n",
       "    .dataframe thead th {\n",
       "        text-align: right;\n",
       "    }\n",
       "</style>\n",
       "<table border=\"1\" class=\"dataframe\">\n",
       "  <thead>\n",
       "    <tr style=\"text-align: right;\">\n",
       "      <th></th>\n",
       "      <th>id</th>\n",
       "    </tr>\n",
       "    <tr>\n",
       "      <th>object_name</th>\n",
       "      <th></th>\n",
       "    </tr>\n",
       "  </thead>\n",
       "  <tbody>\n",
       "    <tr>\n",
       "      <th>шоколадница</th>\n",
       "      <td>179</td>\n",
       "    </tr>\n",
       "    <tr>\n",
       "      <th>kfc</th>\n",
       "      <td>167</td>\n",
       "    </tr>\n",
       "    <tr>\n",
       "      <th>макдоналдс</th>\n",
       "      <td>157</td>\n",
       "    </tr>\n",
       "    <tr>\n",
       "      <th>бургер кинг</th>\n",
       "      <td>144</td>\n",
       "    </tr>\n",
       "    <tr>\n",
       "      <th>теремок</th>\n",
       "      <td>101</td>\n",
       "    </tr>\n",
       "    <tr>\n",
       "      <th>домино'с пицца</th>\n",
       "      <td>89</td>\n",
       "    </tr>\n",
       "    <tr>\n",
       "      <th>крошка картошка</th>\n",
       "      <td>86</td>\n",
       "    </tr>\n",
       "    <tr>\n",
       "      <th>милти</th>\n",
       "      <td>68</td>\n",
       "    </tr>\n",
       "    <tr>\n",
       "      <th>суши wok</th>\n",
       "      <td>66</td>\n",
       "    </tr>\n",
       "    <tr>\n",
       "      <th>папа джонс</th>\n",
       "      <td>59</td>\n",
       "    </tr>\n",
       "  </tbody>\n",
       "</table>\n",
       "</div>"
      ],
      "text/plain": [
       "                  id\n",
       "object_name         \n",
       "шоколадница      179\n",
       "kfc              167\n",
       "макдоналдс       157\n",
       "бургер кинг      144\n",
       "теремок          101\n",
       "домино'с пицца    89\n",
       "крошка картошка   86\n",
       "милти             68\n",
       "суши wok          66\n",
       "папа джонс        59"
      ]
     },
     "execution_count": 169,
     "metadata": {},
     "output_type": "execute_result"
    }
   ],
   "source": [
    "# Выведем десять самых крупных сетей питания\n",
    "\n",
    "df_chain = (\n",
    "    df.query('chain == \"да\"').pivot_table(index='object_name', values='id', aggfunc='count')\n",
    "    .query('id > 1').sort_values(by='id', ascending=False)\n",
    ")\n",
    "\n",
    "df_chain.head(10)"
   ]
  },
  {
   "cell_type": "code",
   "execution_count": 170,
   "id": "03d961c6",
   "metadata": {},
   "outputs": [
    {
     "data": {
      "text/html": [
       "<div>\n",
       "<style scoped>\n",
       "    .dataframe tbody tr th:only-of-type {\n",
       "        vertical-align: middle;\n",
       "    }\n",
       "\n",
       "    .dataframe tbody tr th {\n",
       "        vertical-align: top;\n",
       "    }\n",
       "\n",
       "    .dataframe thead th {\n",
       "        text-align: right;\n",
       "    }\n",
       "</style>\n",
       "<table border=\"1\" class=\"dataframe\">\n",
       "  <thead>\n",
       "    <tr style=\"text-align: right;\">\n",
       "      <th></th>\n",
       "      <th>id</th>\n",
       "      <th>chain_status</th>\n",
       "    </tr>\n",
       "    <tr>\n",
       "      <th>object_name</th>\n",
       "      <th></th>\n",
       "      <th></th>\n",
       "    </tr>\n",
       "  </thead>\n",
       "  <tbody>\n",
       "    <tr>\n",
       "      <th>шоколадница</th>\n",
       "      <td>179</td>\n",
       "      <td>крупные</td>\n",
       "    </tr>\n",
       "    <tr>\n",
       "      <th>kfc</th>\n",
       "      <td>167</td>\n",
       "      <td>крупные</td>\n",
       "    </tr>\n",
       "    <tr>\n",
       "      <th>макдоналдс</th>\n",
       "      <td>157</td>\n",
       "      <td>крупные</td>\n",
       "    </tr>\n",
       "    <tr>\n",
       "      <th>бургер кинг</th>\n",
       "      <td>144</td>\n",
       "      <td>крупные</td>\n",
       "    </tr>\n",
       "    <tr>\n",
       "      <th>теремок</th>\n",
       "      <td>101</td>\n",
       "      <td>крупные</td>\n",
       "    </tr>\n",
       "    <tr>\n",
       "      <th>...</th>\n",
       "      <td>...</td>\n",
       "      <td>...</td>\n",
       "    </tr>\n",
       "    <tr>\n",
       "      <th>ирландский паб</th>\n",
       "      <td>2</td>\n",
       "      <td>мелкие</td>\n",
       "    </tr>\n",
       "    <tr>\n",
       "      <th>сбарро</th>\n",
       "      <td>2</td>\n",
       "      <td>мелкие</td>\n",
       "    </tr>\n",
       "    <tr>\n",
       "      <th>ми пьяче</th>\n",
       "      <td>2</td>\n",
       "      <td>мелкие</td>\n",
       "    </tr>\n",
       "    <tr>\n",
       "      <th>иль форно</th>\n",
       "      <td>2</td>\n",
       "      <td>мелкие</td>\n",
       "    </tr>\n",
       "    <tr>\n",
       "      <th>илья муромец</th>\n",
       "      <td>2</td>\n",
       "      <td>мелкие</td>\n",
       "    </tr>\n",
       "  </tbody>\n",
       "</table>\n",
       "<p>194 rows × 2 columns</p>\n",
       "</div>"
      ],
      "text/plain": [
       "                 id chain_status\n",
       "object_name                     \n",
       "шоколадница     179      крупные\n",
       "kfc             167      крупные\n",
       "макдоналдс      157      крупные\n",
       "бургер кинг     144      крупные\n",
       "теремок         101      крупные\n",
       "...             ...          ...\n",
       "ирландский паб    2       мелкие\n",
       "сбарро            2       мелкие\n",
       "ми пьяче          2       мелкие\n",
       "иль форно         2       мелкие\n",
       "илья муромец      2       мелкие\n",
       "\n",
       "[194 rows x 2 columns]"
      ]
     },
     "execution_count": 170,
     "metadata": {},
     "output_type": "execute_result"
    }
   ],
   "source": [
    "# Группировка\n",
    "\n",
    "cut_labels = ['мелкие', 'средние', 'крупные']\n",
    "cut_bins = [0, df_chain['id'].quantile(q=0.25), df_chain['id'].quantile(q=0.75), np.inf]\n",
    "\n",
    "df_chain['chain_status'] = pd.cut(df_chain['id'],\n",
    "                       bins=cut_bins,\n",
    "                       labels=cut_labels)\n",
    "\n",
    "df_chain"
   ]
  },
  {
   "cell_type": "code",
   "execution_count": 172,
   "id": "ae8318c4",
   "metadata": {
    "scrolled": false
   },
   "outputs": [
    {
     "data": {
      "text/html": [
       "<div>\n",
       "<style scoped>\n",
       "    .dataframe tbody tr th:only-of-type {\n",
       "        vertical-align: middle;\n",
       "    }\n",
       "\n",
       "    .dataframe tbody tr th {\n",
       "        vertical-align: top;\n",
       "    }\n",
       "\n",
       "    .dataframe thead th {\n",
       "        text-align: right;\n",
       "    }\n",
       "</style>\n",
       "<table border=\"1\" class=\"dataframe\">\n",
       "  <thead>\n",
       "    <tr style=\"text-align: right;\">\n",
       "      <th></th>\n",
       "      <th>id</th>\n",
       "      <th>chain_status</th>\n",
       "      <th>number_aver</th>\n",
       "    </tr>\n",
       "    <tr>\n",
       "      <th>object_name</th>\n",
       "      <th></th>\n",
       "      <th></th>\n",
       "      <th></th>\n",
       "    </tr>\n",
       "  </thead>\n",
       "  <tbody>\n",
       "    <tr>\n",
       "      <th>шоколадница</th>\n",
       "      <td>179</td>\n",
       "      <td>крупные</td>\n",
       "      <td>58</td>\n",
       "    </tr>\n",
       "    <tr>\n",
       "      <th>kfc</th>\n",
       "      <td>167</td>\n",
       "      <td>крупные</td>\n",
       "      <td>57</td>\n",
       "    </tr>\n",
       "    <tr>\n",
       "      <th>макдоналдс</th>\n",
       "      <td>157</td>\n",
       "      <td>крупные</td>\n",
       "      <td>91</td>\n",
       "    </tr>\n",
       "    <tr>\n",
       "      <th>бургер кинг</th>\n",
       "      <td>144</td>\n",
       "      <td>крупные</td>\n",
       "      <td>49</td>\n",
       "    </tr>\n",
       "    <tr>\n",
       "      <th>теремок</th>\n",
       "      <td>101</td>\n",
       "      <td>крупные</td>\n",
       "      <td>28</td>\n",
       "    </tr>\n",
       "    <tr>\n",
       "      <th>...</th>\n",
       "      <td>...</td>\n",
       "      <td>...</td>\n",
       "      <td>...</td>\n",
       "    </tr>\n",
       "    <tr>\n",
       "      <th>ирландский паб</th>\n",
       "      <td>2</td>\n",
       "      <td>мелкие</td>\n",
       "      <td>94</td>\n",
       "    </tr>\n",
       "    <tr>\n",
       "      <th>сбарро</th>\n",
       "      <td>2</td>\n",
       "      <td>мелкие</td>\n",
       "      <td>18</td>\n",
       "    </tr>\n",
       "    <tr>\n",
       "      <th>ми пьяче</th>\n",
       "      <td>2</td>\n",
       "      <td>мелкие</td>\n",
       "      <td>45</td>\n",
       "    </tr>\n",
       "    <tr>\n",
       "      <th>иль форно</th>\n",
       "      <td>2</td>\n",
       "      <td>мелкие</td>\n",
       "      <td>99</td>\n",
       "    </tr>\n",
       "    <tr>\n",
       "      <th>илья муромец</th>\n",
       "      <td>2</td>\n",
       "      <td>мелкие</td>\n",
       "      <td>94</td>\n",
       "    </tr>\n",
       "  </tbody>\n",
       "</table>\n",
       "<p>194 rows × 3 columns</p>\n",
       "</div>"
      ],
      "text/plain": [
       "                 id chain_status  number_aver\n",
       "object_name                                  \n",
       "шоколадница     179      крупные           58\n",
       "kfc             167      крупные           57\n",
       "макдоналдс      157      крупные           91\n",
       "бургер кинг     144      крупные           49\n",
       "теремок         101      крупные           28\n",
       "...             ...          ...          ...\n",
       "ирландский паб    2       мелкие           94\n",
       "сбарро            2       мелкие           18\n",
       "ми пьяче          2       мелкие           45\n",
       "иль форно         2       мелкие           99\n",
       "илья муромец      2       мелкие           94\n",
       "\n",
       "[194 rows x 3 columns]"
      ]
     },
     "execution_count": 172,
     "metadata": {},
     "output_type": "execute_result"
    }
   ],
   "source": [
    "# Добавим также колонку со средним значением посадочных мест\n",
    "\n",
    "df_chain['number_aver'] = (\n",
    "                            df.query('chain == \"да\"').\n",
    "                            pivot_table(index='object_name', values='number', aggfunc='mean').round()\n",
    "                          )\n",
    "\n",
    "df_chain"
   ]
  },
  {
   "cell_type": "code",
   "execution_count": 187,
   "id": "0b6c8d08",
   "metadata": {},
   "outputs": [
    {
     "data": {
      "image/png": "[encoded data removed]",
      "text/plain": [
       "<Figure size 864x576 with 1 Axes>"
      ]
     },
     "metadata": {},
     "output_type": "display_data"
    }
   ],
   "source": [
    "sns.set(rc={'figure.figsize':(12, 8)})\n",
    "\n",
    "ax = sns.boxplot(data=df_chain, x='chain_status', y='number_aver');\n",
    "\n",
    "ax.set_title('Боксплот по количеству посадочных мест и категории размера')\n",
    "ax.set_xlabel('')\n",
    "ax.set_ylabel('Среднее количество посадочных мест')\n",
    "plt.show();"
   ]
  },
  {
   "cell_type": "markdown",
   "id": "88b958c0",
   "metadata": {},
   "source": [
    "По графикам можно сказать, что подавляющее большинство мелких и крупных сетей по среднему количеству посадочных мест не превышает 150, средних - 200, выбросы с большими средними посадочными имеют лишь мелкие и средние сети."
   ]
  },
  {
   "cell_type": "code",
   "execution_count": 175,
   "id": "3a872dcb",
   "metadata": {
    "scrolled": true
   },
   "outputs": [
    {
     "data": {
      "text/html": [
       "<div>\n",
       "<style scoped>\n",
       "    .dataframe tbody tr th:only-of-type {\n",
       "        vertical-align: middle;\n",
       "    }\n",
       "\n",
       "    .dataframe tbody tr th {\n",
       "        vertical-align: top;\n",
       "    }\n",
       "\n",
       "    .dataframe thead th {\n",
       "        text-align: right;\n",
       "    }\n",
       "</style>\n",
       "<table border=\"1\" class=\"dataframe\">\n",
       "  <thead>\n",
       "    <tr style=\"text-align: right;\">\n",
       "      <th></th>\n",
       "      <th>sum_of_rests</th>\n",
       "      <th>sum_of_chains</th>\n",
       "      <th>rest_median</th>\n",
       "      <th>number_median</th>\n",
       "    </tr>\n",
       "    <tr>\n",
       "      <th>chain_status</th>\n",
       "      <th></th>\n",
       "      <th></th>\n",
       "      <th></th>\n",
       "      <th></th>\n",
       "    </tr>\n",
       "  </thead>\n",
       "  <tbody>\n",
       "    <tr>\n",
       "      <th>мелкие</th>\n",
       "      <td>118</td>\n",
       "      <td>59</td>\n",
       "      <td>2</td>\n",
       "      <td>35</td>\n",
       "    </tr>\n",
       "    <tr>\n",
       "      <th>средние</th>\n",
       "      <td>381</td>\n",
       "      <td>86</td>\n",
       "      <td>4</td>\n",
       "      <td>54</td>\n",
       "    </tr>\n",
       "    <tr>\n",
       "      <th>крупные</th>\n",
       "      <td>2028</td>\n",
       "      <td>49</td>\n",
       "      <td>28</td>\n",
       "      <td>40</td>\n",
       "    </tr>\n",
       "  </tbody>\n",
       "</table>\n",
       "</div>"
      ],
      "text/plain": [
       "              sum_of_rests  sum_of_chains  rest_median  number_median\n",
       "chain_status                                                         \n",
       "мелкие                 118             59            2             35\n",
       "средние                381             86            4             54\n",
       "крупные               2028             49           28             40"
      ]
     },
     "execution_count": 175,
     "metadata": {},
     "output_type": "execute_result"
    }
   ],
   "source": [
    "# Создадим сводную таблицу по типу сети с суммой ресторанов, сетей, \n",
    "# медианным количеством заведений и количеством посадочных мест\n",
    "\n",
    "df_chain.reset_index(inplace=True)\n",
    "df_chain_aver = df_chain.pivot_table(index='chain_status', values='id', aggfunc='sum')\n",
    "df_chain_aver.rename(columns={'id':'sum_of_rests'}, inplace=True)\n",
    "df_chain_aver['sum_of_chains'] = df_chain.pivot_table(index='chain_status',\n",
    "                                                      values='object_name', aggfunc='count')['object_name']\n",
    "df_chain_aver['rest_median'] = df_chain.pivot_table(index='chain_status', values='id', aggfunc='median')['id']\n",
    "df_chain_aver['number_median'] = df_chain.pivot_table(index='chain_status',\n",
    "                                                      values='number_aver', aggfunc='median')['number_aver']\n",
    "df_chain_aver"
   ]
  },
  {
   "cell_type": "markdown",
   "id": "06a879a2",
   "metadata": {},
   "source": [
    "Медианные средние места находятся в диапазоне 35-55 посадочных мест в зависимости от размера сети."
   ]
  },
  {
   "cell_type": "code",
   "execution_count": 191,
   "id": "8a098889",
   "metadata": {},
   "outputs": [
    {
     "data": {
      "image/png": "[encoded data removed]",
      "text/plain": [
       "<Figure size 864x432 with 1 Axes>"
      ]
     },
     "metadata": {},
     "output_type": "display_data"
    }
   ],
   "source": [
    "# Изобразим на графике\n",
    "\n",
    "fig, ax = plt.subplots(figsize=(12, 6))\n",
    "ax.set_xlabel('Среднее количество посадочных мест')\n",
    "ax.set_title('Отношение количества сетевых заведений к количеству посадочных мест')\n",
    "ax.set_ylabel('Количество заведений')\n",
    "sns.scatterplot(data=df_chain, x='number_aver', y='id', hue='chain_status');"
   ]
  },
  {
   "cell_type": "code",
   "execution_count": 177,
   "id": "52bbccf0",
   "metadata": {
    "scrolled": true
   },
   "outputs": [
    {
     "data": {
      "text/plain": [
       "3.0"
      ]
     },
     "execution_count": 177,
     "metadata": {},
     "output_type": "execute_result"
    }
   ],
   "source": [
    "# Медианное количество заведений по сетям, которые работают с типом \"кафе\".\n",
    "\n",
    "(\n",
    "df.query('chain == \"да\" and object_type == \"кафе\"')\n",
    "    .pivot_table(index='object_name', values='id', aggfunc='count').query('id > 1')\n",
    "    .sort_values(by='id', ascending=False)['id'].median()\n",
    ")"
   ]
  },
  {
   "cell_type": "markdown",
   "id": "3073b96c",
   "metadata": {},
   "source": [
    "### Графическое изображение кластеров с заведениями на карте <a id='10'></a>"
   ]
  },
  {
   "cell_type": "markdown",
   "id": "183fd1c1",
   "metadata": {},
   "source": [
    "Судя по медианному значению, среднее кафе имеет 3 объекта."
   ]
  },
  {
   "cell_type": "code",
   "execution_count": 5,
   "id": "36d5fae6",
   "metadata": {
    "scrolled": false
   },
   "outputs": [],
   "source": [
    "# Посмотрим общее распределение кафе по карте\n",
    "\n",
    "moscow_map = folium.Map(\n",
    "                 location = [55.7522, 37.6156],    # широта и долгота Москвы\n",
    "                 zoom_start = 10\n",
    "                 )\n",
    "                    \n",
    "\n",
    "moscow_cluster = MarkerCluster().add_to(moscow_map)\n",
    "\n",
    "\n",
    "#for i in df.query('coordinates == coordinates')['coordinates']:\n",
    "#    (\n",
    "#    folium.CircleMarker([i[0], i[1]], popup=\"{0}: {1}\".format(df['id'], df['id']), color='black', radius=1, fill=True).\n",
    "#    add_to(moscow_cluster)\n",
    "#    )\n",
    "\n",
    "#moscow_map"
   ]
  },
  {
   "cell_type": "markdown",
   "id": "b04115ca",
   "metadata": {},
   "source": [
    "К сожалению, удалить все объекты за пределами старой Москвы не удалось, но на карте хорошо видно, что основная доля заведений сосредоточена в Центральном округе."
   ]
  },
  {
   "cell_type": "code",
   "execution_count": 4,
   "id": "2e6dc049",
   "metadata": {
    "scrolled": false
   },
   "outputs": [],
   "source": [
    "# Приближенно взглянем на Арбат\n",
    "\n",
    "\n",
    "moscow_map = folium.Map(\n",
    "                 location = [55.7498333, 37.59141675270675],    # широта и долгота Арбата\n",
    "                 zoom_start = 15\n",
    "                 )\n",
    "                    \n",
    "\n",
    "\n",
    "moscow_cluster = MarkerCluster().add_to(moscow_map)\n",
    "\n",
    "#for i in df.query('coordinates == coordinates')['coordinates']:\n",
    "#    (\n",
    "#    folium.CircleMarker([i[0], i[1]], popup=\"{0}: {1}\".format(df['id'], df['id']), color='black', radius=1, fill=True).\n",
    "#    add_to(moscow_cluster)\n",
    "#    )\n",
    "\n",
    "\n",
    "#moscow_map"
   ]
  },
  {
   "cell_type": "markdown",
   "id": "00ca35ec",
   "metadata": {},
   "source": [
    "Как видно на карте, в районе Арбате самые ресторанные улицы - Арбат и, несколько меньше, Новый Арбат. При этом Арбат является улицей пешеходной. Возможно проанализировать проходимость улиц, пересекающих Арбат и Новый арбат, чтобы оценить возможность открыться на одной из них."
   ]
  },
  {
   "cell_type": "code",
   "execution_count": 3,
   "id": "26a5c295",
   "metadata": {
    "scrolled": false
   },
   "outputs": [],
   "source": [
    "# Приближенно взглянем на Пресенский район\n",
    "\n",
    "moscow_map = folium.Map(\n",
    "                 location = [55.7489657, 37.5387342220545],    # широта и долгота Пресенского района\n",
    "                 zoom_start = 14\n",
    "                 )\n",
    "                    \n",
    "\n",
    "moscow_cluster = MarkerCluster().add_to(moscow_map)\n",
    "\n",
    "#for i in df.query('coordinates == coordinates')['coordinates']:\n",
    "#    (\n",
    "#    folium.CircleMarker([i[0], i[1]], popup=\"{0}: {1}\".format(df['id'], df['id']), color='black', radius=1, fill=True).\n",
    "#    add_to(moscow_cluster)\n",
    "#    )\n",
    "\n",
    "#moscow_map"
   ]
  },
  {
   "cell_type": "markdown",
   "id": "26e2818e",
   "metadata": {},
   "source": [
    "Пресенский район - район Москва-сити, скорее бизнес-район, чем туристический, поэтому, лучше сделать ставку на Арбат и похожие на него улицы."
   ]
  },
  {
   "cell_type": "markdown",
   "id": "e4ef6c86",
   "metadata": {},
   "source": [
    "## Вывод <a id='11'></a>"
   ]
  },
  {
   "cell_type": "markdown",
   "id": "572479b3",
   "metadata": {},
   "source": [
    "Для анализа был получен набор открытых данных о заведения общественного питания Москвы. Основная проблема обнаружилась в том, что в данных находится инфомация о заведениях не только из старой Москвы, но также и из Новой Москвы и, возможно, Московской области. Также были обнаружены неявные дубликаты, которые были определены как заведения, у которых одинаковы название, адрес и тип. \n",
    "\n",
    "В данных содержалась информация не только о частных заведениях, но и о столовых в учебных заведениях, которые также были удалены.\n",
    "\n",
    "Удалению подлежали и заведения с количеством мест более 600, которые были определены как банкетные залы или ошибки.\n",
    "\n",
    "Для ограничения данных до пределов старой Москвы была предпринята попытка объединить датафрейм со списком районов и округов старой Москвы, после чего данные без округа были удалены. К сожалению, процедура не убрала окончательно заведения за пределами нужной нам территории. \n",
    "\n",
    "Для дальнейшего исследования сетевых ресторанов они были приведены к единым стилям. Для графического отображения на карте с помощью сервиса геокодирования были получены координаты для каждого адреса, кроме некоторых нечитаемых.\n",
    "\n",
    "Анализ данных выявил, что:\n",
    "\n",
    "\n",
    "- Самым распространенным типом заведения является кафе;\n",
    "\n",
    "\n",
    "- Несетевых заведений почти что в пять раз больше, чем сетевых;\n",
    "\n",
    "\n",
    "- Самый большой процент сетевых заведений среди предприятий быстрого обслуживания;\n",
    "\n",
    "\n",
    "- что подавляющее большинство мелких и крупных сетей по среднему количеству посадочных мест не превышает 150, средних - 200, выбросы с большими средними посадочными имеют лишь мелкие и средние сети;\n",
    "\n",
    "\n",
    "- Самое большое среднее количество посадочных - у столовых, медианное - у ресторанов. Кафе имеет 35 посадочных мест по медиане;\n",
    "\n",
    "\n",
    "- Среди сетевых кафе среднее количество заведений в сети - 3;\n",
    "\n",
    "\n",
    "- Большинство улиц, на которых находится самое большое количество ресторанов, проходят через несколько районов и/или округов, поэтому это число является показателем их размера, а не популярности. Как исключения мы определили Новую Арбатскую улицу и Пресненскую набережную;\n",
    "\n",
    "\n",
    "- Обе эти улицы находятся в самом ресторанном округе - Центральном, в районах Арбат и Пресненский соответственно. При этом Пресненская набережная - Москва-сити, является больше бизнес-центром, чем центром гастрономии, поэтому внимание стоит уделить Арбатскому району.\n",
    "\n",
    "\n",
    "- В нем существует две улицы, на каждой из которых находится большое количество заведений: Новый Арбат и Арбат, при этом последняя является пешеходной. Кроме того, в районе существует 17 улиц, на которых находится всего по одному заведению.\n",
    "\n",
    "\n",
    "- Учитывая высокую проходимость района и его двух основных улиц, имеет смысл проанализировать проходимость тех улиц, которые прилегают к Новому Арбату и Арбату, чтобы оценить возможность открытия на них;\n",
    "\n",
    "\n",
    "- Резюмируя, можно сказать, что для кафе потребуется помещение, способное обеспечить 35-45 посадочных мест на улице с высокой (включая туристическую) проходимостью (к примеру, в районе Арбата). Для кафе не очень характерны сети, но такие заведения все же существуют."
   ]
  }
 ],
 "metadata": {
  "ExecuteTimeLog": [
   {
    "duration": 112,
    "start_time": "2022-08-22T18:24:46.835Z"
   },
   {
    "duration": 114,
    "start_time": "2022-08-22T18:25:55.163Z"
   },
   {
    "duration": 115,
    "start_time": "2022-08-22T18:25:55.973Z"
   },
   {
    "duration": 15721,
    "start_time": "2022-08-22T18:26:02.204Z"
   },
   {
    "duration": 7518,
    "start_time": "2022-08-22T18:26:29.875Z"
   },
   {
    "duration": 1197,
    "start_time": "2022-08-22T18:26:37.395Z"
   },
   {
    "duration": 4,
    "start_time": "2022-08-22T18:26:38.594Z"
   },
   {
    "duration": 81,
    "start_time": "2022-08-22T18:26:38.601Z"
   },
   {
    "duration": 32,
    "start_time": "2022-08-22T18:26:38.684Z"
   },
   {
    "duration": 11,
    "start_time": "2022-08-22T18:26:38.717Z"
   },
   {
    "duration": 18,
    "start_time": "2022-08-22T18:26:38.729Z"
   },
   {
    "duration": 39,
    "start_time": "2022-08-22T18:26:38.749Z"
   },
   {
    "duration": 14,
    "start_time": "2022-08-22T18:26:38.790Z"
   },
   {
    "duration": 13,
    "start_time": "2022-08-22T18:26:38.807Z"
   },
   {
    "duration": 4,
    "start_time": "2022-08-22T18:26:38.822Z"
   },
   {
    "duration": 12,
    "start_time": "2022-08-22T18:26:38.828Z"
   },
   {
    "duration": 16,
    "start_time": "2022-08-22T18:26:38.842Z"
   },
   {
    "duration": 393,
    "start_time": "2022-08-22T18:26:38.860Z"
   },
   {
    "duration": 22,
    "start_time": "2022-08-22T18:26:39.254Z"
   },
   {
    "duration": 15,
    "start_time": "2022-08-22T18:26:39.278Z"
   },
   {
    "duration": 6,
    "start_time": "2022-08-22T18:26:39.295Z"
   },
   {
    "duration": 17,
    "start_time": "2022-08-22T18:26:39.303Z"
   },
   {
    "duration": 10,
    "start_time": "2022-08-22T18:26:39.322Z"
   },
   {
    "duration": 5,
    "start_time": "2022-08-22T18:26:39.333Z"
   },
   {
    "duration": 35,
    "start_time": "2022-08-22T18:26:39.340Z"
   },
   {
    "duration": 5,
    "start_time": "2022-08-22T18:26:39.377Z"
   },
   {
    "duration": 13,
    "start_time": "2022-08-22T18:26:39.385Z"
   },
   {
    "duration": 18,
    "start_time": "2022-08-22T18:26:39.400Z"
   },
   {
    "duration": 7,
    "start_time": "2022-08-22T18:26:39.420Z"
   },
   {
    "duration": 918,
    "start_time": "2022-08-22T18:26:39.429Z"
   },
   {
    "duration": 8,
    "start_time": "2022-08-22T18:26:40.349Z"
   },
   {
    "duration": 30,
    "start_time": "2022-08-22T18:26:40.371Z"
   },
   {
    "duration": 13,
    "start_time": "2022-08-22T18:26:40.403Z"
   },
   {
    "duration": 10,
    "start_time": "2022-08-22T18:26:40.418Z"
   },
   {
    "duration": 21,
    "start_time": "2022-08-22T18:26:40.430Z"
   },
   {
    "duration": 23,
    "start_time": "2022-08-22T18:26:40.453Z"
   },
   {
    "duration": 8,
    "start_time": "2022-08-22T18:26:40.477Z"
   },
   {
    "duration": 19,
    "start_time": "2022-08-22T18:26:40.487Z"
   },
   {
    "duration": 39,
    "start_time": "2022-08-22T18:26:40.508Z"
   },
   {
    "duration": 11,
    "start_time": "2022-08-22T18:26:40.567Z"
   },
   {
    "duration": 10,
    "start_time": "2022-08-22T18:26:40.580Z"
   },
   {
    "duration": 17,
    "start_time": "2022-08-22T18:26:40.592Z"
   },
   {
    "duration": 20,
    "start_time": "2022-08-22T18:26:40.611Z"
   },
   {
    "duration": 7,
    "start_time": "2022-08-22T18:26:40.633Z"
   },
   {
    "duration": 65,
    "start_time": "2022-08-22T18:26:40.642Z"
   },
   {
    "duration": 8,
    "start_time": "2022-08-22T18:26:40.708Z"
   },
   {
    "duration": 12,
    "start_time": "2022-08-22T18:26:40.718Z"
   },
   {
    "duration": 42,
    "start_time": "2022-08-22T18:26:40.731Z"
   },
   {
    "duration": 5,
    "start_time": "2022-08-22T18:26:40.775Z"
   },
   {
    "duration": 16,
    "start_time": "2022-08-22T18:26:40.782Z"
   },
   {
    "duration": 10,
    "start_time": "2022-08-22T18:26:40.800Z"
   },
   {
    "duration": 14,
    "start_time": "2022-08-22T18:26:40.812Z"
   },
   {
    "duration": 8,
    "start_time": "2022-08-22T18:26:40.829Z"
   },
   {
    "duration": 41,
    "start_time": "2022-08-22T18:26:40.839Z"
   },
   {
    "duration": 8,
    "start_time": "2022-08-22T18:26:40.882Z"
   },
   {
    "duration": 6,
    "start_time": "2022-08-22T18:26:40.892Z"
   },
   {
    "duration": 1245,
    "start_time": "2022-08-22T18:26:40.899Z"
   },
   {
    "duration": 8,
    "start_time": "2022-08-22T18:26:42.146Z"
   },
   {
    "duration": 12,
    "start_time": "2022-08-22T18:26:42.156Z"
   },
   {
    "duration": 16,
    "start_time": "2022-08-22T18:26:42.170Z"
   },
   {
    "duration": 102,
    "start_time": "2022-08-22T18:26:42.188Z"
   },
   {
    "duration": 17,
    "start_time": "2022-08-22T18:26:42.292Z"
   },
   {
    "duration": 230,
    "start_time": "2022-08-22T18:26:42.310Z"
   },
   {
    "duration": 14,
    "start_time": "2022-08-22T18:26:42.541Z"
   },
   {
    "duration": 347,
    "start_time": "2022-08-22T18:26:42.567Z"
   },
   {
    "duration": 59,
    "start_time": "2022-08-22T18:26:42.915Z"
   },
   {
    "duration": 282,
    "start_time": "2022-08-22T18:26:42.975Z"
   },
   {
    "duration": 24,
    "start_time": "2022-08-22T18:26:43.259Z"
   },
   {
    "duration": 18,
    "start_time": "2022-08-22T18:26:43.284Z"
   },
   {
    "duration": 255,
    "start_time": "2022-08-22T18:26:43.303Z"
   },
   {
    "duration": 18,
    "start_time": "2022-08-22T18:26:43.568Z"
   },
   {
    "duration": 1534,
    "start_time": "2022-08-22T18:26:43.587Z"
   },
   {
    "duration": 17,
    "start_time": "2022-08-22T18:26:45.124Z"
   },
   {
    "duration": 36,
    "start_time": "2022-08-22T18:26:45.143Z"
   },
   {
    "duration": 19,
    "start_time": "2022-08-22T18:26:45.181Z"
   },
   {
    "duration": 20,
    "start_time": "2022-08-22T18:26:45.201Z"
   },
   {
    "duration": 7,
    "start_time": "2022-08-22T18:26:45.223Z"
   },
   {
    "duration": 40,
    "start_time": "2022-08-22T18:26:45.232Z"
   },
   {
    "duration": 19,
    "start_time": "2022-08-22T18:26:45.274Z"
   },
   {
    "duration": 62,
    "start_time": "2022-08-22T18:26:45.294Z"
   },
   {
    "duration": 66,
    "start_time": "2022-08-22T18:26:45.357Z"
   },
   {
    "duration": 78,
    "start_time": "2022-08-22T18:26:45.425Z"
   },
   {
    "duration": 168,
    "start_time": "2022-08-22T18:26:45.504Z"
   },
   {
    "duration": 18,
    "start_time": "2022-08-22T18:26:45.673Z"
   },
   {
    "duration": 26847,
    "start_time": "2022-08-22T18:26:45.693Z"
   },
   {
    "duration": 27463,
    "start_time": "2022-08-22T18:27:12.567Z"
   },
   {
    "duration": 26706,
    "start_time": "2022-08-22T18:27:40.032Z"
   },
   {
    "duration": 12,
    "start_time": "2022-08-22T18:31:36.796Z"
   },
   {
    "duration": 9267,
    "start_time": "2022-08-22T18:31:43.801Z"
   },
   {
    "duration": 1016,
    "start_time": "2022-08-22T18:31:53.070Z"
   },
   {
    "duration": 5,
    "start_time": "2022-08-22T18:31:54.088Z"
   },
   {
    "duration": 72,
    "start_time": "2022-08-22T18:31:54.095Z"
   },
   {
    "duration": 34,
    "start_time": "2022-08-22T18:31:54.169Z"
   },
   {
    "duration": 10,
    "start_time": "2022-08-22T18:31:54.205Z"
   },
   {
    "duration": 10,
    "start_time": "2022-08-22T18:31:54.217Z"
   },
   {
    "duration": 49,
    "start_time": "2022-08-22T18:31:54.229Z"
   },
   {
    "duration": 6,
    "start_time": "2022-08-22T18:31:54.281Z"
   },
   {
    "duration": 27,
    "start_time": "2022-08-22T18:31:54.291Z"
   },
   {
    "duration": 25,
    "start_time": "2022-08-22T18:31:54.321Z"
   },
   {
    "duration": 17,
    "start_time": "2022-08-22T18:31:54.348Z"
   },
   {
    "duration": 63,
    "start_time": "2022-08-22T18:31:54.368Z"
   },
   {
    "duration": 447,
    "start_time": "2022-08-22T18:31:54.433Z"
   },
   {
    "duration": 20,
    "start_time": "2022-08-22T18:31:54.883Z"
   },
   {
    "duration": 17,
    "start_time": "2022-08-22T18:31:54.905Z"
   },
   {
    "duration": 13,
    "start_time": "2022-08-22T18:31:54.924Z"
   },
   {
    "duration": 40,
    "start_time": "2022-08-22T18:31:54.939Z"
   },
   {
    "duration": 22,
    "start_time": "2022-08-22T18:31:54.981Z"
   },
   {
    "duration": 9,
    "start_time": "2022-08-22T18:31:55.005Z"
   },
   {
    "duration": 8,
    "start_time": "2022-08-22T18:31:55.016Z"
   },
   {
    "duration": 13,
    "start_time": "2022-08-22T18:31:55.026Z"
   },
   {
    "duration": 30,
    "start_time": "2022-08-22T18:31:55.041Z"
   },
   {
    "duration": 13,
    "start_time": "2022-08-22T18:31:55.072Z"
   },
   {
    "duration": 11,
    "start_time": "2022-08-22T18:31:55.087Z"
   },
   {
    "duration": 9,
    "start_time": "2022-08-22T18:31:55.100Z"
   },
   {
    "duration": 944,
    "start_time": "2022-08-22T18:31:55.111Z"
   },
   {
    "duration": 11,
    "start_time": "2022-08-22T18:31:56.060Z"
   },
   {
    "duration": 29,
    "start_time": "2022-08-22T18:31:56.073Z"
   },
   {
    "duration": 11,
    "start_time": "2022-08-22T18:31:56.103Z"
   },
   {
    "duration": 7,
    "start_time": "2022-08-22T18:31:56.116Z"
   },
   {
    "duration": 20,
    "start_time": "2022-08-22T18:31:56.125Z"
   },
   {
    "duration": 35,
    "start_time": "2022-08-22T18:31:56.147Z"
   },
   {
    "duration": 5,
    "start_time": "2022-08-22T18:31:56.184Z"
   },
   {
    "duration": 12,
    "start_time": "2022-08-22T18:31:56.191Z"
   },
   {
    "duration": 38,
    "start_time": "2022-08-22T18:31:56.205Z"
   },
   {
    "duration": 30,
    "start_time": "2022-08-22T18:31:56.244Z"
   },
   {
    "duration": 10,
    "start_time": "2022-08-22T18:31:56.277Z"
   },
   {
    "duration": 16,
    "start_time": "2022-08-22T18:31:56.289Z"
   },
   {
    "duration": 20,
    "start_time": "2022-08-22T18:31:56.308Z"
   },
   {
    "duration": 8,
    "start_time": "2022-08-22T18:31:56.330Z"
   },
   {
    "duration": 64,
    "start_time": "2022-08-22T18:31:56.340Z"
   },
   {
    "duration": 8,
    "start_time": "2022-08-22T18:31:56.406Z"
   },
   {
    "duration": 13,
    "start_time": "2022-08-22T18:31:56.416Z"
   },
   {
    "duration": 43,
    "start_time": "2022-08-22T18:31:56.431Z"
   },
   {
    "duration": 11,
    "start_time": "2022-08-22T18:31:56.476Z"
   },
   {
    "duration": 29,
    "start_time": "2022-08-22T18:31:56.489Z"
   },
   {
    "duration": 15,
    "start_time": "2022-08-22T18:31:56.520Z"
   },
   {
    "duration": 41,
    "start_time": "2022-08-22T18:31:56.537Z"
   },
   {
    "duration": 10,
    "start_time": "2022-08-22T18:31:56.580Z"
   },
   {
    "duration": 27,
    "start_time": "2022-08-22T18:31:56.593Z"
   },
   {
    "duration": 6,
    "start_time": "2022-08-22T18:31:56.622Z"
   },
   {
    "duration": 15,
    "start_time": "2022-08-22T18:31:56.631Z"
   },
   {
    "duration": 1535,
    "start_time": "2022-08-22T18:31:56.649Z"
   },
   {
    "duration": 7,
    "start_time": "2022-08-22T18:31:58.186Z"
   },
   {
    "duration": 10,
    "start_time": "2022-08-22T18:31:58.195Z"
   },
   {
    "duration": 15,
    "start_time": "2022-08-22T18:31:58.207Z"
   },
   {
    "duration": 113,
    "start_time": "2022-08-22T18:31:58.224Z"
   },
   {
    "duration": 28,
    "start_time": "2022-08-22T18:31:58.339Z"
   },
   {
    "duration": 234,
    "start_time": "2022-08-22T18:31:58.369Z"
   },
   {
    "duration": 15,
    "start_time": "2022-08-22T18:31:58.604Z"
   },
   {
    "duration": 352,
    "start_time": "2022-08-22T18:31:58.621Z"
   },
   {
    "duration": 38,
    "start_time": "2022-08-22T18:31:58.976Z"
   },
   {
    "duration": 358,
    "start_time": "2022-08-22T18:31:59.017Z"
   },
   {
    "duration": 21,
    "start_time": "2022-08-22T18:31:59.378Z"
   },
   {
    "duration": 21,
    "start_time": "2022-08-22T18:31:59.402Z"
   },
   {
    "duration": 508,
    "start_time": "2022-08-22T18:56:41.135Z"
   },
   {
    "duration": 17,
    "start_time": "2022-08-22T18:56:50.948Z"
   },
   {
    "duration": 6,
    "start_time": "2022-08-22T18:57:57.462Z"
   },
   {
    "duration": 9,
    "start_time": "2022-08-22T18:58:03.956Z"
   },
   {
    "duration": 9,
    "start_time": "2022-08-22T18:58:08.259Z"
   },
   {
    "duration": 6,
    "start_time": "2022-08-22T18:58:09.664Z"
   },
   {
    "duration": 8,
    "start_time": "2022-08-22T18:58:25.739Z"
   },
   {
    "duration": 6,
    "start_time": "2022-08-22T18:58:27.355Z"
   },
   {
    "duration": 9,
    "start_time": "2022-08-22T18:58:52.056Z"
   },
   {
    "duration": 6,
    "start_time": "2022-08-22T18:58:53.110Z"
   },
   {
    "duration": 6,
    "start_time": "2022-08-22T19:02:52.508Z"
   },
   {
    "duration": 107,
    "start_time": "2022-08-22T19:04:22.787Z"
   },
   {
    "duration": 111,
    "start_time": "2022-08-22T19:04:23.357Z"
   },
   {
    "duration": 10252,
    "start_time": "2022-08-22T19:08:57.767Z"
   },
   {
    "duration": 1176,
    "start_time": "2022-08-22T19:09:08.022Z"
   },
   {
    "duration": 4,
    "start_time": "2022-08-22T19:09:09.200Z"
   },
   {
    "duration": 63,
    "start_time": "2022-08-22T19:09:09.207Z"
   },
   {
    "duration": 35,
    "start_time": "2022-08-22T19:09:09.272Z"
   },
   {
    "duration": 7,
    "start_time": "2022-08-22T19:09:09.309Z"
   },
   {
    "duration": 12,
    "start_time": "2022-08-22T19:09:09.318Z"
   },
   {
    "duration": 38,
    "start_time": "2022-08-22T19:09:09.331Z"
   },
   {
    "duration": 4,
    "start_time": "2022-08-22T19:09:09.371Z"
   },
   {
    "duration": 17,
    "start_time": "2022-08-22T19:09:09.378Z"
   },
   {
    "duration": 8,
    "start_time": "2022-08-22T19:09:09.396Z"
   },
   {
    "duration": 6,
    "start_time": "2022-08-22T19:09:09.406Z"
   },
   {
    "duration": 13,
    "start_time": "2022-08-22T19:09:09.413Z"
   },
   {
    "duration": 431,
    "start_time": "2022-08-22T19:09:09.428Z"
   },
   {
    "duration": 19,
    "start_time": "2022-08-22T19:09:09.861Z"
   },
   {
    "duration": 15,
    "start_time": "2022-08-22T19:09:09.881Z"
   },
   {
    "duration": 8,
    "start_time": "2022-08-22T19:09:09.898Z"
   },
   {
    "duration": 9,
    "start_time": "2022-08-22T19:09:09.908Z"
   },
   {
    "duration": 16,
    "start_time": "2022-08-22T19:09:09.919Z"
   },
   {
    "duration": 37,
    "start_time": "2022-08-22T19:09:09.936Z"
   },
   {
    "duration": 7,
    "start_time": "2022-08-22T19:09:09.975Z"
   },
   {
    "duration": 11,
    "start_time": "2022-08-22T19:09:09.983Z"
   },
   {
    "duration": 6,
    "start_time": "2022-08-22T19:09:09.995Z"
   },
   {
    "duration": 10,
    "start_time": "2022-08-22T19:09:10.003Z"
   },
   {
    "duration": 8,
    "start_time": "2022-08-22T19:09:10.015Z"
   },
   {
    "duration": 44,
    "start_time": "2022-08-22T19:09:10.024Z"
   },
   {
    "duration": 10,
    "start_time": "2022-08-22T19:09:10.070Z"
   },
   {
    "duration": 8,
    "start_time": "2022-08-22T19:09:10.084Z"
   },
   {
    "duration": 911,
    "start_time": "2022-08-22T19:09:10.094Z"
   },
   {
    "duration": 7,
    "start_time": "2022-08-22T19:09:11.007Z"
   },
   {
    "duration": 32,
    "start_time": "2022-08-22T19:09:11.016Z"
   },
   {
    "duration": 22,
    "start_time": "2022-08-22T19:09:11.051Z"
   },
   {
    "duration": 13,
    "start_time": "2022-08-22T19:09:11.075Z"
   },
   {
    "duration": 6,
    "start_time": "2022-08-22T19:09:11.090Z"
   },
   {
    "duration": 19,
    "start_time": "2022-08-22T19:09:11.098Z"
   },
   {
    "duration": 11,
    "start_time": "2022-08-22T19:09:11.119Z"
   },
   {
    "duration": 5,
    "start_time": "2022-08-22T19:09:11.168Z"
   },
   {
    "duration": 13,
    "start_time": "2022-08-22T19:09:11.175Z"
   },
   {
    "duration": 41,
    "start_time": "2022-08-22T19:09:11.190Z"
   },
   {
    "duration": 43,
    "start_time": "2022-08-22T19:09:11.234Z"
   },
   {
    "duration": 10,
    "start_time": "2022-08-22T19:09:11.279Z"
   },
   {
    "duration": 15,
    "start_time": "2022-08-22T19:09:11.291Z"
   },
   {
    "duration": 25,
    "start_time": "2022-08-22T19:09:11.308Z"
   },
   {
    "duration": 34,
    "start_time": "2022-08-22T19:09:11.335Z"
   },
   {
    "duration": 49,
    "start_time": "2022-08-22T19:09:11.371Z"
   },
   {
    "duration": 9,
    "start_time": "2022-08-22T19:09:11.421Z"
   },
   {
    "duration": 19,
    "start_time": "2022-08-22T19:09:11.432Z"
   },
   {
    "duration": 31,
    "start_time": "2022-08-22T19:09:11.453Z"
   },
   {
    "duration": 7,
    "start_time": "2022-08-22T19:09:11.487Z"
   },
   {
    "duration": 43,
    "start_time": "2022-08-22T19:09:11.497Z"
   },
   {
    "duration": 17,
    "start_time": "2022-08-22T19:09:11.543Z"
   },
   {
    "duration": 23,
    "start_time": "2022-08-22T19:09:11.562Z"
   },
   {
    "duration": 22,
    "start_time": "2022-08-22T19:09:11.588Z"
   },
   {
    "duration": 21,
    "start_time": "2022-08-22T19:09:11.612Z"
   },
   {
    "duration": 7,
    "start_time": "2022-08-22T19:09:11.635Z"
   },
   {
    "duration": 7,
    "start_time": "2022-08-22T19:09:11.644Z"
   },
   {
    "duration": 1204,
    "start_time": "2022-08-22T19:09:11.653Z"
   },
   {
    "duration": 7,
    "start_time": "2022-08-22T19:09:12.859Z"
   },
   {
    "duration": 10,
    "start_time": "2022-08-22T19:09:12.867Z"
   },
   {
    "duration": 19,
    "start_time": "2022-08-22T19:09:12.879Z"
   },
   {
    "duration": 97,
    "start_time": "2022-08-22T19:09:12.900Z"
   },
   {
    "duration": 18,
    "start_time": "2022-08-22T19:09:12.998Z"
   },
   {
    "duration": 238,
    "start_time": "2022-08-22T19:09:13.018Z"
   },
   {
    "duration": 18,
    "start_time": "2022-08-22T19:09:13.258Z"
   },
   {
    "duration": 331,
    "start_time": "2022-08-22T19:09:13.278Z"
   },
   {
    "duration": 58,
    "start_time": "2022-08-22T19:09:13.611Z"
   },
   {
    "duration": 257,
    "start_time": "2022-08-22T19:09:13.671Z"
   },
   {
    "duration": 19,
    "start_time": "2022-08-22T19:09:13.930Z"
   },
   {
    "duration": 31,
    "start_time": "2022-08-22T19:09:13.952Z"
   },
   {
    "duration": 242,
    "start_time": "2022-08-22T19:09:13.984Z"
   },
   {
    "duration": 17,
    "start_time": "2022-08-22T19:09:14.228Z"
   },
   {
    "duration": 268,
    "start_time": "2022-08-22T19:09:14.246Z"
   },
   {
    "duration": 17,
    "start_time": "2022-08-22T19:09:14.516Z"
   },
   {
    "duration": 34,
    "start_time": "2022-08-22T19:09:14.535Z"
   },
   {
    "duration": 20,
    "start_time": "2022-08-22T19:09:14.570Z"
   },
   {
    "duration": 19,
    "start_time": "2022-08-22T19:09:14.592Z"
   },
   {
    "duration": 7,
    "start_time": "2022-08-22T19:09:14.614Z"
   },
   {
    "duration": 9,
    "start_time": "2022-08-22T19:09:14.622Z"
   },
   {
    "duration": 39,
    "start_time": "2022-08-22T19:09:14.633Z"
   },
   {
    "duration": 20,
    "start_time": "2022-08-22T19:09:14.675Z"
   },
   {
    "duration": 15,
    "start_time": "2022-08-22T19:09:14.697Z"
   },
   {
    "duration": 53,
    "start_time": "2022-08-22T19:09:14.718Z"
   },
   {
    "duration": 157,
    "start_time": "2022-08-22T19:09:14.773Z"
   },
   {
    "duration": 18,
    "start_time": "2022-08-22T19:09:14.933Z"
   },
   {
    "duration": 26878,
    "start_time": "2022-08-22T19:09:14.967Z"
   },
   {
    "duration": 27496,
    "start_time": "2022-08-22T19:09:41.847Z"
   },
   {
    "duration": 27110,
    "start_time": "2022-08-22T19:10:09.344Z"
   },
   {
    "duration": 9236,
    "start_time": "2022-08-22T19:11:51.557Z"
   },
   {
    "duration": 1002,
    "start_time": "2022-08-22T19:12:00.796Z"
   },
   {
    "duration": 4,
    "start_time": "2022-08-22T19:12:01.800Z"
   },
   {
    "duration": 82,
    "start_time": "2022-08-22T19:12:01.806Z"
   },
   {
    "duration": 34,
    "start_time": "2022-08-22T19:12:01.890Z"
   },
   {
    "duration": 7,
    "start_time": "2022-08-22T19:12:01.926Z"
   },
   {
    "duration": 34,
    "start_time": "2022-08-22T19:12:01.935Z"
   },
   {
    "duration": 10,
    "start_time": "2022-08-22T19:12:01.971Z"
   },
   {
    "duration": 9,
    "start_time": "2022-08-22T19:12:01.982Z"
   },
   {
    "duration": 20,
    "start_time": "2022-08-22T19:12:01.994Z"
   },
   {
    "duration": 5,
    "start_time": "2022-08-22T19:12:02.015Z"
   },
   {
    "duration": 7,
    "start_time": "2022-08-22T19:12:02.022Z"
   },
   {
    "duration": 33,
    "start_time": "2022-08-22T19:12:02.031Z"
   },
   {
    "duration": 388,
    "start_time": "2022-08-22T19:12:02.066Z"
   },
   {
    "duration": 21,
    "start_time": "2022-08-22T19:12:02.455Z"
   },
   {
    "duration": 13,
    "start_time": "2022-08-22T19:12:02.478Z"
   },
   {
    "duration": 7,
    "start_time": "2022-08-22T19:12:02.493Z"
   },
   {
    "duration": 16,
    "start_time": "2022-08-22T19:12:02.502Z"
   },
   {
    "duration": 29,
    "start_time": "2022-08-22T19:12:02.520Z"
   },
   {
    "duration": 8,
    "start_time": "2022-08-22T19:12:02.551Z"
   },
   {
    "duration": 8,
    "start_time": "2022-08-22T19:12:02.568Z"
   },
   {
    "duration": 13,
    "start_time": "2022-08-22T19:12:02.577Z"
   },
   {
    "duration": 35,
    "start_time": "2022-08-22T19:12:02.591Z"
   },
   {
    "duration": 11,
    "start_time": "2022-08-22T19:12:02.627Z"
   },
   {
    "duration": 30,
    "start_time": "2022-08-22T19:12:02.640Z"
   },
   {
    "duration": 12,
    "start_time": "2022-08-22T19:12:02.672Z"
   },
   {
    "duration": 15,
    "start_time": "2022-08-22T19:12:02.685Z"
   },
   {
    "duration": 6,
    "start_time": "2022-08-22T19:12:02.705Z"
   },
   {
    "duration": 904,
    "start_time": "2022-08-22T19:12:02.713Z"
   },
   {
    "duration": 6,
    "start_time": "2022-08-22T19:12:03.618Z"
   },
   {
    "duration": 32,
    "start_time": "2022-08-22T19:12:03.626Z"
   },
   {
    "duration": 6,
    "start_time": "2022-08-22T19:12:03.667Z"
   },
   {
    "duration": 10,
    "start_time": "2022-08-22T19:12:03.675Z"
   },
   {
    "duration": 5,
    "start_time": "2022-08-22T19:12:03.687Z"
   },
   {
    "duration": 17,
    "start_time": "2022-08-22T19:12:03.693Z"
   },
   {
    "duration": 11,
    "start_time": "2022-08-22T19:12:03.711Z"
   },
   {
    "duration": 31,
    "start_time": "2022-08-22T19:12:03.724Z"
   },
   {
    "duration": 48,
    "start_time": "2022-08-22T19:12:03.757Z"
   },
   {
    "duration": 52,
    "start_time": "2022-08-22T19:12:03.807Z"
   },
   {
    "duration": 12,
    "start_time": "2022-08-22T19:12:03.860Z"
   },
   {
    "duration": 14,
    "start_time": "2022-08-22T19:12:03.874Z"
   },
   {
    "duration": 15,
    "start_time": "2022-08-22T19:12:03.890Z"
   },
   {
    "duration": 20,
    "start_time": "2022-08-22T19:12:03.907Z"
   },
   {
    "duration": 7,
    "start_time": "2022-08-22T19:12:03.929Z"
   },
   {
    "duration": 59,
    "start_time": "2022-08-22T19:12:03.938Z"
   },
   {
    "duration": 8,
    "start_time": "2022-08-22T19:12:03.998Z"
   },
   {
    "duration": 16,
    "start_time": "2022-08-22T19:12:04.008Z"
   },
   {
    "duration": 18,
    "start_time": "2022-08-22T19:12:04.026Z"
   },
   {
    "duration": 23,
    "start_time": "2022-08-22T19:12:04.046Z"
   },
   {
    "duration": 20,
    "start_time": "2022-08-22T19:12:04.071Z"
   },
   {
    "duration": 10,
    "start_time": "2022-08-22T19:12:04.093Z"
   },
   {
    "duration": 38,
    "start_time": "2022-08-22T19:12:04.105Z"
   },
   {
    "duration": 8,
    "start_time": "2022-08-22T19:12:04.145Z"
   },
   {
    "duration": 17,
    "start_time": "2022-08-22T19:12:04.154Z"
   },
   {
    "duration": 4,
    "start_time": "2022-08-22T19:12:04.173Z"
   },
   {
    "duration": 8,
    "start_time": "2022-08-22T19:12:04.178Z"
   },
   {
    "duration": 1008,
    "start_time": "2022-08-22T19:12:04.188Z"
   },
   {
    "duration": 8,
    "start_time": "2022-08-22T19:12:05.198Z"
   },
   {
    "duration": 10,
    "start_time": "2022-08-22T19:12:05.207Z"
   },
   {
    "duration": 12,
    "start_time": "2022-08-22T19:12:05.219Z"
   },
   {
    "duration": 107,
    "start_time": "2022-08-22T19:12:05.233Z"
   },
   {
    "duration": 27,
    "start_time": "2022-08-22T19:12:05.342Z"
   },
   {
    "duration": 230,
    "start_time": "2022-08-22T19:12:05.370Z"
   },
   {
    "duration": 23,
    "start_time": "2022-08-22T19:12:05.601Z"
   },
   {
    "duration": 448,
    "start_time": "2022-08-22T19:12:05.625Z"
   },
   {
    "duration": 36,
    "start_time": "2022-08-22T19:12:06.075Z"
   },
   {
    "duration": 313,
    "start_time": "2022-08-22T19:12:06.113Z"
   },
   {
    "duration": 19,
    "start_time": "2022-08-22T19:12:06.429Z"
   },
   {
    "duration": 41,
    "start_time": "2022-08-22T19:12:06.450Z"
   },
   {
    "duration": 314,
    "start_time": "2022-08-22T19:12:06.493Z"
   },
   {
    "duration": 19,
    "start_time": "2022-08-22T19:12:06.809Z"
   },
   {
    "duration": 274,
    "start_time": "2022-08-22T19:12:06.829Z"
   },
   {
    "duration": 17,
    "start_time": "2022-08-22T19:12:07.105Z"
   },
   {
    "duration": 16,
    "start_time": "2022-08-22T19:12:07.124Z"
   },
   {
    "duration": 44,
    "start_time": "2022-08-22T19:12:07.142Z"
   },
   {
    "duration": 18,
    "start_time": "2022-08-22T19:12:07.188Z"
   },
   {
    "duration": 7,
    "start_time": "2022-08-22T19:12:07.208Z"
   },
   {
    "duration": 8,
    "start_time": "2022-08-22T19:12:07.217Z"
   },
   {
    "duration": 10,
    "start_time": "2022-08-22T19:12:07.226Z"
   },
   {
    "duration": 46,
    "start_time": "2022-08-22T19:12:07.238Z"
   },
   {
    "duration": 16,
    "start_time": "2022-08-22T19:12:07.286Z"
   },
   {
    "duration": 25,
    "start_time": "2022-08-22T19:12:07.308Z"
   },
   {
    "duration": 186,
    "start_time": "2022-08-22T19:12:07.335Z"
   },
   {
    "duration": 24,
    "start_time": "2022-08-22T19:12:07.523Z"
   },
   {
    "duration": 13609,
    "start_time": "2022-08-22T19:12:07.549Z"
   },
   {
    "duration": 14208,
    "start_time": "2022-08-22T19:12:21.160Z"
   },
   {
    "duration": 13562,
    "start_time": "2022-08-22T19:12:35.369Z"
   },
   {
    "duration": 147,
    "start_time": "2022-08-22T19:15:18.214Z"
   },
   {
    "duration": 296,
    "start_time": "2022-08-22T19:15:24.138Z"
   },
   {
    "duration": 301,
    "start_time": "2022-08-22T19:16:07.904Z"
   },
   {
    "duration": 321,
    "start_time": "2022-08-22T19:16:11.436Z"
   },
   {
    "duration": 361,
    "start_time": "2022-08-22T19:16:27.801Z"
   }
  ],
  "kernelspec": {
   "display_name": "Python 3 (ipykernel)",
   "language": "python",
   "name": "python3"
  },
  "language_info": {
   "codemirror_mode": {
    "name": "ipython",
    "version": 3
   },
   "file_extension": ".py",
   "mimetype": "text/x-python",
   "name": "python",
   "nbconvert_exporter": "python",
   "pygments_lexer": "ipython3",
   "version": "3.9.12"
  },
  "toc": {
   "base_numbering": 1,
   "nav_menu": {},
   "number_sections": true,
   "sideBar": true,
   "skip_h1_title": true,
   "title_cell": "Table of Contents",
   "title_sidebar": "Contents",
   "toc_cell": false,
   "toc_position": {},
   "toc_section_display": true,
   "toc_window_display": false
  }
 },
 "nbformat": 4,
 "nbformat_minor": 5
}
